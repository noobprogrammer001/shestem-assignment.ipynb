{
  "cells": [
    {
      "cell_type": "markdown",
      "metadata": {
        "id": "sEbBmaClik7J"
      },
      "source": [
        "# #cheapter No-1"
      ]
    },
    {
      "cell_type": "markdown",
      "metadata": {
        "id": "44hY8xnZkF8D"
      },
      "source": [
        "## ##Class-2 Home Work-1 (001)"
      ]
    },
    {
      "cell_type": "code",
      "execution_count": null,
      "metadata": {
        "cellView": "form",
        "id": "cE_3LWNFufZm"
      },
      "outputs": [],
      "source": [
        "# @title bool\n",
        " a = int(input('enter 1st number:'))\n",
        " b = int(input('enter 2nd number:'))\n",
        " print('a=<b =',a<=b)\n",
        " print('a=>b =',a>=b)"
      ]
    },
    {
      "cell_type": "markdown",
      "metadata": {
        "id": "HO79anZuuHvL"
      },
      "source": [
        "### ### 10 problem solved"
      ]
    },
    {
      "cell_type": "code",
      "execution_count": null,
      "metadata": {
        "cellView": "form",
        "id": "QJ_XdpbNkQk6"
      },
      "outputs": [],
      "source": [
        "# @title simple calculator (up to 10 calculatons.)\n",
        "print('simple calculator (up to 10 calculatons.)')\n",
        "print('enter \"x\" at any point the program should be exit.')\n",
        "for i in range(10):\n",
        "  op = input(\"choose a operator('+','-','*','/','%','**')\")\n",
        "  if op =='x':\n",
        "    print('Exited by user.')\n",
        "    break\n",
        "  if op not in ('+','-','*','/','%','**'):\n",
        "    print('Invalid operator\\nplease try again.')\n",
        "    continue\n",
        "  num1 = input('enter the frist number:')\n",
        "  if num1=='x':\n",
        "    print('Exited by user.')\n",
        "    break\n",
        "  num2 = input('enter the second number:')\n",
        "  if num2=='x':\n",
        "    print('Exited by user.')\n",
        "    break\n",
        "  try:\n",
        "    num1=float(num1)\n",
        "    num2=float(num2)\n",
        "\n",
        "    if op =='+':\n",
        "      result = num1+num2\n",
        "\n",
        "    elif op ==\"-\":\n",
        "      result = num1 - num2\n",
        "\n",
        "    elif op =='*':\n",
        "      result = num1*num2\n",
        "\n",
        "    elif op =='/':\n",
        "      if num2==0:\n",
        "        print('cannot divided by zero.')\n",
        "        continue\n",
        "      result = num1/num2\n",
        "\n",
        "    elif op =='%':\n",
        "      result = num1 % num2\n",
        "\n",
        "    elif op =='**':\n",
        "      result = num1 ** num2\n",
        "\n",
        "    print('The result is =',result)\n",
        "\n",
        "  except ValueError:\n",
        "      print('Invalid number.\\nPlease try again!!!')\n"
      ]
    },
    {
      "cell_type": "code",
      "execution_count": null,
      "metadata": {
        "cellView": "form",
        "id": "peyq0cawksCg"
      },
      "outputs": [],
      "source": [
        "# @title Simple calculator(up to 5 calculations.) While loop\n",
        "print('Simple calculator(up to 5 calculations.)')\n",
        "print('enter \"x\" at any point the program should be exit.')\n",
        "i=0\n",
        "while i <5 :\n",
        "  op = input(\"choose a operator('+','-','*','/','%','**')\")\n",
        "  if op =='x':\n",
        "    print('exited by user.')\n",
        "    break\n",
        "  if op not in ('+','-','*','/','%','**'):\n",
        "    print('Invalid operator \\nplease try again!!!')\n",
        "    continue\n",
        "  num1 = input('enter the frist number:')\n",
        "  if num1 =='x':\n",
        "    print('Exited by user.')\n",
        "    break\n",
        "  num2 = input('enter the second number:')\n",
        "  if num2 =='x':\n",
        "    print('Exited by user.')\n",
        "    break\n",
        "  try:\n",
        "    num1=float(num1)\n",
        "    num2=float(num2)\n",
        "    if op =='+':\n",
        "      result =num1+num2\n",
        "    elif op =='-':\n",
        "      result = num1 - num2\n",
        "    elif op =='*':\n",
        "      result = num1*num2\n",
        "    elif op =='/':\n",
        "      if num2 ==0:\n",
        "        print('cannot divided by zero.')\n",
        "        continue\n",
        "      result = num1/num2\n",
        "    elif op =='%':\n",
        "      result = num1%num2\n",
        "    elif op =='**':\n",
        "      result = num1**num2\n",
        "    print(f'result:{result} \\n')\n",
        "    i = i+1\n",
        "  except ValueError:\n",
        "    print('Invalid number, please type a valid number.')\n",
        "\n",
        "\n",
        "\n",
        "\n",
        "\n",
        "\n"
      ]
    },
    {
      "cell_type": "code",
      "execution_count": null,
      "metadata": {
        "cellView": "form",
        "id": "8AKSLv5Fkr_x"
      },
      "outputs": [],
      "source": [
        "# @title Even or Odd Checker\n",
        "print('enter \"x\" at any point the program should be exit.')\n",
        "for i in range(2):\n",
        "  num = input('enter a number:')\n",
        "  if num =='x':\n",
        "    print('Exited by user.')\n",
        "    break\n",
        "  try:\n",
        "    num = int(num)\n",
        "    if num%2==0:\n",
        "      print(f'{num} is an even number.')\n",
        "    else:\n",
        "       print(f'{num} is an odd number')\n",
        "\n",
        "  except ValueError:\n",
        "    print('invalid number.\\nplease try again!!!')\n",
        "    continue\n",
        "\n",
        "\n",
        "\n"
      ]
    },
    {
      "cell_type": "code",
      "execution_count": null,
      "metadata": {
        "cellView": "form",
        "id": "_8ShZ280kr9I"
      },
      "outputs": [],
      "source": [
        "# @title Guessing Game.\n",
        "print('gace the number.')\n",
        "print('enter \"x\" at any point the program should be exit.')\n",
        "print('You can try the number 5 times.')\n",
        "gn = 8\n",
        "\n",
        "for i in range(5):\n",
        "  num = input('gace the number:')\n",
        "  if num ==\"x\":\n",
        "    print('Exited by user.')\n",
        "    break\n",
        "\n",
        "  try:\n",
        "    num = int(num)\n",
        "    if gn ==num:\n",
        "      print('Congratulations\\nYou win the game.')\n",
        "      break\n",
        "    elif num > gn :\n",
        "      print('Too high')\n",
        "      continue\n",
        "    elif num < gn :\n",
        "      print('Too low')\n",
        "      continue\n",
        "\n",
        "  except ValueError:\n",
        "    print('invalid number. please try again!!!')\n"
      ]
    },
    {
      "cell_type": "code",
      "execution_count": null,
      "metadata": {
        "cellView": "form",
        "id": "vz0ht6Xhkr6o"
      },
      "outputs": [],
      "source": [
        "# @title Maximum Finder (3 Numbers)\n",
        "print('enter \"x\" at any point the program should be exit.')\n",
        "for i in range(1):\n",
        "  n1 = input('enter the first number:')\n",
        "  if n1 == 'x':\n",
        "    print('Exited by user.')\n",
        "    break\n",
        "  n2 = input('enter the second number:')\n",
        "  if n2 =='x':\n",
        "    print('Exited by user.')\n",
        "    break\n",
        "  n3 = input('enter the third number:')\n",
        "  if n3 =='x':\n",
        "    print('Exited by user.')\n",
        "    break\n",
        "  try:\n",
        "    n1 = int(n1)\n",
        "    n2 = int(n2)\n",
        "    n3 = int(n3)\n",
        "    if n1>n2 and n1>n3:\n",
        "      print(f'{n1} is the maximum number.')\n",
        "    elif n2>n1 and n2>n3:\n",
        "      print(f'{n2} is the maximum number.')\n",
        "    else:\n",
        "      print(f'{n3} is the maximum number.')\n",
        "  except ValueError:\n",
        "    print('invalid number.\\ntry again.')\n"
      ]
    },
    {
      "cell_type": "code",
      "execution_count": null,
      "metadata": {
        "cellView": "form",
        "id": "dMpRXudnkr4A"
      },
      "outputs": [],
      "source": [
        "# @title Simple Grade Calculator\n",
        "print('enter \"x\" at any point the program should be exit.')\n",
        "for i in range(1):\n",
        "\n",
        "  mark = input('enter your mark:')\n",
        "  if mark == 'x':\n",
        "    print('Exited by user.')\n",
        "    break\n",
        "  try:\n",
        "    mark = float(mark)\n",
        "    if mark >=80:\n",
        "      grade = 'A+'\n",
        "    elif mark >=70:\n",
        "      grade = 'A'\n",
        "    elif mark >=60:\n",
        "      grade = 'A-'\n",
        "    elif mark >=50:\n",
        "      grade = 'B'\n",
        "    elif mark >=40:\n",
        "      grade = 'c'\n",
        "    elif mark >=33:\n",
        "      grade = 'D'\n",
        "    else:\n",
        "      grade = 'F'\n",
        "    print (f'your grade is {grade}')\n",
        "  except ValueError:\n",
        "    print('invalid mark.\\n enter a valid mark')\n",
        "\n"
      ]
    },
    {
      "cell_type": "code",
      "execution_count": null,
      "metadata": {
        "cellView": "form",
        "id": "nhwHA_X10Jwl"
      },
      "outputs": [],
      "source": [
        "# @title Multiplication Table Generator [নামটা]\n",
        "print('enter \"x\" at any point the program should be exit.')\n",
        "for i in range(3):\n",
        "  num = input('enter a number:')\n",
        "  if num == 'x':\n",
        "    print('Exited by user.')\n",
        "    break\n",
        "  try:\n",
        "\n",
        "    num = int (num)\n",
        "    for i in range (1,11):\n",
        "      print(f'{num}*{i} = {num*i}')\n",
        "\n",
        "  except ValueError:\n",
        "    print('invalid number.\\nplease try again!!!')\n",
        "    continue\n"
      ]
    },
    {
      "cell_type": "code",
      "execution_count": null,
      "metadata": {
        "cellView": "form",
        "id": "N6tMtaFQ0Jkl"
      },
      "outputs": [],
      "source": [
        "# @title Login System (with 3 tries)\n",
        "print('enter \"x\" at any point the program should be exit.')\n",
        "print('You can try the number 5 times.')\n",
        "username = 'admin'\n",
        "password = '12345'\n",
        "for i in range (3):\n",
        "  user = input('enter your username:')\n",
        "  if user == \"x\":\n",
        "    print('Exited by user.')\n",
        "    break\n",
        "  passw = input('enter your password:')\n",
        "  if passw == 'x':\n",
        "    print('Exited by user.')\n",
        "  try:\n",
        "    user = str(user)\n",
        "    passw = int(passw)\n",
        "    if user == 'admin'and passw == 12345:\n",
        "      print('sucessfuly login')\n",
        "  except ValueError:\n",
        "    print('invalide username and password')\n",
        "    continue\n"
      ]
    },
    {
      "cell_type": "code",
      "execution_count": null,
      "metadata": {
        "id": "gWF8QZok0JXG"
      },
      "outputs": [],
      "source": []
    },
    {
      "cell_type": "markdown",
      "metadata": {
        "id": "Bfd9_WfekXoW"
      },
      "source": [
        "## ##Class-3 Home Work-2 (001)"
      ]
    },
    {
      "cell_type": "code",
      "execution_count": null,
      "metadata": {
        "cellView": "form",
        "id": "bqUG-3YAkeWx"
      },
      "outputs": [],
      "source": [
        "# @title Celsius to Fahrenheit converter or Fahrenheit to Celsius converter.\n",
        "print('Celsius to Fahrenheit converter or Fahrenheit to Celsius converter. ')\n",
        "# c = (5*f-32*5)/9\n",
        "# f = (9*c+32*5)/5\n",
        "c =input('enter calsius:')\n",
        "#f =input('enter fahrenheit:')\n",
        "try:\n",
        "  c = float(c)\n",
        "  # = float(f)\n",
        "\n",
        "  #c = ((5*f-32*5)/9)\n",
        "  f = ((9*c+32*5)/5)\n",
        "  #print('The celsius is =',c)\n",
        "  print('The fahrenheit is =',f)\n",
        "except ValueError:\n",
        "  print('Invalid number.Please typr a Valid number!!!')\n",
        "\n"
      ]
    },
    {
      "cell_type": "code",
      "execution_count": null,
      "metadata": {
        "cellView": "form",
        "id": "bzjBY4TYktJ5"
      },
      "outputs": [],
      "source": [
        "# @title Celsius to calvin converter or calvin to Celsius converter.\n",
        "print('Celsius to calvin converter or calvin to Celsius converter.')\n",
        "# c =(k-273)\n",
        "# k = (c+273)\n",
        "c = input('enter celsius:')\n",
        "# k = input('enter calvin')\n",
        "try:\n",
        "  c = float(c)\n",
        "  #k = float(k)\n",
        "\n",
        "  #c =(k-273)\n",
        "  k =(c+273)\n",
        "  print('The calvin is =',k)\n",
        "  #print('The celsius is =',c)\n",
        "except ValueError:\n",
        "  print('Invalid number.\\nPlease type a valid number!!!')"
      ]
    },
    {
      "cell_type": "code",
      "execution_count": null,
      "metadata": {
        "cellView": "form",
        "id": "XHP6hd8Fkq3_"
      },
      "outputs": [],
      "source": [
        "#@title Check if number is prime.\n",
        "print('Check if Number is Prime')\n",
        "num = int(input('enter a number:'))\n",
        "if num>1:\n",
        "  for i in range(2,num):\n",
        "    if num%i==0:\n",
        "      print(f'{num} is not a prime number.')\n",
        "      break\n",
        "  else:\n",
        "      print(f'{num} is a prime number.')\n",
        "else:\n",
        "  print(f'{num}is not a prime number.')\n",
        "\n"
      ]
    },
    {
      "cell_type": "code",
      "execution_count": null,
      "metadata": {
        "cellView": "form",
        "id": "ByRG9xb6kq1g"
      },
      "outputs": [],
      "source": [
        "# @title Check if number is palindrom.\n",
        "print('Check if number is palindrom.')\n",
        "num = int(input('enter a number:'))\n",
        "org = str (num) #org = original\n",
        "rev_num = org[::-1]\n",
        "if org == rev_num:\n",
        "  print(f'{num} is a palindrome number.')\n",
        "else:\n",
        "  print(f'{num} is not a palindrome number.')\n",
        "\n"
      ]
    },
    {
      "cell_type": "code",
      "execution_count": null,
      "metadata": {
        "cellView": "form",
        "id": "JwDouB4Gkqyv"
      },
      "outputs": [],
      "source": [
        "# @title Check if number is palindrom. only Condition\n",
        "# rev = [(rev*10)+num%10] condition\n",
        "#rev= num[::-1] condition\n",
        "\n",
        "'''\n",
        "condition\n",
        "[rem = num%10\n",
        " rev = rev*10+rem\n",
        " num = num // 10]\n",
        "\n",
        "\n",
        "\n",
        "let\n",
        "num = 131,\n",
        "\n",
        "(rem = 131%10 = 1\n",
        "rev = 0*10+1(rem)=1\n",
        "num = 131 //10 =13)\n",
        "\n",
        "num = 13\n",
        "\n",
        "(rem = 13%10 = 3\n",
        "rev = 1*10+3(rem) = 13\n",
        "num = 13//10 =1)\n",
        "\n",
        "num = 1\n",
        "\n",
        "(rem =1%10 =1\n",
        "rev = 13*10+1(rem) =131\n",
        "num = 1//10 = 0)\n",
        "0>0 condition is false\n",
        "while loop thake ber hoye jabe\n",
        "'''\n"
      ]
    },
    {
      "cell_type": "code",
      "execution_count": null,
      "metadata": {
        "cellView": "form",
        "id": "J8f3Gf0pkqwB"
      },
      "outputs": [],
      "source": [
        "# @title Check if number is palindrom. While loop\n",
        "print('Check if number is palindrom.')\n",
        "num = int(input('enter a number:'))\n",
        "org = num #org = original number.\n",
        "rev = 0\n",
        "rem = 1\n",
        "while num>0:\n",
        "  rem = num%10\n",
        "  rev = rev*10+rem\n",
        "  num = num//10\n",
        "\n",
        "if org == rev:\n",
        "  print(f'{org} is a palindrome number.')\n",
        "else:\n",
        "  print(f'{org} is not a palindrome number.')\n"
      ]
    },
    {
      "cell_type": "code",
      "execution_count": null,
      "metadata": {
        "cellView": "form",
        "id": "DXveuIpgkqtQ"
      },
      "outputs": [],
      "source": [
        "# @title  Check if number is palindrom.for loop\n",
        "num = int(input('enter the number.'))\n",
        "rev = 0\n",
        "rem = 1\n",
        "org = num\n",
        "length = len(str(num))\n",
        "\n",
        "for i in range(length):\n",
        "  rem = num%10\n",
        "  rev = rev*10+rem\n",
        "  num = num//10\n",
        "\n",
        "if org ==rev:\n",
        "  print(f'{org} is a palindrome number.')\n",
        "\n",
        "else:\n",
        "  print(f'{org} is not a palindrome number.')"
      ]
    },
    {
      "cell_type": "code",
      "execution_count": null,
      "metadata": {
        "cellView": "form",
        "id": "hf2CPvZFkqqf"
      },
      "outputs": [],
      "source": [
        "# @title check if number is revers.\n",
        "print('Check if number is revers.')\n",
        "num = int(input('enter a number'))\n",
        "org = str(num)\n",
        "rev = org[::-1]\n",
        "print(f'the revers number of {org}  is =',rev)"
      ]
    },
    {
      "cell_type": "code",
      "execution_count": null,
      "metadata": {
        "id": "knvxqt2Hkqnw"
      },
      "outputs": [],
      "source": []
    },
    {
      "cell_type": "code",
      "execution_count": null,
      "metadata": {
        "id": "r5Idb4ZQkqkw"
      },
      "outputs": [],
      "source": []
    },
    {
      "cell_type": "markdown",
      "metadata": {
        "id": "v4ShKLnpklfU"
      },
      "source": [
        "## ##Class-4 Home Work -3 (001)"
      ]
    },
    {
      "cell_type": "code",
      "execution_count": null,
      "metadata": {
        "cellView": "form",
        "id": "tplbIdh2kngu"
      },
      "outputs": [],
      "source": [
        "# @title Pass Fail Program simple.\n",
        "name = str(input(\"enter your name:\"))\n",
        "mark = int(input('enter your mark:'))\n",
        "if mark>=40:\n",
        "  print(f'Congratulation {name} you are pass.')\n",
        "else:\n",
        "  print(f'Sorry {name} you are fail.')"
      ]
    },
    {
      "cell_type": "code",
      "execution_count": null,
      "metadata": {
        "cellView": "form",
        "id": "c7Ih3QVQkusL"
      },
      "outputs": [],
      "source": [
        "# @title Pass fail program\n",
        "print('pass fail program')\n",
        "student = {'Abdul Malek':75,  'Moynul':77,  'Naim':27,  'Mamun':79,  'Arman':23}\n",
        "for name,mark in student.items():\n",
        "  if mark>=40:\n",
        "    print(f' {name} has Passed with {mark} mark.')\n",
        "  else:\n",
        "    print(f' {name} has Failed with {mark} mark.')\n",
        "\n",
        "\n"
      ]
    },
    {
      "cell_type": "code",
      "execution_count": null,
      "metadata": {
        "cellView": "form",
        "id": "9EbgeSVrkupE"
      },
      "outputs": [],
      "source": [
        "# @title Pass Fail Program Bonus Challenge:\n",
        "print('Pass Fail Program Bonus Challenge:')\n",
        "student_name_mark = {'Abdul':75,  'Moynul':80,  'Nazmul':72,  'Mahfuz':25,  'Naim':39,  'Nadir':35}\n",
        "passed = 0\n",
        "failed = 0\n",
        "for name,mark in student_name_mark.items():\n",
        "  if mark>=40:\n",
        "    print(f'{name} has PASSED with {mark} mark.')\n",
        "    passed = passed + 1\n",
        "  else:\n",
        "    print(f'{name} has FAILED with {mark} mark.')\n",
        "    failed = failed +1\n",
        "print('-----TOTAL SUMMARY-----')\n",
        "print(f'Tottal passed:{passed}')\n",
        "print(f'Tottal failed:{failed}')"
      ]
    },
    {
      "cell_type": "code",
      "execution_count": null,
      "metadata": {
        "cellView": "form",
        "id": "VB-PbYSykumK"
      },
      "outputs": [],
      "source": [
        "# @title Pass Fail Program Bonus Challenge:+grade + percentage\n",
        "print('Pass Fail Program Bonus Challenge + grade:')\n",
        "student = {'Abir':57, 'Monir':25, 'Dain':85,  'Eva':85, 'Airin':80, 'Afroza':75,  'Moriom':89,  'Tamanna':82,\n",
        "           'Tammu':75, 'Nusrat':80,  'Shakil':80,  'Maruf':38,  'Siraj':86}\n",
        "passed = 0\n",
        "failed = 0\n",
        "total_student = len(student)\n",
        "for name,mark in student.items():\n",
        "  if mark>=80:\n",
        "    grade = 'A+'\n",
        "  elif mark>=70:\n",
        "    grade = 'A'\n",
        "  elif mark>=60:\n",
        "    grade = 'A-'\n",
        "  elif mark>=50:\n",
        "    grade = 'B+'\n",
        "  elif mark>=40:\n",
        "    grade = 'C+'\n",
        "  else:\n",
        "    grade = 'F'\n",
        "  if mark>=40:\n",
        "      print(f'{name} has PASSED with {mark} mark and grade is {grade}')\n",
        "      passed = passed +1\n",
        "  else:\n",
        "      print(f'{name} has FAILED with {mark} mark and grade is {grade}')\n",
        "      failed = failed +1\n",
        "\n",
        "pass_percentage = (passed/total_student)*100\n",
        "fail_percentage = (failed/total_student)*100\n",
        "\n",
        "print('-----TOTAL SUMMARY-----')\n",
        "print(f'Total Passed:{passed}')\n",
        "print(f'Total Failed:{failed}')\n",
        "print(f'pass percentage:{pass_percentage:.2f}%')\n",
        "print(f'fail percentage:{fail_percentage:.2f}%')\n"
      ]
    },
    {
      "cell_type": "code",
      "execution_count": null,
      "metadata": {
        "id": "53g8cewwkujZ"
      },
      "outputs": [],
      "source": []
    },
    {
      "cell_type": "code",
      "execution_count": null,
      "metadata": {
        "id": "OvUntezLkuZC"
      },
      "outputs": [],
      "source": []
    },
    {
      "cell_type": "markdown",
      "metadata": {
        "id": "BZaO_oDanHbI"
      },
      "source": [
        "## ##practice Book (001)"
      ]
    },
    {
      "cell_type": "code",
      "execution_count": null,
      "metadata": {
        "cellView": "form",
        "id": "C67HgbV5nLH6"
      },
      "outputs": [],
      "source": [
        "# @title list[].\n",
        "colours =['red','blue','green','red','neviblue','purple','yollow','pink']\n",
        "len_number=len(colours)\n",
        "count_number=colours.count('red')\n",
        "position=colours.index('blue')\n",
        "print(f'The len of colours is:{len_number}')\n",
        "print(f'count the red is = {count_number} times')\n",
        "print(f'The position is blue = {position}')\n",
        "\n",
        "'''\n",
        "colours.append('Orange')\n",
        "colours.insert(2,'White')\n",
        "colours.remove('red')\n",
        "colours.sort()\n",
        "colours.reverse()\n",
        "colours.pop()\n",
        "colours.clear()\n",
        "colours.copy()\n",
        "print(colours)\n",
        "\n",
        "'''\n",
        "for colour in colours:\n",
        "  print(colour)\n",
        "\n",
        "\n",
        "\n"
      ]
    },
    {
      "cell_type": "code",
      "execution_count": null,
      "metadata": {
        "cellView": "form",
        "id": "RIfVPCqMnLhy"
      },
      "outputs": [],
      "source": [
        "# @title tuple().\n",
        "colours =('red','blue','green','red','neviblue','purple','yollow','pink','red')\n",
        "#print(tupl)\n",
        "Y =len(colours)\n",
        "y =colours.count('red')\n",
        "y = colours.index('green')\n",
        "print(f'The len of colours is :{Y}')\n",
        "print(f'count the red :{y} times')\n",
        "print(f'the position of green is :{y}')\n",
        "\n",
        "number = (2,4,5,85,96,75,14,25,45)\n",
        "x =list(number)\n",
        "y= sum(number)\n",
        "max_number=max(number)\n",
        "min_number =min(number)\n",
        "print(f'orginal number is:{x}')\n",
        "print(f'the sum is :{y}')\n",
        "print(f'Max number is :{max_number}')\n",
        "print(f'Min number is :{min_number}')\n",
        "sort =sorted(number)\n",
        "print(f'sorted number is :{sort}')\n",
        "yy =(number.count(4))\n",
        "print(f'count the number 4 is:{ yy}')\n",
        "yyy = number.index(85)\n",
        "print(f'the position of number 85 is :{yyy}')\n",
        "\n",
        "\n"
      ]
    },
    {
      "cell_type": "code",
      "execution_count": null,
      "metadata": {
        "cellView": "form",
        "id": "MNGjVefNnLfS"
      },
      "outputs": [],
      "source": [
        "# @title set{}.\n",
        "a = {1,2,3,4,5,6,7,8,9,10}\n",
        "b = {11,12,13,14,15,16,17,18}\n",
        "a.add(12)\n",
        "#a.update({12'25'36})\n",
        "#a.remove(12)\n",
        "#a.discard(12)\n",
        "#a.pop()\n",
        "#a.clear()\n",
        "#a.copy()\n",
        "print(a)\n",
        "print(a.union(b))\n",
        "print(a.difference(b))\n",
        "print(b.differenece(a))\n",
        "print(a.intersection(b))\n",
        "print(b.intersection(a))\n",
        "print(a.issubset(b))\n",
        "print(b.issubset(a))\n",
        "print(a.issuperset(b))\n",
        "print(b.issuperset(a))\n",
        "print(a.isdisjoint(b))\n",
        "print(b.isdisjoint(a))\n",
        "print(a.symmetric_difference(b))\n",
        "print(b.symmetric_difference(a)"
      ]
    },
    {
      "cell_type": "code",
      "execution_count": null,
      "metadata": {
        "cellView": "form",
        "id": "4fqV7M4PnUIm"
      },
      "outputs": [],
      "source": [
        "# @title dictionary{}.\n",
        "students = {\"Rafi\": 30, \"Nadia\": 82, \"Siam\": 47, \"Mou\": 39, \"Asif\": 90}\n",
        "\n",
        "for x in sorted(students.values(), reverse=True):\n",
        "    print(f'student valu:{x}')\n",
        "for x in sorted(students.keys()):\n",
        "    print(f'student name:{x}')"
      ]
    },
    {
      "cell_type": "code",
      "execution_count": null,
      "metadata": {
        "id": "F3R-HDs-nZoK"
      },
      "outputs": [],
      "source": []
    },
    {
      "cell_type": "code",
      "execution_count": null,
      "metadata": {
        "id": "DtaZXU_0nZjx"
      },
      "outputs": [],
      "source": []
    },
    {
      "cell_type": "markdown",
      "metadata": {
        "id": "5SPRxCY5nehj"
      },
      "source": []
    },
    {
      "cell_type": "markdown",
      "metadata": {
        "id": "2reh2DYqniHd"
      },
      "source": [
        "## ##problem No-1 (001)"
      ]
    },
    {
      "cell_type": "code",
      "execution_count": null,
      "metadata": {
        "cellView": "form",
        "id": "i2MkOo8gnlo_"
      },
      "outputs": [],
      "source": [
        "# @title ৪০-এর নিচে যারা পেয়েছে তাদের নাম প্রিন্ট করো (Fail students only)। 001\n",
        "\n",
        "students = {\"Rafi\": 30, \"Nadia\": 82, \"Siam\": 47, \"Mou\": 39, \"Asif\": 90}\n",
        "print(\"fail student(mark<40)\")\n",
        "for name,mark in students.items():\n",
        "  if mark <40:\n",
        "    print(f'name:{name} mark:{mark} faile')\n",
        "\n",
        "\n",
        "\n"
      ]
    },
    {
      "cell_type": "code",
      "execution_count": null,
      "metadata": {
        "cellView": "form",
        "id": "MBM74jNGnpOp"
      },
      "outputs": [],
      "source": [
        "# @title সর্বোচ্চ এবং সর্বনিম্ন নাম্বার ? 002\n",
        "students = {\"Rafi\": 30, \"Nadia\": 82, \"Siam\": 47, \"Mou\": 39, \"Asif\": 90}\n",
        "topper = max(students.items(), key =lambda item: item[1])\n",
        "lowest = min(students.items(), key =lambda item: item[1])\n",
        "print(f'topper is {topper[0]} with {topper[1]} mark')\n",
        "print(f'lowset is {lowest[0]} with {lowest[1]} mark')\n",
        "print('----- anather way-----')\n",
        "name , mark = topper = lowset\n",
        "print(f'topper is {name} with {mark} mark')\n",
        "print(f'lowset is {name} with {mark} mark')\n",
        "\n",
        "\n"
      ]
    },
    {
      "cell_type": "code",
      "execution_count": null,
      "metadata": {
        "cellView": "form",
        "id": "MIUVI5AlnpLx"
      },
      "outputs": [],
      "source": [
        "# @title সর্বোচ্চ এবং সর্বনিম্ন নাম্বার ? for loop 002\n",
        "students = {\"Rafi\": 30, \"Nadia\": 82, \"Siam\": 47, \"Mou\": 39, \"Asif\": 90}\n",
        "max_name = min_name = next(iter(students))\n",
        "max_mark = min_mark = students[max_name]\n",
        "for name , mark in students.items():\n",
        "  if mark > max_mark:\n",
        "    max_name = name\n",
        "    max_mark = mark\n",
        "  if mark < min_mark:\n",
        "    min_name = name\n",
        "    min_mark = mark\n",
        "print(f'topper is {max_name} with {max_mark} mark(pass)')\n",
        "print(f'lowset is {min_name} with {min_mark} mark(fail)')"
      ]
    },
    {
      "cell_type": "code",
      "execution_count": null,
      "metadata": {
        "cellView": "form",
        "id": "L4xP8j12nvl8"
      },
      "outputs": [],
      "source": [
        "# @title  পাস/ফেল রিপোর্ট\n",
        "students = {\"Rafi\": 30, \"Nadia\": 82, \"Siam\": 47, \"Mou\": 39, \"Asif\": 90}\n",
        "for name , mark in students.items():\n",
        "  if mark >=40:\n",
        "    print(f'{name} is passed with {mark} mark')\n",
        "  else:\n",
        "    print(f'{name} is failed with {mark} mark')\n",
        "\n"
      ]
    },
    {
      "cell_type": "code",
      "execution_count": null,
      "metadata": {
        "cellView": "form",
        "id": "uTN7IsDdn1oo"
      },
      "outputs": [],
      "source": [
        "# @title গড় নাম্বার বের করো। 003\n",
        "#যদি গড় ৫০-এর বেশি হয়, তাহলে প্রিন্ট করো: \"Overall Result: Good\" না হলে প্রিন্ট করো: \"Overall Result: Needs Improvement\"\n",
        "students = {\"Rafi\": 30, \"Nadia\": 82, \"Siam\": 47, \"Mou\": 39, \"Asif\": 90}\n",
        "total = sum(students.values())\n",
        "average = total / len(students)\n",
        "print(f'average mark :{average:.2f}')\n",
        "if average >50:\n",
        "  print(f'Overall Rssult:Good')\n",
        "else:\n",
        "  print(f'Overall Result:Needs Improvement')\n",
        "\n",
        "\n",
        "\n",
        "\n",
        "\n",
        "\n",
        "\n"
      ]
    },
    {
      "cell_type": "code",
      "execution_count": null,
      "metadata": {
        "cellView": "form",
        "id": "xybYPEJqn1ko"
      },
      "outputs": [],
      "source": [
        "# @title একটি ফাংশন লেখো def show_pass_students(data) 004\n",
        "#যেটা dictionary ইনপুট নিয়ে শুধু পাস করা ছাত্রদের নাম ও নাম্বার প্রিন্ট করবে।\n",
        "data = {\"Rafi\": 30, \"Nadia\": 82, \"Siam\": 47, \"Mou\": 39, \"Asif\": 90}\n",
        "def show_pass_student(data):\n",
        "  print('passed student(mark>=33):')\n",
        "  for name , mark in data.items():\n",
        "    if mark >=33:\n",
        "      print(f'{name} has passed with {mark} mark')\n",
        "\n",
        "show_pass_student(data)\n",
        "\n",
        "\n"
      ]
    },
    {
      "cell_type": "code",
      "execution_count": null,
      "metadata": {
        "cellView": "form",
        "id": "CegOkqmyn1ag"
      },
      "outputs": [],
      "source": [
        "# @title প্রতিটি ছাত্রের নাম ও তাদের গড় নাম্বার বের করো। 005\n",
        "#যাদের গড় ≥ 60, তারা \"Passed\" — না হলে \"Failed\"।\n",
        "students = {\n",
        "    \"Lima\": [80, 90, 85],\n",
        "    \"Zahid\": [60, 75, 70],\n",
        "    \"Afsana\": [50, 45, 55]\n",
        "}\n",
        "average ={}\n",
        "for name , mark in students.items():\n",
        "  avg = sum(mark) / len(mark)\n",
        "  status = 'passed' if avg >= 60 else 'failed'\n",
        "  average[name] = avg\n",
        "  print(f'{name} got average {avg:.2f} mark status:{status}')\n",
        "\n",
        "\n",
        "def get_suffix(n):\n",
        "  if 11<= n %100 <= 13:\n",
        "    return 'th'\n",
        "  elif n %10 ==1:\n",
        "    return 'st'\n",
        "  elif n%10==2:\n",
        "    return 'nd'\n",
        "  elif n % 10 ==3:\n",
        "    return 'rd'\n",
        "  else:\n",
        "    return 'th'\n",
        "\n",
        "print('\\n-----ranking-----')\n",
        "ranked = sorted(average.items(), key=lambda item:item[1],reverse=True)\n",
        "for position, (name,avg) in enumerate(ranked, start=1):\n",
        "  suffix = get_suffix(position)\n",
        "  print(f'{position}{suffix}:{name} with average {avg:.2f}')\n",
        "\n",
        "\n",
        "\n"
      ]
    },
    {
      "cell_type": "code",
      "execution_count": null,
      "metadata": {
        "cellView": "form",
        "id": "5Gsg2zNon8Nc"
      },
      "outputs": [],
      "source": [
        "# @title Topper and Lowest name and mark\n",
        "students = {\"Rafi\": 30, \"Nadia\": 82, \"Siam\": 47, \"Mou\": 39, \"Asif\": 90}\n",
        "for name in students:\n",
        "  print(name ,'with', students[name],'mark')\n",
        "\n",
        "def find_topper(students):\n",
        "  highest_number = 0\n",
        "  topper = ''\n",
        "  for name in students:\n",
        "    if students[name] > highest_number:\n",
        "      highest_number = students[name]\n",
        "      topper = name\n",
        "  print(f'Topper is {topper} with {highest_number} mark')\n",
        "find_topper(students)\n",
        "\n",
        "def find_lowest(students):\n",
        "  lowest_number = float('inf')\n",
        "  lowest_name = ''\n",
        "  for name in students:\n",
        "    if students[name] < lowest_number:\n",
        "      lowest_number = students[name]\n",
        "      lowest_name = name\n",
        "  print(f'lowest is {lowest_name} with {lowest_number} mark')\n",
        "find_lowest(students)"
      ]
    },
    {
      "cell_type": "code",
      "execution_count": null,
      "metadata": {
        "id": "9UrxgpM_n8CL"
      },
      "outputs": [],
      "source": []
    },
    {
      "cell_type": "markdown",
      "metadata": {
        "id": "K_QnoY99M9Px"
      },
      "source": [
        "# #Project-1\n",
        "Abdul Malek am9825083@gmail.com"
      ]
    },
    {
      "cell_type": "code",
      "execution_count": null,
      "metadata": {
        "id": "U9dSdEeuNIdu"
      },
      "outputs": [],
      "source": [
        "print('simple calculator up to 10 calculations.')\n",
        "print('enter \"x\" at any point , the program should be exit.')\n",
        "for i in range(10):\n",
        "  op = input(\"choose operator '+','-','*','/':\")\n",
        "  if op =='x':\n",
        "    print(f'Exited by user')\n",
        "    break\n",
        "  if op not in ('+','-','*','/'):\n",
        "    print(f'Invalied operator.\\nTry again.')\n",
        "    continue\n",
        "  n1 = input('enter the first number:')\n",
        "  if n1 =='x':\n",
        "    print('Exited by user.')\n",
        "    break\n",
        "  n2 = input('enter the second number:')\n",
        "  if n2 == 'x':\n",
        "    print('Exited by user.')\n",
        "    break\n",
        "  try:\n",
        "    n1 = float(n1)\n",
        "    n2 = float(n2)\n",
        "\n",
        "    if op == '+':\n",
        "      result = n1+n2\n",
        "\n",
        "    elif op == '-':\n",
        "      result = n1-n2\n",
        "\n",
        "    elif op == '*':\n",
        "      result = n1*n2\n",
        "\n",
        "    elif op == '/':\n",
        "      if n2==0:\n",
        "        print(\"cannot divided by zero\")\n",
        "        continue\n",
        "      result = n1/n2\n",
        "    print(f'the result is :{result}')\n",
        "  except ValueError:\n",
        "    print('Invalid number.\\nTry again.')\n",
        "\n"
      ]
    },
    {
      "cell_type": "markdown",
      "metadata": {
        "id": "qikhxozAoKp7"
      },
      "source": [
        "# #Cheapter No-2"
      ]
    },
    {
      "cell_type": "markdown",
      "metadata": {
        "id": "I_TXIkk6owI9"
      },
      "source": [
        "## ##Class-5 Home work-5 (002)"
      ]
    },
    {
      "cell_type": "code",
      "execution_count": null,
      "metadata": {
        "cellView": "form",
        "id": "7Zh5wWGkMgIO"
      },
      "outputs": [],
      "source": [
        "# @title HOMEWORK 1: Basic Statistics\n",
        "import numpy as np\n",
        "print(f'HOMEWORK 1: Basic Statistics')\n",
        "print('='*30)\n",
        "random_data = np.random.normal(100,15,size=1000)\n",
        "print(f'random_data:{random_data}')\n",
        "mean_value = np.mean(random_data)\n",
        "median_value = np.median(random_data)\n",
        "std_value = np.std(random_data)\n",
        "print(f'\\n-----final result-----')\n",
        "print(f'mean value:{mean_value:.2f}')\n",
        "print(f'median_value:{median_value:.2f}')\n",
        "print(f'std value:{std_value:.2f}')\n"
      ]
    },
    {
      "cell_type": "code",
      "execution_count": null,
      "metadata": {
        "cellView": "form",
        "id": "yOwfx0-5MgE-"
      },
      "outputs": [],
      "source": [
        "# @title  HOMEWORK 2: Matrix Multiplication\n",
        "import numpy as np\n",
        "print(f'\\nHOMEWORK 2: Matrix Multiplication')\n",
        "print('='*30)\n",
        "Matrix_A = np.random.randint(1,10,size=(3,4))\n",
        "Matrix_B = np.random.randint(1,10,size=(4,2))\n",
        "print(f'Matrix A is :\\n{Matrix_A}\\n')\n",
        "print(f'Matrix B is :\\n{Matrix_B}\\n')\n",
        "result = np.dot(Matrix_A,Matrix_B)\n",
        "print(f'resutl is:\\n{result}\\n')\n",
        "print(f'Verify the result shape and print')\n",
        "print(f'Matrix A shape: {Matrix_A.shape}')\n",
        "print(f'Matrix B shape: {Matrix_B.shape}')\n",
        "print(f'Result shape: {result.shape}')\n",
        "print(f'\\nResult of A @ B:')\n",
        "print(result)\n",
        "\n"
      ]
    },
    {
      "cell_type": "code",
      "execution_count": null,
      "metadata": {
        "id": "08jPX7q4Mf4e"
      },
      "outputs": [],
      "source": []
    },
    {
      "cell_type": "markdown",
      "metadata": {
        "id": "JyQGxCPIpgae"
      },
      "source": [
        "## ##Class-6 Home Work-6 (002)"
      ]
    },
    {
      "cell_type": "code",
      "execution_count": null,
      "metadata": {
        "id": "C0OWBF7Wpns5"
      },
      "outputs": [],
      "source": []
    },
    {
      "cell_type": "code",
      "execution_count": null,
      "metadata": {
        "id": "Q9HGsUNSpuN8"
      },
      "outputs": [],
      "source": []
    },
    {
      "cell_type": "code",
      "execution_count": null,
      "metadata": {
        "id": "Div6q-NKpuIF"
      },
      "outputs": [],
      "source": []
    },
    {
      "cell_type": "code",
      "execution_count": null,
      "metadata": {
        "id": "yMI_eSXRpuCc"
      },
      "outputs": [],
      "source": []
    },
    {
      "cell_type": "code",
      "execution_count": null,
      "metadata": {
        "id": "MKvRrB-cpt_k"
      },
      "outputs": [],
      "source": []
    },
    {
      "cell_type": "code",
      "execution_count": null,
      "metadata": {
        "id": "L--7-oyWpt8s"
      },
      "outputs": [],
      "source": []
    },
    {
      "cell_type": "markdown",
      "metadata": {
        "id": "vZIwIUv2L41D"
      },
      "source": [
        "## ##Data Structures"
      ]
    },
    {
      "cell_type": "markdown",
      "metadata": {
        "id": "rxhnVMg-Moxa"
      },
      "source": [
        "### ###List[]"
      ]
    },
    {
      "cell_type": "code",
      "execution_count": null,
      "metadata": {
        "cellView": "form",
        "id": "VxuhBjBxMrTb"
      },
      "outputs": [],
      "source": [
        "# @title Access list elements\n",
        "#মানে হলো — list-এর ভেতরের যেকোনো উপাদানকে তার অবস্থান (index) দিয়ে বের করে আনা।\n",
        "colours = ['red','blur','neviblue','purple','white','blace']\n",
        "print(colours[0])\n",
        "print(colours[2])\n",
        "print(colours[1:]) # 1 থাকে শেষ পর্যন্ত.\n",
        "print(colours[-1])\n",
        "print(colours[-3])\n",
        "print(colours[:2])\n",
        "print(colours[:5]) # ০ থাকে ৫ এর আগে পর্যন্ত.\n",
        "\n"
      ]
    },
    {
      "cell_type": "code",
      "execution_count": null,
      "metadata": {
        "cellView": "form",
        "id": "BhUnK89gL6LU"
      },
      "outputs": [],
      "source": [
        "# @title slicing ( [ ] )\n",
        "#Python slicing সবসময় [start : stop) অর্থাৎ start inclusive, stop exclusive।\n",
        "colours = ['red','blur','neviblue','purple','white','blace']\n",
        "print(colours[1:3])\n",
        "print(colours[2:5])\n",
        "print(colours[:6])\n",
        "print(colours[0:]) # 0 থাকে শেষ পর্যন্ত.\n",
        "print(colours[:5])\n",
        "\n"
      ]
    },
    {
      "cell_type": "code",
      "execution_count": null,
      "metadata": {
        "cellView": "form",
        "id": "e86R3PsSL6qk"
      },
      "outputs": [],
      "source": [
        "# @title in, not in\n",
        "#in ব্যবহার করে দেখা হয়, কোনো উপাদান (value) কোনো list, string, dict ইত্যাদিতে আছে কি না।\n",
        "#not in (নাই কিনা — উল্টোটা)\n",
        "colours = ['red','blue','neviblue','purple','white','blace']\n",
        "print('red' in colours)\n",
        "print('Red' in colours)\n",
        "print('Red' not in colours)\n",
        "print('blue' not in colours)\n",
        "\n",
        "\n"
      ]
    },
    {
      "cell_type": "code",
      "execution_count": null,
      "metadata": {
        "cellView": "form",
        "id": "ArseMIwuU7NA"
      },
      "outputs": [],
      "source": [
        "# @title Mutable and ordered (পরিবর্তনযোগ্য এবং সাজানো)\n",
        "# এই ডেটার ভিতরের value বা item পরিবর্তন করা যায়। মানে লিস্টের মধ্যে কিছু যোগ, বদল বা মুছা যায়।\n",
        "# Ordered মানে:ডেটা গুলো যে ক্রমে রাখছো, Python সেগুলো সেই ক্রমেই মনে রাখে।\n",
        "colours = ['red','blue','neviblue','purple','white','blace']\n",
        "colours[1]= 'yollow'\n",
        "print(colours)\n",
        "colours[4]='Green'\n",
        "print(colours)\n"
      ]
    },
    {
      "cell_type": "code",
      "execution_count": null,
      "metadata": {
        "cellView": "form",
        "id": "cTNeZyJQU7I1"
      },
      "outputs": [],
      "source": [
        "# @title length of list\n",
        "# একটি ডেটা স্ট্রাকচারের মোট কয়টি উপাদান (element/item) আছে — সেটাই তার length।\n",
        "colours = ['red','blue','neviblue','purple','white','blace']\n",
        "calculation =['sum','max','min','avg','count','multiplied','divided','minus']\n",
        "len(calculation)\n",
        "#len(colours)\n",
        "\n"
      ]
    },
    {
      "cell_type": "code",
      "execution_count": null,
      "metadata": {
        "cellView": "form",
        "id": "K_E3wbuLU7Fe"
      },
      "outputs": [],
      "source": [
        "# @title smallest and greatest element in list .numbers and strings\n",
        "number = [25,14,36,85,95,21,45,63,14,]\n",
        "small =min(number)\n",
        "big = max(number)\n",
        "print(f'smallest number:{small}')\n",
        "print(f'greatest number:{big}')\n",
        "#min(number)\n",
        "#max(number) #এ ভাবেও বের করা যাই\n",
        "\n",
        "\n",
        "#  strings 📌 এখানে ছোট-বড় মানে alphabetically — যেমন A < B < C ...\n",
        "#A সব থেকে ছোট আর Z সব থেকে বড়\n",
        "colours = ['red','blue','neviblue','purple','white','blace']\n",
        "calculation =['sum','max','min','avg','count','multiplied','divided','minus']\n",
        "smallest = min(colours)\n",
        "print(f'smallest string:{smallest}')\n",
        "grestest = max(colours)\n",
        "print(f'grestest string:{grestest}')"
      ]
    },
    {
      "cell_type": "code",
      "execution_count": null,
      "metadata": {
        "cellView": "form",
        "id": "aquktghVU7B9"
      },
      "outputs": [],
      "source": [
        "# @title sort list (সাজানো) # ✅ 1. Ascending Order (ছোট → বড়) # ✅ 2. Descending Order (বড় → ছোট)\n",
        "#num = number.sort() ❌❌\n",
        "# number.sort() ✅✅\n",
        "# ✅ 1. Ascending Order (ছোট → বড়)\n",
        "# ✅ 2. Descending Order (বড় → ছোট)\n",
        "number = [25,14,36,85,95,21,45,63,14,]\n",
        "colours = ['red','blue','neviblue','purple','white','blace']\n",
        "calculation =['sum','max','min','avg','count','multiplied','divided','minus']\n",
        "number.sort()\n",
        "print(f'Ascending sort number:{number}')\n",
        "number.sort(reverse=True)\n",
        "print(f'Descending sort number:{number}')\n",
        "colours.sort()\n",
        "print(f'Ascending sort colours:{colours}')\n",
        "calculation.sort(reverse = True)\n",
        "print(f'Descending sor calculation:{calculation}')\n"
      ]
    },
    {
      "cell_type": "code",
      "execution_count": null,
      "metadata": {
        "cellView": "form",
        "id": "n_lBWtlOU6-b"
      },
      "outputs": [],
      "source": [
        "# @title join()\n",
        "#✔️ এখানে ' ' (একটা স্পেস) দিয়ে সব শব্দ জোড়া হয়েছে।\n",
        "word = ['i','love','you']\n",
        "text = ['age:',str(25)]\n",
        "ad = ' '.join(word)\n",
        "ad1 = ', '.join(word)\n",
        "ad3 = \"\\n\".join(word)\n",
        "ad4 ='\\t'.join(word)\n",
        "print(\" \".join(text))\n",
        "print(f'join word is:{ad}')\n",
        "print(f'disjoind word is:{ad1}')\n",
        "print(f'new line:{ad3}')\n",
        "print(f'new tab:{ad4}')"
      ]
    },
    {
      "cell_type": "code",
      "execution_count": null,
      "metadata": {
        "cellView": "form",
        "id": "OPcbPIWsU65r"
      },
      "outputs": [],
      "source": [
        "# @title Creating a new list\n",
        "# একই  লিস্ট তৈরী করা শুধু নাম  এর প্রথম অক্ষর বড় হাতের\n",
        "colours = ['red','blue','neviblue','purple','white','blace']\n",
        "capatalized_colours=[]\n",
        "for colour in colours:\n",
        "  capatalized_colours.append(colour.title())\n",
        "print(f'capatalized_colours word:{capatalized_colours}')\n",
        "\n"
      ]
    },
    {
      "cell_type": "code",
      "execution_count": null,
      "metadata": {
        "cellView": "form",
        "id": "ZOZ4CiTMGwKP"
      },
      "outputs": [],
      "source": [
        "# @title Adding an element to the end of a list - append()\n",
        "colours = ['red','blue','neviblue','purple','white','blace']\n",
        "colours.append('orange')\n",
        "print(f'colours word:{colours}')\n"
      ]
    },
    {
      "cell_type": "code",
      "execution_count": null,
      "metadata": {
        "cellView": "form",
        "id": "4thXH87EGwF9"
      },
      "outputs": [],
      "source": [
        "# @title Modifying a new list\n",
        "# তুমি যদি কোনো পুরনো list থেকে নতুন list বানাও এবং modify করো, তাহলে সেটা Python-এ খুব সাধারণ এবং দরকারি কাজ।\n",
        "colours = ['red','blue','neviblue','purple','white','blace']\n",
        "new_colours =[]\n",
        "for colour in colours:\n",
        "  new_colours.append(colour.title())\n",
        "print(f'new colours word:{new_colours}')\n",
        "\n",
        "\n"
      ]
    },
    {
      "cell_type": "code",
      "execution_count": null,
      "metadata": {
        "cellView": "form",
        "id": "akl-LvVyKq4x"
      },
      "outputs": [],
      "source": [
        "# @title Title case করে নতুন list বানানো\n",
        "colours = ['red','blue','neviblue','purple','white','blace']\n",
        "new_colours =[]\n",
        "for colour in colours:\n",
        "  new_colours.append(colour.title())\n",
        "print(f'new colours word:{new_colours}')\n",
        "\n"
      ]
    },
    {
      "cell_type": "code",
      "execution_count": null,
      "metadata": {
        "cellView": "form",
        "id": "P7tWboBzKmIJ"
      },
      "outputs": [],
      "source": [
        "# @title সংখ্যার list থেকে বর্গ করে নতুন list(+, -, *, /, **,%)\n",
        "numbers = [4,9,8,7,6,5,3,12,14,15,18]\n",
        "num = []\n",
        "for number in numbers:\n",
        "  num.append(number**2)\n",
        "  num.sort() #  ascending order এ সাজানো\n",
        "print(f'square numbr:{num}')\n"
      ]
    },
    {
      "cell_type": "code",
      "execution_count": null,
      "metadata": {
        "cellView": "form",
        "id": "iW52t_iSKmEH"
      },
      "outputs": [],
      "source": [
        "# @title Filter করে নতুন list (যেমন শুধু বড় সংখ্যাগুলো রাখা)\n",
        "numbers = [15,44,78,65,32,14,12,9,8,5,6,14,78,25,214,521,51]\n",
        "num = []\n",
        "for number in numbers:\n",
        "  if number > 20:\n",
        "    num.append(number)\n",
        "    num.sort() # ascending order এ সাজানো\n",
        "print(f' 20 < number:{num}')\n",
        "\n"
      ]
    },
    {
      "cell_type": "code",
      "execution_count": null,
      "metadata": {
        "cellView": "form",
        "collapsed": true,
        "id": "WWAvZr4MKl-R"
      },
      "outputs": [],
      "source": [
        "# @title Even / Odd number গুলো রেখে নতুন list\n",
        "numbers = [15,44,78,65,32,14,12,9,8,5,6,1,54,21,36,25,27,24,44,88,66,22,26,24,28,22]\n",
        "num = []\n",
        "for number in numbers:\n",
        "  if number % 2 ==0:\n",
        "    num.append(number)\n",
        "    num.sort() # ascending order এ সাজানো\n",
        "print(f'Even numbers:{num}')\n",
        "\n"
      ]
    },
    {
      "cell_type": "code",
      "execution_count": null,
      "metadata": {
        "cellView": "form",
        "id": "vpCDbOXiKl6f"
      },
      "outputs": [],
      "source": [
        "# @title Print a formatted string from parameters in list\n",
        "colours = ['red','blue','neviblue','purple','white','blace']\n",
        "html_str = '<ul>\\n'\n",
        "for colour in colours:\n",
        "  html_str +=f'<>{colour} <>\\n' #এখানে += লিখতে হবে একসাথে, স্পেস ছাড়া।\n",
        "html_str +='<ul>' #এখানে += লিখতে হবে একসাথে, স্পেস ছাড়া।\n",
        "print(html_str)\n",
        "\n"
      ]
    },
    {
      "cell_type": "code",
      "execution_count": null,
      "metadata": {
        "cellView": "form",
        "id": "e-tgoxNuKlw3"
      },
      "outputs": [],
      "source": [
        "# @title Convertion (list, tuple, set, dict)\n",
        "colours_tuple= ('red','blue','neviblue','purple','white','blace')\n",
        "print('tuple to list:',list(colours_tuple))\n",
        "\n",
        "colours_set= {'red','blue','neviblue','purple','white','blace'}\n",
        "print('set to list:',list(colours_set))\n",
        "\n",
        "\n",
        "colours_dict= {'red','blue','neviblue','purple','white','blace'}\n",
        "print('dict to list:',list(colours_dict))\n",
        "print('dict to tuple:',tuple(colours_dict))\n",
        "\n",
        "colours_list = ['red','blue','neviblue','purple','white','blace']\n",
        "print('list to tuple:',tuple(colours_list))\n",
        "print('set to tuple:', tuple(colours_set))\n",
        "\n",
        "colours_list = ['red','blue','neviblue','purple','white','blace']\n",
        "print('list to set:',set(colours_list))\n",
        "print('tuple to set:', set(colours_tuple))\n"
      ]
    },
    {
      "cell_type": "markdown",
      "metadata": {
        "id": "k1ZwYMBkMtn8"
      },
      "source": [
        "### ###tuple ()"
      ]
    },
    {
      "cell_type": "code",
      "execution_count": null,
      "metadata": {
        "cellView": "form",
        "id": "rlVlwb6yMwD1"
      },
      "outputs": [],
      "source": [
        "# @title Create and Access tuple\n",
        "colours = ('red','blur','neviblue','purple','white','blace')\n",
        "print(f'colours:{colours}')\n",
        "print(f'colours position 2: {colours[2]}')\n",
        "print(f'colours position 5: {colours[5]}')\n"
      ]
    },
    {
      "cell_type": "code",
      "execution_count": null,
      "metadata": {
        "cellView": "form",
        "id": "oNYfrA6DMwkF"
      },
      "outputs": [],
      "source": [
        "# @title Tuple unpacking\n",
        "#Tuple unpacking মানে হলো — একটি tuple-এর মধ্যে থাকা একাধিক মানকে আলাদা আলাদা ভেরিয়েবলে ভাগ করে নেওয়া। এটাকে বাংলায় বলা যায়:\n",
        "#টুপলের ভিতরের উপাদানগুলো খুলে আলাদা আলাদা ভেরিয়েবলে রাখা।\n",
        "#⚠️ সতর্কতা: Tuple-এর মধ্যে যতগুলো আইটেম থাকবে, unpack করার সময় সেই সংখ্যক ভেরিয়েবল লাগবে।\n",
        "info = ('abdul malek','25', 'student','unmarite', 'islam')\n",
        "name, age, job, status, religion = info\n",
        "print(f'name: {name}')\n",
        "print(f'age: {age}')\n",
        "print(f'job: {job}')\n",
        "print(f'status: {status}')\n",
        "print(f'religion: {religion}')\n",
        "\n",
        "\n",
        "\n",
        "\n"
      ]
    },
    {
      "cell_type": "code",
      "execution_count": null,
      "metadata": {
        "id": "aPyQMf02MwbV"
      },
      "outputs": [],
      "source": []
    },
    {
      "cell_type": "code",
      "execution_count": null,
      "metadata": {
        "id": "IKxeJtXPSkp1"
      },
      "outputs": [],
      "source": []
    },
    {
      "cell_type": "markdown",
      "metadata": {
        "id": "sLHt5-hTMzVv"
      },
      "source": [
        "### ###Set {}"
      ]
    },
    {
      "cell_type": "code",
      "execution_count": null,
      "metadata": {
        "cellView": "form",
        "id": "KhR-XEY7M1tg"
      },
      "outputs": [],
      "source": [
        "# @title  Create set and Access\n",
        "colours = {'red','blur','neviblue','purple','white','blace'}\n",
        "print(f'colours:{colours}')\n",
        "colours_list = list(colours)\n",
        "print(f'colours position 2:{colours_list[2]}')\n"
      ]
    },
    {
      "cell_type": "code",
      "execution_count": null,
      "metadata": {
        "cellView": "form",
        "id": "9v7Mf7NxM2Fg"
      },
      "outputs": [],
      "source": [
        "# @title  in not in\n",
        "colours = {'red','blue','neviblue','purple','white','blace'}\n",
        "print('red' in colours)\n",
        "print(f'colours blue :','blue' in colours)\n",
        "print(f'colours While:','White' in colours)\n",
        "print(f'colours marko:','marko' in colours)\n",
        "print(f'colours greey:', 'greey' not in colours)\n"
      ]
    },
    {
      "cell_type": "code",
      "execution_count": null,
      "metadata": {
        "cellView": "form",
        "id": "-0w0sq2tjRAn"
      },
      "outputs": [],
      "source": [
        "from os import remove\n",
        "# @title  add and removed\n",
        "colours = {'red','blue','neviblue','purple','white','blace'}\n",
        "colours.add('orange')\n",
        "print(f'colours update:{colours}')\n",
        "colours.remove(\"blue\")\n",
        "print(f'colours remove:{colours}')"
      ]
    },
    {
      "cell_type": "code",
      "execution_count": null,
      "metadata": {
        "id": "TlIogFe2jQ2Q"
      },
      "outputs": [],
      "source": []
    },
    {
      "cell_type": "code",
      "execution_count": null,
      "metadata": {
        "id": "hu9Nhc0xjQrJ"
      },
      "outputs": [],
      "source": []
    },
    {
      "cell_type": "markdown",
      "metadata": {
        "id": "XAMAzPIMM3dp"
      },
      "source": [
        "### ###Dict {}"
      ]
    },
    {
      "cell_type": "code",
      "execution_count": null,
      "metadata": {
        "cellView": "form",
        "id": "xHEmFecz1iD5"
      },
      "outputs": [],
      "source": [
        "# @title check for valu\n",
        "# dictionary একটি মান আছে কিনা তা পরীক্ষা করুন\n",
        "infos = {'abdul': 25,'munna': 15,'mamun':24,'naim':23,'masud':24,'rana':28,'sujon':21}\n",
        "print(infos)\n"
      ]
    },
    {
      "cell_type": "code",
      "execution_count": null,
      "metadata": {
        "cellView": "form",
        "id": "csqSLZIqmQfN"
      },
      "outputs": [],
      "source": [
        "# @title Create and Access dict {dict}.\n",
        "infos = {'abdul': 25,'munna': 15,'mamun':24,'naim':23,'masud':24,'rana':28,'sujon':21}\n",
        "print(f'name and age:{infos}')\n",
        "print(f'abdul age:',infos['abdul'])\n",
        "print(f'mamun age:', infos['mamun'])\n"
      ]
    },
    {
      "cell_type": "markdown",
      "metadata": {
        "id": "Fs8ZwUqEoiyq"
      },
      "source": [
        "####  ####Update {dict.}"
      ]
    },
    {
      "cell_type": "code",
      "execution_count": null,
      "metadata": {
        "cellView": "form",
        "id": "Iw4KkgAJon0V"
      },
      "outputs": [],
      "source": [
        "# @title updae {dict.}\n",
        "infos = {'abdul': 25,'munna': 15,'mamun':24,'naim':23,'masud':24,'rana':28,'sujon':21}\n",
        "infos.update({'moynul':23})\n",
        "print(f'update infos:{infos}')\n",
        "infos.update({'masum':22, 'mahim':19, 'asadul':20, 'monir':16})\n",
        "print(f'update infos:{infos}')\n",
        "\n"
      ]
    },
    {
      "cell_type": "code",
      "execution_count": null,
      "metadata": {
        "cellView": "form",
        "id": "_j2bT0WRonxE"
      },
      "outputs": [],
      "source": [
        "# @title add {dict.}\n",
        "infos = {'abdul': 25,'munna': 15,'mamun':24,'naim':23,'masud':24,'rana':28,'sujon':21}\n",
        "infos['raihan'] =25\n",
        "print(f'update infos:{infos}')\n"
      ]
    },
    {
      "cell_type": "code",
      "execution_count": null,
      "metadata": {
        "cellView": "form",
        "id": "SpQLqez_onoV"
      },
      "outputs": [],
      "source": [
        "# @title Update valus{dict.}\n",
        "infos = {'abdul': 25,'munna': 15,'mamun':24,'naim':23,'masud':24,'rana':28,'sujon':21}\n",
        "infos['abdul'] = 20\n",
        "print(infos)\n"
      ]
    },
    {
      "cell_type": "code",
      "execution_count": null,
      "metadata": {
        "cellView": "form",
        "id": "i4fgF5blonb0"
      },
      "outputs": [],
      "source": [
        "from typing_extensions import AsyncGenerator\n",
        "# @title  🔁  user থেকে ইনপুট নিয়েও dictionary-তে item যোগ করা\n",
        "infos = {'abdul': 25,'munna': 15,'mamun':24,'naim':23,'masud':24,'rana':28,'sujon':21}\n",
        "# ইউজার থেকে ইনপুট নেওয়া\n",
        "name = input('enter your name:')\n",
        "age = int(input(\"enter your age\"))\n",
        "# dictionary-তে যোগ করা\n",
        "infos[name] =age\n",
        "# use looop\n",
        "for name,age in infos.items():\n",
        "  print(f'name:{name} age:{age}')\n",
        "\n"
      ]
    },
    {
      "cell_type": "code",
      "execution_count": null,
      "metadata": {
        "cellView": "form",
        "id": "VXSosdiineWb"
      },
      "outputs": [],
      "source": [
        "# @title user থেকে  একাধিকবার ইনপুট নিয়ে  (loop দিয়ে):\n",
        "infos ={}\n",
        "n = int(input('how many people do you want to add?'))\n",
        "for i in range(n):\n",
        "  name =input(f\"enter your name {i+1}:\") #i+1 দিয়ে ধাপে ধাপে নাম্বার দেখানো হচ্ছে\n",
        "  age = int(input('enter your age:'))\n",
        "  infos[name] =age\n",
        "\n",
        "print(f'\\n final list:')\n",
        "for name,age in infos.items():\n",
        "  print(f'name:{name} age:{age}')\n",
        "\n",
        "\n",
        "\n"
      ]
    },
    {
      "cell_type": "code",
      "execution_count": null,
      "metadata": {
        "cellView": "form",
        "id": "qbgy9KnvneQ5"
      },
      "outputs": [],
      "source": [
        "# @title যাদের বয়স ১৮ এর কম তাদের info add করবে না.\n",
        "infos = {}\n",
        "info = int(input('কত জনের নাম ও বয়স যোগ করতে চাও?'))\n",
        "for i in range(info):\n",
        "  name = input(f'আপনের নাম লিখুন {i+1}:')\n",
        "  name = input(f' আপনের বয়স লিখুন {i+1}:')\n",
        "  infos [name] = age\n",
        "\n",
        "if age <18:\n",
        "  print(f'{name} is under 18. skippping.....\\n')\n",
        "\n",
        "print('-----চূড়ান্ত তালিকা-----')\n",
        "for name,age in infos.items():\n",
        "  print(f'name:{name} - age:{age}')"
      ]
    },
    {
      "cell_type": "code",
      "execution_count": null,
      "metadata": {
        "id": "t0b2IAQfneNS"
      },
      "outputs": [],
      "source": []
    },
    {
      "cell_type": "markdown",
      "metadata": {
        "id": "0zc3PeZKiBId"
      },
      "source": [
        "#### ####Iterating through a dictionary / (for-loop দিয়ে ঘুরানো)"
      ]
    },
    {
      "cell_type": "code",
      "execution_count": null,
      "metadata": {
        "cellView": "form",
        "id": "q3SkNOK2iJw5"
      },
      "outputs": [],
      "source": [
        "# @title 🔹 1. শুধু keys-এর উপর iterate:\n",
        "infos = {'abdul': 25,'munna': 15,'mamun':24,'naim':23,'masud':24,'rana':28,'sujon':21}\n",
        "for name in infos.keys():\n",
        "  print(f'name: {name}')\n"
      ]
    },
    {
      "cell_type": "code",
      "execution_count": null,
      "metadata": {
        "cellView": "form",
        "id": "5PgWrCZQSiRF"
      },
      "outputs": [],
      "source": [
        "# @title 🔹 2. শুধু values-এর উপর iterate:\n",
        "infos = {'abdul': 25,'munna': 15,'mamun':24,'naim':23,'masud':24,'rana':28,'sujon':21}\n",
        "for age in infos.values():\n",
        "  print(f'age: {age}')\n",
        "\n"
      ]
    },
    {
      "cell_type": "code",
      "execution_count": null,
      "metadata": {
        "cellView": "form",
        "id": "dSwo01m8iOrj"
      },
      "outputs": [],
      "source": [
        "# @title 🔹 3. key ও value একসাথে iterate:\n",
        "infos = {'abdul': 25,'munna': 15,'mamun':24,'naim':23,'masud':24,'rana':28,'sujon':21}\n",
        "for name,age in infos.items():\n",
        "  print(f'{name} is {age} years old')\n"
      ]
    },
    {
      "cell_type": "code",
      "execution_count": null,
      "metadata": {
        "cellView": "form",
        "id": "6nYYWKfciOiD"
      },
      "outputs": [],
      "source": [
        "# @title 🔹 4. শুধু index-wise (key, value) দেখতে চাইলে:\n",
        "infos = {'abdul': 25,'munna': 15,'mamun':24,'naim':23,'masud':24,'rana':28,'sujon':21}\n",
        "for i,(name,age) in enumerate(infos.items()):\n",
        "  print(f'{i+1}. {name} is {age} years old')\n",
        "\n"
      ]
    },
    {
      "cell_type": "code",
      "execution_count": null,
      "metadata": {
        "cellView": "form",
        "id": "P4-DnqgjiOfL"
      },
      "outputs": [],
      "source": [
        "# @title 🔁  value দিয়ে ফিল্টার\n",
        "#চাইলে তুমি,  ,করেশুধু যাদের বয়স বেশি তাদেরও বের করতে পারো।\n",
        "infos = {'abdul': 25,'munna': 15,'mamun':24,'naim':23,'masud':24,'rana':28,'sujon':21}\n",
        "for name,age in infos.items():\n",
        "  if age>18:\n",
        "    print(f'name:{name} - age:{age},  valid for vote')\n",
        "  else:\n",
        "    print(f'name:{name} - age:{age},  not valid for vote')\n"
      ]
    },
    {
      "cell_type": "code",
      "execution_count": null,
      "metadata": {
        "cellView": "form",
        "id": "Y7B_-Eeyl-4d"
      },
      "outputs": [],
      "source": [
        "# @title check whether a value is in a dictionary or ( in function)\n",
        "#dictionaryএকটি মান আছে কিনা তা পরীক্ষা করুন\n"
      ]
    },
    {
      "cell_type": "markdown",
      "metadata": {
        "id": "BdEROG3u2VTK"
      },
      "source": [
        "#### ####check whether a value is in a dictionary of"
      ]
    },
    {
      "cell_type": "code",
      "execution_count": null,
      "metadata": {
        "cellView": "form",
        "id": "pQIBFK0T2s5t"
      },
      "outputs": [],
      "source": [
        "# @title 🔹 1. কোনো value আছে কিনা — চেক করা:\n",
        "infos = {'abdul': 25,'munna': 15,'mamun':24,'naim':23,'masud':24,'rana':28,'sujon':21}\n",
        "#age =int(input('enter your age:'))\n",
        "if a25 in infos.values():\n",
        "  print('25 is found in the dictionary.')\n",
        "  #print(f'{age} is found in the dictionry.')\n",
        "else:\n",
        "  print('25 is not found in the dictionary.')\n",
        "  #print(f'{age} in not found in the dictionary.')\n"
      ]
    },
    {
      "cell_type": "code",
      "execution_count": null,
      "metadata": {
        "cellView": "form",
        "id": "wvpLEh0y2slk"
      },
      "outputs": [],
      "source": [
        "# @title 🔹 2. কোনো key আছে কিনা — চেক করা:\n",
        "infos = {'abdul': 25,'munna': 15,'mamun':24,'naim':23,'masud':24,'rana':28,'sujon':21}\n",
        "#name = input('enter your name:')\n",
        "if 'mamun' in infos.keys():\n",
        "  print('mamun is found in the dictionary.')\n",
        "  #print(f'{name} is found in the dictionary.')\n",
        "else:\n",
        "  print('mamun in sot found in the dictionary.')\n",
        "  #print(f'{name} is not found in the dictionary.')\n"
      ]
    },
    {
      "cell_type": "code",
      "execution_count": null,
      "metadata": {
        "cellView": "form",
        "collapsed": true,
        "id": "Vd6frSIh46Jo"
      },
      "outputs": [],
      "source": [
        "# @title 🔹 2. কোনো items আছে কিনা — চেক করা:\n",
        "infos = {'abdul': 25,'munna': 15,'mamun':24,'naim':23,'masud':24,'rana':28,'sujon':21}\n",
        "if 'abdul' in infos and infos['abdul'] ==25:\n",
        "  print('abdul is found in the dictionary.')\n",
        "else:\n",
        "  print('abdul in not found in the dictionary.')\n"
      ]
    },
    {
      "cell_type": "code",
      "execution_count": null,
      "metadata": {
        "cellView": "form",
        "id": "sSat840C46_A"
      },
      "outputs": [],
      "source": [
        "# @title 🧪 Bonus: ইউজার ইনপুট দিয়ে চেক করা .\n",
        "infos = {'abdul': 25,'munna': 15,'mamun':24,'naim':23,'masud':24,'rana':28,'sujon':21}\n",
        "name = input('enter your name:')\n",
        "age = int(input('enter your age:'))\n",
        "if name in infos and infos[name] ==age:\n",
        "  print(f'name:{name} and age:{age} \\nis found in the dictionary. ')\n",
        "else:\n",
        "  print(f'{name} and {age} \\nis not found in the dictionary.')\n"
      ]
    },
    {
      "cell_type": "code",
      "execution_count": null,
      "metadata": {
        "id": "g8-FBMrv7tqc"
      },
      "outputs": [],
      "source": []
    },
    {
      "cell_type": "markdown",
      "metadata": {
        "id": "01WNbwI58OVz"
      },
      "source": [
        "#### ####get() looks up values in a dictionary"
      ]
    },
    {
      "cell_type": "code",
      "execution_count": null,
      "metadata": {
        "cellView": "form",
        "id": "MJC9-vun8UrO"
      },
      "outputs": [],
      "source": [
        "# @title get () ব্যবহার করে dict. থেকে ভ্যালু খুজা\n",
        "infos = {'abdul': 25,'munna': 15,'mamun':24,'naim':23,'masud':24,'rana':28,'sujon':21}\n",
        "print(infos.get('abdul',ValueError)) # valueError = 🔹 Key না থাকলে default মান দিবে\n",
        "#ইচ্ছা মতো মন দেওয়াযাই ex= not value, error, not find a value\n",
        "print(infos.get('Abdul',\"not find\"))"
      ]
    },
    {
      "cell_type": "code",
      "execution_count": null,
      "metadata": {
        "id": "Vmi-5jI18Ukq"
      },
      "outputs": [],
      "source": []
    },
    {
      "cell_type": "code",
      "execution_count": null,
      "metadata": {
        "id": "jofVmChw8Uae"
      },
      "outputs": [],
      "source": []
    },
    {
      "cell_type": "markdown",
      "metadata": {
        "id": "6XrSzY4c_Lq-"
      },
      "source": [
        "#### ####Identity operators"
      ]
    },
    {
      "cell_type": "code",
      "execution_count": null,
      "metadata": {
        "cellView": "form",
        "id": "RlAb6WF5_SNA"
      },
      "outputs": [],
      "source": [
        "# @title Identity operators\n",
        "# চেক করে দুইটি ভেরিয়েবল একই object কিনা, মানে তারা memory-তে একই জায়গায় আছে কিনা।\n",
        "a= [1,5,8,7,4]\n",
        "b=a\n",
        "c=[2,5,7,8,4,5]\n",
        "print(f'a is b:{a is b}')\n",
        "print(f'a == b:{a==b}')\n",
        "print(f'a is c:{a is c}')\n",
        "print(f'b == c:{b==c}')"
      ]
    },
    {
      "cell_type": "markdown",
      "metadata": {
        "id": "-sapMVDNgBHz"
      },
      "source": [
        "#### ####Compound Data Structures"
      ]
    },
    {
      "cell_type": "code",
      "execution_count": null,
      "metadata": {
        "cellView": "form",
        "id": "wBSTB2U0gFET"
      },
      "outputs": [],
      "source": [
        "# @title Compound Data Structures\n",
        "info = [\n",
        "    {'customer1':{'abdul malek':25, 'phone':'01762','village':'ratonkandi','versity':'AMIE'},\n",
        "    'customer2':{'naim':20,'phone':'10752','village':'baira','versity':'non'},\n",
        "    'customer3':{'mahin':26,'phone':'10756','village':'norail','versity':'dhaka'}}\n",
        "\n",
        "]\n",
        "customer1 = info[0]['customer1'] #print customer1\n",
        "print(f'customer1:{customer1}')\n",
        "customer2 = info[0]['customer2'] #print customer2\n",
        "print(f'customer2:{customer2}')\n",
        "customer3=info[0]['customer3'] #print customer3\n",
        "print(f'customer3:{customer3}')\n",
        "\n",
        "customer1_name = info[0]['customer1']['abdul malek']\n",
        "print(f'abdul malek age:{customer1_name}')\n",
        "customer2 =info[0]['customer2']['phone']\n",
        "print(f'naim contact is :{customer2}')"
      ]
    },
    {
      "cell_type": "code",
      "execution_count": null,
      "metadata": {
        "cellView": "form",
        "id": "grkiMfkKf_yw"
      },
      "outputs": [],
      "source": [
        "# @title problem no-1 (🔹 প্রশ্ন ১: ছাত্রদের নাম ও নাম্বার সংরক্ষণ কর)\n",
        "#একটি প্রোগ্রাম লেখো যেখানে তুমি ৩ জন ছাত্রের নাম ও তার নম্বর ইনপুট নিয়ে একটি dictionary বানাবে এবং তা প্রিন্ট করবে।\n",
        "info ={}\n",
        "n = int(input('How many student add to dictinoary:'))\n",
        "for i in range(n):\n",
        "  name = input('enter your name :')\n",
        "  num = int(input('enter your mark :'))\n",
        "  info[name] = num\n",
        "\n",
        "print('-----final list-----')\n",
        "for name,num in info.items():\n",
        "  print(f'name:{name} \\n number:{num}')\n",
        "\n",
        "\n",
        "\n",
        "\n"
      ]
    },
    {
      "cell_type": "code",
      "execution_count": null,
      "metadata": {
        "cellView": "form",
        "id": "qlX3USxBf_nh"
      },
      "outputs": [],
      "source": [
        "# @title probllem no-2 (🔹 প্রশ্ন ২: সর্বোচ্চ নাম্বারধারীকে খুঁজে বের করো)\n",
        "info = {'rafi':85,'nadia':90,'asif':78}\n",
        "for name,mark in info.items():\n",
        "  print(f'name:{name} mark:{mark}')\n",
        "\n",
        "\n",
        "def find_topper(info):\n",
        "  topper_mark = 0\n",
        "  topper_name =''\n",
        "  for name,mark in info.items():\n",
        "    if mark >topper_mark:\n",
        "      topper_mark = mark\n",
        "      topper_name= name\n",
        "  print(f'topper is {topper_name} with {topper_mark} mark')\n",
        "\n",
        "print('\\n-----topper-----')\n",
        "find_topper(info)\n",
        "\n"
      ]
    },
    {
      "cell_type": "code",
      "execution_count": null,
      "metadata": {
        "cellView": "form",
        "id": "G6blNRP8_SmI"
      },
      "outputs": [],
      "source": [
        "# @title নাম এবং নম্বর আগে রিটার্ন করবে তার পর problem no-2\n",
        "def find_topper(info):\n",
        "  topper_mark = -1\n",
        "  topper_name =''\n",
        "  for name,mark in info.items():\n",
        "    if mark > topper_mark:\n",
        "      topper_mark = mark\n",
        "      topper_name = name\n",
        "  return topper_name, topper_mark\n",
        "\n",
        "info = {'rafi':85,'nadia':90,'asif':78}\n",
        "print('-----All STUDENT-----')\n",
        "for name,mark in info.items():\n",
        "  print(f'name:{name}  mark:{mark}')\n",
        "print('\\n-----topper_name_and_mark-----')\n",
        "name,mark = find_topper(info)\n",
        "print(f'topper is {name}  with {mark} mark')\n"
      ]
    },
    {
      "cell_type": "code",
      "execution_count": null,
      "metadata": {
        "cellView": "form",
        "id": "Qa-OYYRj5r-L"
      },
      "outputs": [],
      "source": [
        "# @title  প্রশ্ন ৩: ছাত্রদের গড় নাম্বার বের করো এবং Pass/Fail নির্ধারণ করো\n",
        "students = {\n",
        "    \"Lima\": [80, 90, 85],\n",
        "    \"Zahid\": [60, 75, 70],\n",
        "    \"Afsana\": [50, 45, 55]\n",
        "}\n",
        "for name,marks in students.items():\n",
        "    total =sum(marks)\n",
        "    avg = total / len(marks)\n",
        "    if avg>=60:\n",
        "        print(f'{name} with ave mark:{avg:.2f}-passed')\n",
        "    else:\n",
        "        print(f'{name} with avg mark{avg:.2f}-failed')\n",
        "\n"
      ]
    },
    {
      "cell_type": "code",
      "execution_count": null,
      "metadata": {
        "cellView": "form",
        "id": "85Ynumdk52aV"
      },
      "outputs": [],
      "source": [
        "# @title 🔹 প্রশ্ন ৪: তালিকার ভিতরে তালিকা\n",
        "# একটি list তৈরি করো, যার প্রতিটি উপাদান হবে আরেকটি list — যেখানে থাকবে একটি ছাত্রের নাম ও তার বয়স।\n",
        "# ✅ প্রতিটি ছাত্র সম্পর্কে এমনভাবে প্রিন্ট করো:\"Rafi is 15 years old.\"\n",
        "\n",
        "students = [\n",
        "    ['Rafi', 15],\n",
        "    ['Nadia', 16],\n",
        "    ['Asif', 14]\n",
        "]\n",
        "for student in students:\n",
        "  name,age = student\n",
        "  print(f'{name} is {age} years old.')"
      ]
    },
    {
      "cell_type": "code",
      "execution_count": null,
      "metadata": {
        "cellView": "form",
        "id": "-HnMAon_52CP"
      },
      "outputs": [],
      "source": [
        "# @title 🔹 প্রশ্ন 5: Dictionary এর ভিতরে List\n",
        "#✅ প্রতিটি বিষয়ের গড় নম্বর বের করো।\n",
        "\n",
        "\n",
        "marks = {\n",
        "    \"Math\": [85, 78, 92],\n",
        "    \"Science\": [88, 90, 84]\n",
        "}\n",
        "for sub,mark in marks.items():\n",
        "  avg = sum(mark) / len(mark)\n",
        "  print(f'sub:{sub}  avg mark:{avg:.2f}')\n",
        "\n"
      ]
    },
    {
      "cell_type": "code",
      "execution_count": null,
      "metadata": {
        "cellView": "form",
        "id": "lmanXu4Z517e"
      },
      "outputs": [],
      "source": [
        "# @title 🔹 প্রশ্ন 6: প্রজেক্ট মার্কস বিশ্লেষণ\n",
        "#✅ কোন গ্রুপ সবচেয়ে বেশি মার্ক পেয়েছে?\n",
        "#✅ সব গ্রুপের গড় মার্ক কত?\n",
        "projects = {\n",
        "    \"Group A\": {\"leader\": \"Rafi\", \"marks\": 85},\n",
        "    \"Group B\": {\"leader\": \"Nadia\", \"marks\": 92},\n",
        "    \"Group C\": {\"leader\": \"Siam\", \"marks\": 75}\n",
        "}\n",
        "total_mark = 0\n",
        "top_mark = 0  # 1 or -1\n",
        "top_group = ''\n",
        "\n",
        "for group_name, deatils in projects.items():\n",
        "  mark = deatils['marks']   # mark = details[\"marks\"] দিয়ে নম্বর বের করছি\n",
        "  total_mark += mark        # সব নম্বর যোগ করছি গড় বের করার জন্য\n",
        "  if mark>top_mark:         # যদি mark > top_mark, তাহলে এই গ্রুপটাই এখন টপ গ্রুপ\n",
        "    top_mark = mark\n",
        "    top_group =group_name\n",
        "\n",
        "avg_mark = total_mark / len(projects)\n",
        "#👉 এখানে len(projects) দিয়ে গ্রুপের সংখ্যা পাওয়া যাচ্ছে (এই ক্ষেত্রে ৩)\n",
        "#👉 total_marks ভাগ করে গড় বের করা হচ্ছে\n",
        "print(f'Top group is {top_group} with {top_mark} mark ')\n",
        "print(f'group avg mark:{avg_mark:.2f}')\n",
        "\n",
        "\n",
        "\n",
        "\n",
        "\n"
      ]
    },
    {
      "cell_type": "markdown",
      "metadata": {
        "id": "1E4SoSBHWz_k"
      },
      "source": [
        "#### ####Dict frequency counter"
      ]
    },
    {
      "cell_type": "code",
      "execution_count": null,
      "metadata": {
        "cellView": "form",
        "id": "zXO6pic3W56v"
      },
      "outputs": [],
      "source": [
        "# @title Dict frequency counter তৈরী করার রেসিপি\n",
        " #ফ্রিকোয়েন্সি কাউন্টার মানে হলো, কোন লিস্টে কোন আইটেম (যেমন: শব্দ, সংখ্যা, ফলের নাম ইত্যাদি) কতবার এসেছে, সেটা গুনে বের করা।\n",
        " 1.একটি list[] তৈরী করতে হবে\n",
        " 2.ফাঁকা dictionary{} তৈরী করতে হবে\n",
        " 3. loop চালাতে হবে (for x in y: )\n",
        " 4.x এর মান গুলো ফাঁকা dictionary তে input  করতে হবে (if x in dictionary)\n",
        " 5. এখন একে একে item গুলা যোগ করতে হবে\n",
        " 6.else condition\n",
        " 7.print\n"
      ]
    },
    {
      "cell_type": "code",
      "execution_count": null,
      "metadata": {
        "cellView": "form",
        "id": "Isr14nfLW_LS"
      },
      "outputs": [],
      "source": [
        "# @title Dict frequency counter\n",
        "items = ['apple', 'banana', 'apple', 'orange', 'banana', 'apple']\n",
        "empty = {}\n",
        "for item in items:\n",
        "  if item in empty:\n",
        "    empty[item] +=1\n",
        "  else:\n",
        "    empty[item] = 1\n",
        "\n",
        "print(empty)"
      ]
    },
    {
      "cell_type": "code",
      "execution_count": null,
      "metadata": {
        "cellView": "form",
        "id": "nh9WVBCxW_Er"
      },
      "outputs": [],
      "source": [
        "# @title 🔁 আরেকটা ছোট করে লেখার উপায় (get() দিয়ে):\n",
        "items = ['apple', 'banana', 'apple', 'orange', 'banana', 'apple']\n",
        "empty = {}\n",
        "for item in items:\n",
        "   empty[item] = empty.get(item,0) + 1\n",
        "print(empty)\n",
        "\n",
        "\n",
        "\n"
      ]
    },
    {
      "cell_type": "code",
      "execution_count": null,
      "metadata": {
        "cellView": "form",
        "id": "ao1hhSvOW_Bh"
      },
      "outputs": [],
      "source": [
        "# @title 🧠 সহজতম উপায় (collections.Counter):\n",
        "from collections import Counter\n",
        "#Counter এর C বড় হাতের অক্ষর হতে হবে ,তা না হলে ভুল হবে\n",
        "items = ['apple', 'banana', 'apple', 'orange', 'banana', 'apple']\n",
        "empty = {}\n",
        "empty = Counter(items) # used C Capital letters\n",
        "print(empty)\n",
        "\n"
      ]
    },
    {
      "cell_type": "code",
      "execution_count": null,
      "metadata": {
        "cellView": "form",
        "id": "igc0vN8iW--R"
      },
      "outputs": [],
      "source": [
        "# @title 📝 যদি বাক্যের শব্দ গুনতে চাও:\n",
        "sentence = \"ami banglay gan gai ami banglay bhalobashi\"\n",
        "words = sentence.split()\n",
        "empty = {}\n",
        "for word in words:     # প্রতিটি শব্দের জন্য\n",
        "  if word in empty:    # যদি আগেই ডিকশনারিতে থাকে\n",
        "    empty[word] +=1    # তাহলে মান ১ বাড়াও\n",
        "  else:\n",
        "    empty[word]=1      # না থাকলে মান ১ ধরো\n",
        "print(empty)\n"
      ]
    },
    {
      "cell_type": "code",
      "execution_count": null,
      "metadata": {
        "cellView": "form",
        "id": "crHtqpkSi8om"
      },
      "outputs": [],
      "source": [
        "# @title একটি শব্দে কত গুলা একই  letters আছে\n",
        "words = 'bangladesh'\n",
        "empty = {}\n",
        "for word in words:\n",
        "  if word !=' ':\n",
        "    if word in empty:\n",
        "      empty[word] +=1\n",
        "    else:\n",
        "     empty[word] =1\n",
        "print(empty)\n"
      ]
    },
    {
      "cell_type": "markdown",
      "metadata": {
        "id": "aY3GLQpaMKBk"
      },
      "source": [
        "## ##Numpy"
      ]
    },
    {
      "cell_type": "code",
      "execution_count": null,
      "metadata": {
        "id": "sq1eI69aMPcX"
      },
      "outputs": [],
      "source": [
        "import numpy as np  # alias used by convention\n",
        "print(np.__version__)"
      ]
    },
    {
      "cell_type": "code",
      "execution_count": null,
      "metadata": {
        "cellView": "form",
        "id": "eYTdytEZMPv2"
      },
      "outputs": [],
      "source": [
        "# @title (1,2,3 Dimension)\n",
        "# 1 Dimension (vector)\n",
        "vector = np.array([1,2,5,8])\n",
        "print(f'vector:{vector}\\n')\n",
        "\n",
        "# 2 Dimension(matrix)\n",
        "matrix = np.array([[1,4,5],[14,25,31]])\n",
        "print( f'matrix:\\n{matrix}\\n')\n",
        "\n",
        "# 3 Dimension(tensor)\n",
        "tensor =np.array([[12,1,4],[5,5,8],[7,8,9]])\n",
        "print(f'tensor:\\n{tensor}')"
      ]
    },
    {
      "cell_type": "code",
      "execution_count": null,
      "metadata": {
        "cellView": "form",
        "id": "oklRB1RMMPs-"
      },
      "outputs": [],
      "source": [
        "# @title shape , dimension , size, dtype\n",
        "import numpy as np\n",
        "vector = np.array([1,2,5,5]) #row\n",
        "print(f'vector shape:{vector.shape}')\n",
        "print(f'vector dimension:{vector.ndim}')\n",
        "print(f'size:{vector.size}')\n",
        "print(f'data type:{vector.dtype}\\n')\n",
        "\n",
        "matrix = np.array([[1,2,5],[4,8,8]]) # row and collum\n",
        "print(f'matrix shape:{matrix.shape}')\n",
        "print(f'matrix dimension:{matrix.ndim}')\n",
        "print(f'matrix size:{matrix.size}')\n",
        "print(f'matrix data type:{matrix.dtype}\\n')\n",
        "\n",
        "tensor = np.array([  [[4,7,8],[8,9,6]], [[5,8,6],[5,8,9]]  ])\n",
        "print(f'tensor shape:{tensor.shape}')\n",
        "print(f'tensor dimension:{tensor.ndim}')\n",
        "print(f'tensor size:a{tensor.size}')\n",
        "print(f'tensor data type:{tensor.dtype}')\n",
        "\n"
      ]
    },
    {
      "cell_type": "markdown",
      "metadata": {
        "id": "_5bpA-TmKuNH"
      },
      "source": [
        "### ###creat short cut matrix"
      ]
    },
    {
      "cell_type": "code",
      "execution_count": null,
      "metadata": {
        "cellView": "form",
        "id": "tJi0_j92KvRf"
      },
      "outputs": [],
      "source": [
        "# @title zeros matrix\n",
        "import numpy as np\n",
        "print('2*3 arry:',np.zeros((2,3)))"
      ]
    },
    {
      "cell_type": "code",
      "execution_count": null,
      "metadata": {
        "cellView": "form",
        "id": "rROu423FK18j"
      },
      "outputs": [],
      "source": [
        "# @title ones matrix\n",
        "print('3*3 array:',np.ones((3,3)))\n"
      ]
    },
    {
      "cell_type": "code",
      "execution_count": null,
      "metadata": {
        "cellView": "form",
        "collapsed": true,
        "id": "3spdeKcmLIdD"
      },
      "outputs": [],
      "source": [
        "# @title arange matrix\n",
        "# np.arange(start, stop, step) # ( start\tশুরু হবে ১ থেকে , stop\t১৯ পর্যন্ত (কিন্তু ১৯ ধরবে না, ঠিক আগ পর্যন্ত যাবে) , step\tপ্রতি ধাপে ৮ করে বাড়বে )\n",
        "print('evev number:',np.arange(0,20,8))\n",
        "print('odd number:',np.arange(1,19,8))\n"
      ]
    },
    {
      "cell_type": "code",
      "execution_count": null,
      "metadata": {
        "cellView": "form",
        "id": "om4mFGM1LIaU"
      },
      "outputs": [],
      "source": [
        "# @title linspace matrix\n",
        "# np.linspace(start, stop, num) #(start\tশুরু করবে ১ থেকে, stop\tশেষ করবে ৫ এ, num\tমোট কয়টি সংখ্যা দিবে → এখানে ৫টি )\n",
        "print('linspace array:',np.linspace(1,15,5))"
      ]
    },
    {
      "cell_type": "code",
      "execution_count": null,
      "metadata": {
        "cellView": "form",
        "id": "VRKBYv0gpIBp"
      },
      "outputs": [],
      "source": [
        "# @title full matrix\n",
        "# np.full((2,3), 53) মানে: 2 টি সারি (row), 3 টি কলাম (column), প্রতিটি ঘরে ৫৩ বসানো\n",
        "import numpy as np\n",
        "print('full array:',np.full((2,3),5))\n",
        "print('\\n')\n",
        "print('full array:',np.full((1,3),-1))\n",
        "print('\\n')\n",
        "print('full array:',np.full((4,6),20))"
      ]
    },
    {
      "cell_type": "code",
      "execution_count": null,
      "metadata": {
        "cellView": "form",
        "id": "PNSosZP1pQSd"
      },
      "outputs": [],
      "source": [
        "# @title  Identity Matrix\n",
        "#Identity matrix হলো এমন একটি বর্গাকার ম্যাট্রিক্স (square matrix) যার ডায়াগোনাল (কোণাকুণি) ঘরে 1 থাকে, আর বাকি সব ঘরে 0 থাকে।\n",
        "x = np.eye(4)\n",
        "print(f'identity matrix:\\n{x}')"
      ]
    },
    {
      "cell_type": "code",
      "execution_count": null,
      "metadata": {
        "cellView": "form",
        "id": "zbns0_mTpVxQ"
      },
      "outputs": [],
      "source": [
        "# @title Diagonal Matrix\n",
        "# Diagonal Matrix হলো এমন একটি square matrix (বর্গাকার ম্যাট্রিক্স) যার শুধু প্রধান ডায়াগোনাল লাইনে (↘) মান থাকে, আর বাকি সব ঘরে 0 থাকে।\n",
        "x = np.diag([1,2,3,4])\n",
        "print(f'Diagonal Matrix:\\n{x}')"
      ]
    },
    {
      "cell_type": "code",
      "execution_count": null,
      "metadata": {
        "cellView": "form",
        "id": "qX8jS9Uf55yx"
      },
      "outputs": [],
      "source": [
        "# @title slicing matrix formula\n",
        "# NumPy slicing মানে হলো ➤ array বা matrix থেকে নির্দিষ্ট অংশ কেটে/নিয়ে আসা।\n",
        "# 🔰 Syntax:\n",
        "#    array[start_row:end_row, start_col:end_col]\n",
        "# ⚠️ মনে রাখো: end index ধরা হয় না (Python slicing-এর নিয়ম)\n",
        "# :\tসবগুলো\n",
        "# 0:2\tindex 0 থেকে 1 পর্যন্ত\n",
        "# -1\tশেষ উপাদান\n",
        "# [:-1]\tশেষ উপাদান বাদ দিয়ে বাকি সব\n"
      ]
    },
    {
      "cell_type": "code",
      "execution_count": null,
      "metadata": {
        "cellView": "form",
        "id": "Tj1_XWLvt7XX"
      },
      "outputs": [],
      "source": [
        "# @title slicing  matrix\n",
        "\n",
        "x = np.arange(15)\n",
        "print(x)\n",
        "y = x[:5]\n",
        "u = x[:]\n",
        "b = x[-1]\n",
        "v = x[:-1]\n",
        "print(f'v:{v}')\n",
        "print(f'b:{b}')\n",
        "print(f'u:{u}')\n",
        "print(f'y martix:{y}')\n",
        "\n",
        "print(f'\\n-----new matrix-----')\n",
        "orginal_matrix = np.random.randint(40,100, size = (4,4))\n",
        "print(f'orginal matrix:\\n{orginal_matrix}\\n')\n",
        "slicing_1 = orginal_matrix[:2]\n",
        "slicing_2 =orginal_matrix[1:]\n",
        "slicing_3 = orginal_matrix[:2,:2]\n",
        "slicing_4 = orginal_matrix[1:,1:]\n",
        "slicing_5 = orginal_matrix[2:,2:]\n",
        "\n",
        "\n",
        "print(f'slicing 1:\\n {slicing_1}\\n')\n",
        "print(f'slicing 2:\\n {slicing_2}\\n')\n",
        "print(f'slicing 3:\\n{slicing_3}\\n')\n",
        "print(f'slicing 4:\\n{slicing_4}\\n')\n",
        "print(f'slicing 5:\\n{slicing_5}\\n')"
      ]
    },
    {
      "cell_type": "code",
      "execution_count": null,
      "metadata": {
        "cellView": "form",
        "id": "eigZSXBlt7Tn"
      },
      "outputs": [],
      "source": [
        "# @title Mutability Matrix (1D, 2D, 3D)\n",
        "import numpy as np\n",
        "print('-----1 Dimension-----')\n",
        "x = np.array([4,5,8,9,6,7,58,54])\n",
        "x[4]= 100\n",
        "x[5] = 200\n",
        "x[2] = 500\n",
        "print(f'position no-2:{x}')\n",
        "print(f'position no-4:{x}')\n",
        "print(f'position no-5:{x}')\n",
        "\n",
        "print('\\n-----2 Dimension-----')\n",
        "y = np.array([[8,9,6],[9,5,8]])\n",
        "y[0,0] =25\n",
        "y[1,1]= 10\n",
        "y[1,2] = 100\n",
        "print(f'position(0,0):\\n{y}')\n",
        "print(f'position(1,1):\\n{y}')\n",
        "print(f'position(1,2):\\n{y}')\n",
        "\n",
        "print('\\n-----3 Dimension-----')\n",
        "# 3টি layer (বা \"depth slice\") , প্রতিটিতে 2টি row , প্রতিটি row-তে 4টি column\n",
        "v = np.array([[[4,5,8,9],[4,8,9,6]],[[7,8,9,5],[5,8,2,1]],[[4,8,7,9],[2,1,5,9]]])\n",
        "v[1,1,2] =100\n",
        "v[2,0,3] = 500\n",
        "v[0,0,2] = 1000\n",
        "print(f'position(0 1 2):\\n{v}')\n",
        "print(f'position(2 0 3):\\n{v}')\n",
        "print(f'position(0 0 2):\\n{v}')\n",
        "\n",
        "\n",
        "\n"
      ]
    },
    {
      "cell_type": "code",
      "execution_count": null,
      "metadata": {
        "cellView": "form",
        "id": "6L8WSaF4t7Af"
      },
      "outputs": [],
      "source": [
        "# @title delete matrix\n",
        "# np.delete(array, index, axis)\n",
        "# v = np.delete(v, 1, axis=0)\n",
        "# এটি v array-এর দ্বিতীয় layer (index 1) মুছে দেবে\n",
        "# v2 = np.delete(v, 1, axis=1)\n",
        "# প্রতিটি layer থেকে ২য় row (index 1) মুছে যাবে\n",
        "# v3 = np.delete(v, 2, axis=2)\n",
        "# প্রতিটি row থেকে তৃতীয় column (index 2) মুছে যাবে\n",
        "import numpy as np\n",
        "v = np.array([\n",
        "    [[4,5,8,9],[4,8,9,6]],\n",
        "    [[7,8,9,5],[5,8,2,1]],\n",
        "    [[4,8,7,9],[2,1,5,9]]\n",
        "])\n",
        "v1 = np.delete(v,2, axis=0)\n",
        "v2 = np.delete(v,1, axis=1)\n",
        "v3 = np.delete(v,1, axis=2)\n",
        "\n",
        "print(f'v:\\n{v}\\n')\n",
        "print(f'delete layer:\\n{v1}\\n')\n",
        "print(f'delete row:\\n{v2}\\n')\n",
        "print(f'delete collum:\\n{v3}\\n')\n"
      ]
    },
    {
      "cell_type": "code",
      "execution_count": null,
      "metadata": {
        "cellView": "form",
        "id": "Z6-BqJ8ht68-"
      },
      "outputs": [],
      "source": [
        "# @title delete matrix-2\n",
        "import numpy as np\n",
        "# delete the first and last column of Y\n",
        "Y = np.array([[1,2,3],[4,5,6],[7,8,9]])\n",
        "v = np.delete(Y, [0,2], axis=1)\n",
        "print(f'v :\\n{v}')\n",
        "# delete the first and fifth element of x\n",
        "x = np.array([1, 2, 3, 4, 5])\n",
        "x = np.delete(x, [0,4])\n",
        "print(f'x:\\n{x}')\n",
        "# delete the first row of Y\n",
        "Y = np.array([[1,2,3],[4,5,6],[7,8,9]])\n",
        "w = np.delete(Y, 1, axis=0)\n",
        "print(f'y:\\n{y}')\n"
      ]
    },
    {
      "cell_type": "code",
      "execution_count": null,
      "metadata": {
        "cellView": "form",
        "id": "nZ36EkCGsbsb"
      },
      "outputs": [],
      "source": [
        "# @title Reshape matrix\n",
        "# 🔸 কিন্তু শর্ত হলো: পুরনো ও নতুন ম্যাট্রিক্সে উপাদানের সংখ্যা একই থাকতে হবে।\n",
        "x = np.random.randint(-100,100, size = (4,4)) #4*4 = 16\n",
        "#x or print(f'random.randint matrix:\\n{x}')\n",
        "print(f'random.randint matrix:\\n{x}')\n",
        "\n",
        "x_reshape = x.reshape(2,8) #2*8 = 16\n",
        "print(f'x reshape (2,8):\\n{x_reshape}')\n",
        "\n",
        "x_reshape = x.reshape(1,16) #1*16 = 16\n",
        "print(f'x reshape (1,16) :\\n{x_reshape}')\n"
      ]
    },
    {
      "cell_type": "markdown",
      "metadata": {
        "id": "t7-hcoUjodGF"
      },
      "source": [
        "#### ####random matrix"
      ]
    },
    {
      "cell_type": "code",
      "execution_count": null,
      "metadata": {
        "cellView": "form",
        "id": "2amXy2kwnvf4"
      },
      "outputs": [],
      "source": [
        "# @title  random.rand\n",
        "# এটি NumPy লাইব্রেরির একটি ফাংশন যা একটি ৩x৩ (3 rows, 3 columns) আকারের random (এলোমেলো) সংখ্যার ম্যাট্রিক্স তৈরি করে।\n",
        "import numpy as np\n",
        "x = np.random.rand(3,3)\n",
        "print(f'random matrix.rand:\\n{x}')"
      ]
    },
    {
      "cell_type": "code",
      "execution_count": null,
      "metadata": {
        "cellView": "form",
        "id": "io53mZjtnvbg"
      },
      "outputs": [],
      "source": [
        "# @title random.randint\n",
        "# ✅ np.random.randint(-100, 100, size=(3, 3))\n",
        "# -100: নিচের সীমা (lower bound), এই মান সহ\n",
        "# 100: ওপরের সীমা (upper bound), এই মান ছাড়া\n",
        "# size=(3, 3): ম্যাট্রিক্সের আকৃতি → ৩টি সারি (row) এবং ৩টি কলাম (column)\n",
        "# 📌 অর্থাৎ, -100 থেকে 99 পর্যন্ত যেকোনো সংখ্যা হতে পারে প্রতিটি ঘরে।\n",
        "import numpy as np\n",
        "x = np.random.randint(-100,100, size = (3,3))\n",
        "print(f'random.randint matrix:\\n{x}')\n",
        "\n"
      ]
    },
    {
      "cell_type": "markdown",
      "metadata": {
        "id": "ONhTh0nUqhu3"
      },
      "source": [
        "#### ####append matrix"
      ]
    },
    {
      "cell_type": "code",
      "execution_count": null,
      "metadata": {
        "cellView": "form",
        "id": "JEz62FDpq5Rq"
      },
      "outputs": [],
      "source": [
        "# @title append matrix\n",
        "# এটি একটি numpy ফাংশন যেটা দিয়ে নতুন উপাদান যোগ করা যায় অরিজিনাল array এর শেষে।\n",
        "v = np.array([1,2,5,4,6])\n",
        "v = np.append(v,8)\n",
        "print(f'append in v:{v}')\n",
        "\n",
        "x = np.array([[1,2,3],[4,5,6]])\n",
        "x = np.append(x,[[7,8],[9,10]])\n",
        "print(f'appent in x:{x}')\n",
        "\n",
        "#y = np.array([[1,4,5],[5,2,7]],[[4,5,2],[8,9,7]])"
      ]
    },
    {
      "cell_type": "code",
      "execution_count": null,
      "metadata": {
        "cellView": "form",
        "id": "5p76JrJbrPhU"
      },
      "outputs": [],
      "source": [
        "# @title  2D array-তে append (axis ছাড়া)\n",
        "x = np.array([[1,4,8],[8,5,9]])\n",
        "x = np.append(x,[[5,6]])\n",
        "print(f'append in x:{x}')"
      ]
    },
    {
      "cell_type": "code",
      "execution_count": null,
      "metadata": {
        "cellView": "form",
        "id": "C7n6bWAmrPct"
      },
      "outputs": [],
      "source": [
        "# @title 2D তে axis সহ append\n",
        "x = np.array([[1,4,5],[5,8,7]])\n",
        "x = np.append(x,[[2,5,8]], axis = 0)\n",
        "print(f'append in x:\\n{x}')\n"
      ]
    },
    {
      "cell_type": "code",
      "execution_count": null,
      "metadata": {
        "cellView": "form",
        "id": "aEJNzCNRrPTM"
      },
      "outputs": [],
      "source": [
        "# @title column append করতে (axis=1)\n",
        "x = np.array([[1,4,5],[5,8,7]])\n",
        "x = np.append(x,[[2],[5]],axis=1)\n",
        "print(f'append in x:\\n{x}')"
      ]
    },
    {
      "cell_type": "markdown",
      "metadata": {
        "id": "1V1xXlNpzwLq"
      },
      "source": [
        "#### ####copy matrix"
      ]
    },
    {
      "cell_type": "code",
      "execution_count": null,
      "metadata": {
        "cellView": "form",
        "id": "y5d8Y2ZEzzvL"
      },
      "outputs": [],
      "source": [
        "# @title সাধারণভাবে কপি (=) করলে যা হয়\n",
        "import numpy as np\n",
        "a = np.array([1,2,5])\n",
        "b = a # শুধু reference copy\n",
        "b[1]=55\n",
        "print(f'a:\\n{a}')  # a-ও পরিবর্তিত হয়ে যাবে!\n",
        "print(f'b:\\n{b}')\n"
      ]
    },
    {
      "cell_type": "code",
      "execution_count": null,
      "metadata": {
        "cellView": "form",
        "id": "2dmjqTZ-uvO1"
      },
      "outputs": [],
      "source": [
        "# @title সত্যিকারের কপি করতে চাইলে: .copy()\n",
        "a = np.array([1,5,8])\n",
        "b = a.copy()  # এখন b আলাদা কপি\n",
        "b[0]=99\n",
        "print(f'a:\\n{a}')  # a অপরিবর্তিত থাকবে\n",
        "print(f'b:\\n{b}')\n"
      ]
    },
    {
      "cell_type": "code",
      "execution_count": null,
      "metadata": {
        "cellView": "form",
        "id": "Bk6C29W60h9o"
      },
      "outputs": [],
      "source": [
        "# @title 2D বা 3D array-তেও .copy() একদম একইভাবে কাজ করে:\n",
        "a = np.array([[1,4,5],[5,8,2],[8,9,6]])\n",
        "b = a.copy()\n",
        "b[1,2] =999\n",
        "print(f'orgunal array:\\n{a}')\n",
        "print(f'new array:\\n{b}')\n",
        "\n",
        "\n"
      ]
    },
    {
      "cell_type": "code",
      "execution_count": null,
      "metadata": {
        "cellView": "form",
        "id": "83K6dKby2hgM"
      },
      "outputs": [],
      "source": [
        "# @title 3D array\n",
        "a = np.array([[[5,8,2],[9,6,3]],[[7,4,1],[3,6,9]]])\n",
        "b = a.copy()\n",
        "b[1,0,2 ] = 1000\n",
        "print(f'orgilan array:\\n{a}')\n",
        "print(f'new array:\\n{b}')\n"
      ]
    },
    {
      "cell_type": "markdown",
      "metadata": {
        "id": "YQIrrpvowlGG"
      },
      "source": [
        "#### ####insert matrix"
      ]
    },
    {
      "cell_type": "code",
      "execution_count": null,
      "metadata": {
        "cellView": "form",
        "id": "T4Pck4B9wqi1"
      },
      "outputs": [],
      "source": [
        "# @title 1D array-তে insert\n",
        "# np.insert() — মানে Numpy তে কিভাবে array এর মধ্যে নির্দিষ্ট জায়গায় উপাদান বসানো যায়।\n",
        "# np.insert(array, index, values, axis=None) syntex index = position\n",
        "x = np.array([1,5,8,6])\n",
        "x = np.insert(x,2,55)\n",
        "print(f'insert in x:{x}')\n"
      ]
    },
    {
      "cell_type": "code",
      "execution_count": null,
      "metadata": {
        "cellView": "form",
        "id": "dzwQ5U4KwqeW"
      },
      "outputs": [],
      "source": [
        "# @title 2D array → axis ছাড়া\n",
        "x = np.array([[1,4,5],[8,5,9]])\n",
        "x = np.insert(x,5,55)\n",
        "print(f'insert in x:\\n{x}')\n"
      ]
    },
    {
      "cell_type": "code",
      "execution_count": null,
      "metadata": {
        "cellView": "form",
        "id": "nDu3FEbhwqUN"
      },
      "outputs": [],
      "source": [
        "# @title 2D array → row insert (axis=0)\n",
        "x = np.array([[4,5,6],[1,2,3]])\n",
        "x = np.insert(x,1,[7,8,9] , axis=0 )\n",
        "print(f'insert in x:\\n{x}')\n"
      ]
    },
    {
      "cell_type": "code",
      "execution_count": null,
      "metadata": {
        "cellView": "form",
        "id": "B2Gk_8BIyf9s"
      },
      "outputs": [],
      "source": [
        "# @title column insert (axis=1)\n",
        "x = np.array([[5,4,6],[7,8,9]])\n",
        "x = np.insert(x,0,[[10 ,12]], axis=1)\n",
        "print(f'insert collum:\\n{x}')\n"
      ]
    },
    {
      "cell_type": "markdown",
      "metadata": {
        "id": "3fbKV6RJ4Q3g"
      },
      "source": [
        "#### ####diagonal matrix (লম্বালম্বি কর্ণ) উপাদানগুলো বের   করা"
      ]
    },
    {
      "cell_type": "code",
      "execution_count": null,
      "metadata": {
        "cellView": "form",
        "id": "xE5DHI784Tnp"
      },
      "outputs": [],
      "source": [
        "# @title 2D array থেকে Diagonal Elements\n",
        "# (np.diagonal() or np.trace())\n",
        "import numpy as np\n",
        "a = np.array([[5,8,2],[3,6,9],[7,4,1]])\n",
        "diag = np.diagonal(a)\n",
        "y = np.trace(a) # sum kora hoi\n",
        "uper = np.diagonal(a,offset=1)\n",
        "lower = np.diagonal(a,offset=-1)\n",
        "print(f'orginal matrix:\\n{a}\\n')\n",
        "print(f'uper diagonal matrix:\\n{uper}')\n",
        "print(f'lower diagonal matrix:\\n{lower}')\n",
        "print(f'diagonal matrix is:\\n{diag}')\n",
        "print(f'diagonal matrix sum is:{y}')\n",
        "\n",
        "\n",
        "\n"
      ]
    },
    {
      "cell_type": "code",
      "execution_count": null,
      "metadata": {
        "cellView": "form",
        "id": "Q-st3m8r6dMs"
      },
      "outputs": [],
      "source": [
        "# @title Upper বা Lower Diagonal matrix\n",
        "a = np.array([[1,4,7],[8,5,2],[3,6,9]])\n",
        "b = np.diagonal(a)\n",
        "print(f'orginal matrix:\\n{a}\\n')\n",
        "print(f'diagonal matrix is a:\\n{b}')\n",
        "sumof = np.trace(a)\n",
        "print(f'diagonal matrix sum is:{sumof}')\n",
        "uper = np.diagonal(a,offset=1)\n",
        "print(f'uper diagonal matrix:\\n{uper}')\n",
        "lower = np.diagonal(a,offset=-1)\n",
        "print(f'lower diagonal is :\\n{lower}')"
      ]
    },
    {
      "cell_type": "code",
      "execution_count": null,
      "metadata": {
        "cellView": "form",
        "id": "39tsrdDW6dHx"
      },
      "outputs": [],
      "source": [
        "# @title 3D Array থেকে Diagonal বের করতে চাইলে:\n",
        "# যদি প্রতিটি 2D স্লাইস থেকে diagonal বের করতে চাইলে:\n",
        "a = np.array([[[1,4,7],[2,5,8],[3,6,9]],[[7,4,1],[8,5,2],[9,6,3]]])\n",
        "for i in range(a.shape[0]):\n",
        "  print(f\"diagonal of layer {i}:\", np.diagonal(a[i]))\n",
        "\n",
        "# a.shape[0] → 3D array-এর কতটি 2D layer আছে (এখানে 2টি)\n",
        "# np.diagonal(a[i]) → প্রতিটি 2D array-এর main diagonal বের করে আনে\n",
        "\n",
        "\n",
        "\n",
        "\n"
      ]
    },
    {
      "cell_type": "code",
      "execution_count": null,
      "metadata": {
        "id": "8IZWmE646c9R"
      },
      "outputs": [],
      "source": []
    },
    {
      "cell_type": "markdown",
      "metadata": {
        "id": "IptTZ4UsBFe6"
      },
      "source": [
        "#### #### unique matrix\n",
        "এটা ব্যবহার করে যেকোনো 1D, 2D বা 3D array থেকে repeated value বাদ দিয়ে শুধু unique elements বের করা যায়।"
      ]
    },
    {
      "cell_type": "code",
      "execution_count": null,
      "metadata": {
        "cellView": "form",
        "id": "Ve3OCYsRBVS9"
      },
      "outputs": [],
      "source": [
        "# @title 1D array\n",
        "import numpy as np\n",
        "a = np.array([1,4,7,2,5,8,1,4,7,8,5,2,3,6,9,3,6,9,2,5,8,9,6,3,8,5,2])\n",
        "unique = np.unique(a)\n",
        "print(f'unique valu of a:\\n{unique}')\n"
      ]
    },
    {
      "cell_type": "code",
      "execution_count": null,
      "metadata": {
        "cellView": "form",
        "id": "rdm8bGyDBVQG"
      },
      "outputs": [],
      "source": [
        "# @title  2D array\n",
        "a = np.array([[1,4,7,7,4,1],[2,5,8,8,5,2]])\n",
        "unique = np.unique(a)\n",
        "print(f'unique valu of a:\\n{unique}')\n"
      ]
    },
    {
      "cell_type": "code",
      "execution_count": null,
      "metadata": {
        "cellView": "form",
        "id": "P3ZiFIUJBVCt"
      },
      "outputs": [],
      "source": [
        "# @title 3D array\n",
        "a = np.array([[[1,4,7],[2,5,8],[3,6,9]],[[7,4,1],[8,5,2],[9,6,3]]])\n",
        "unique = np.unique(a)\n",
        "print(f'unique valu of a:\\n{unique}')\n"
      ]
    },
    {
      "cell_type": "code",
      "execution_count": null,
      "metadata": {
        "cellView": "form",
        "id": "0-_UGcS_Cd2H"
      },
      "outputs": [],
      "source": [
        "# @title return_counts=True প্রতিটি উপাদান কতগুলো করে আছে তা দেখাবে\n",
        "a = np.array([[[1,2,7],[2,8,8],[3,3,9]],[[3,1,9],[5,5,2],[7,8,1]]])\n",
        "valus, count= np.unique(a, return_counts=True)\n",
        "print(f'unique valus:\\n{valus}')\n",
        "print(f'count number:\\n{count}')\n",
        "\n"
      ]
    },
    {
      "cell_type": "markdown",
      "metadata": {
        "id": "ePe84ZXYk5ZI"
      },
      "source": [
        "#### ####set operation"
      ]
    },
    {
      "cell_type": "code",
      "execution_count": null,
      "metadata": {
        "cellView": "form",
        "id": "sidR8oXuk-vz"
      },
      "outputs": [],
      "source": [
        "# @title 1. np.union1d(A, B) ( সব উপাদান নিবে )\n",
        "import numpy as np\n",
        "a = np.array([1,2,3,4])\n",
        "b = np.array([5,6,7,8])\n",
        "c = np.union1d(a,b)\n",
        "print(f'union set = {c}')\n"
      ]
    },
    {
      "cell_type": "code",
      "execution_count": null,
      "metadata": {
        "cellView": "form",
        "id": "6m5syHwjk_v0"
      },
      "outputs": [],
      "source": [
        "# @title 2. np.intersect1d(A, B) ( কমন গুলা নিবে )\n",
        "a = np.array([1,5,8,6,9])\n",
        "b = np.array([5,8,6,9,2])\n",
        "c = np.intersect1d(a,b)\n",
        "print(f'a intersect b ={c}')"
      ]
    },
    {
      "cell_type": "code",
      "execution_count": null,
      "metadata": {
        "cellView": "form",
        "id": "8-TpfnXJk_sM"
      },
      "outputs": [],
      "source": [
        "# @title 3. np.setdiff1d(A, B)   A - B (A-তে আছে কিন্তু B-তে নেই)\n",
        "a = np.array([1,2,3,4,5,6])\n",
        "b = np.array([7,8,9,4,5,6])\n",
        "c = np.setdiff1d(a,b)\n",
        "d = np.setdiff1d(b,a)\n",
        "print(f'setdiff a,b={c}')\n",
        "print(f'setdiff b,a={d}')\n",
        "\n",
        "\n"
      ]
    },
    {
      "cell_type": "code",
      "execution_count": null,
      "metadata": {
        "cellView": "form",
        "id": "IwqkNXoUk_lk"
      },
      "outputs": [],
      "source": [
        "# @title 4. np.setxor1d(A, B)  (A ও B-তে একবার করে আছে এমন এলিমেন্ট)\n",
        "a = np.array([1,2,3,4,5,6])\n",
        "b = np.array([7,8,9,4,5,6])\n",
        "c = np.setxor1d(a,b)\n",
        "d = np.setxor1d(b,a)\n",
        "print(f'setxor a,b ={c}')\n",
        "print(f'setxor b,a ={d}')\n",
        "\n"
      ]
    },
    {
      "cell_type": "code",
      "execution_count": null,
      "metadata": {
        "cellView": "form",
        "id": "v0ZvhI9Hk_hc"
      },
      "outputs": [],
      "source": [
        "# @title 5. np.in1d(A, B) true or false আকারে দেয়\n",
        "#  A-র কোন কোন উপাদান B-তে আছে তা True/False array আকারে দেয় (membership check)\n",
        "a = np.array([1,4,5,6,2,3])\n",
        "b = np.array([5,8,6,2,1,4])\n",
        "c = np.in1d(a,b)\n",
        "d = np.in1d(b,a)\n",
        "print(f'a in1d b={c}')\n",
        "print(f'b in1d a={d}')"
      ]
    },
    {
      "cell_type": "code",
      "execution_count": null,
      "metadata": {
        "cellView": "form",
        "id": "eA1ncbH8k_dT"
      },
      "outputs": [],
      "source": [
        "# @title 6. np.isin(A, B)\n",
        "a = np.array([1,5,8,9,6,3])\n",
        "b = np.array([5,8,4,1,2,3])\n",
        "c = np.isin(a,b)\n",
        "d = np.isin(b,a)\n",
        "print(f'a isin b= {c}')\n",
        "print(f'b isin a= {d}')\n"
      ]
    },
    {
      "cell_type": "code",
      "execution_count": null,
      "metadata": {
        "cellView": "form",
        "id": "kuUOj2Ezk_Sl"
      },
      "outputs": [],
      "source": [
        "# @title 7. np.unique(A)\n",
        "a = np.array([4,8,5,6,9,1,2,5,4,7,8,9,6,5,1])\n",
        "b = np.unique(a)\n",
        "print(f'a unique ={b}')\n"
      ]
    },
    {
      "cell_type": "markdown",
      "metadata": {
        "id": "7r3iBdql03h4"
      },
      "source": [
        "#### ####sorting matrix"
      ]
    },
    {
      "cell_type": "code",
      "execution_count": null,
      "metadata": {
        "cellView": "form",
        "id": "RyhpJ1KC0_qK"
      },
      "outputs": [],
      "source": [
        "# @title ছোট থেকে বড় (ascending)\n",
        "a = np.array([1,2,5,4,8,9,6,3,7,12,58,41,26,85])\n",
        "b = np.sort(a)\n",
        "print (f'sorting a is:{b}')\n",
        "a.sort()\n",
        "print(f'sorting a2 is :{a}')\n"
      ]
    },
    {
      "cell_type": "code",
      "execution_count": null,
      "metadata": {
        "cellView": "form",
        "id": "bmVp623D1ANU"
      },
      "outputs": [],
      "source": [
        "# @title Descending Order বড় থেকে ছোট\n",
        "a = np.array([14,25,36,74,58,96,41,25,63,21,45,63,122,58])\n",
        "b = np.sort(a)[::-1]\n",
        "print(f'a is descending:{b}')\n",
        "a=a[::-1]\n",
        "print(f'descending of a:{a}')\n"
      ]
    },
    {
      "cell_type": "code",
      "execution_count": null,
      "metadata": {
        "cellView": "form",
        "id": "Hp8_8Tv31ADC"
      },
      "outputs": [],
      "source": [
        "# @title collum sorting 2D\n",
        "a = np.array([[25,12,36,],[14,58,74],[84,53,95]])\n",
        "b = np.sort(a,axis=0)\n",
        "print(f'sorting collum:{b}')\n"
      ]
    },
    {
      "cell_type": "code",
      "execution_count": null,
      "metadata": {
        "cellView": "form",
        "id": "_SAc9Knm4g0r"
      },
      "outputs": [],
      "source": [
        "# @title row sorting\n",
        "a = np.array([[14,52,36],[45,65,85],[78,98,85]])\n",
        "b = np.sort(a,axis=1)\n",
        "print(f'row sorting:{b}')\n"
      ]
    },
    {
      "cell_type": "markdown",
      "metadata": {
        "id": "JFM-jSUY_raP"
      },
      "source": [
        "### ### Save and load"
      ]
    },
    {
      "cell_type": "code",
      "execution_count": null,
      "metadata": {
        "cellView": "form",
        "id": "8YQPw5-O_1Yc"
      },
      "outputs": [],
      "source": [
        "# @title singal file ---save and load\n",
        "# Save the array into a file\n",
        "# np.save('my_array', x)\n",
        "# Load the saved array from current directory\n",
        "# y = np.load('my_array.npy')\n",
        "import numpy as np\n",
        "x = np.array([1,2,3,4,5])\n",
        "np.save('my_file', x)\n",
        "y = np.load('my_file.npy')\n",
        "print(f'my file:{y}')\n",
        "\n",
        "\n"
      ]
    },
    {
      "cell_type": "code",
      "execution_count": null,
      "metadata": {
        "cellView": "form",
        "id": "KRv7S02Ybabh"
      },
      "outputs": [],
      "source": [
        "# @title Multiple file---save and load\n",
        "# একসাথে সবগুলো array সেভ করো .npz ফাইলে\n",
        "# np.savez('varialbe.npz', array1 = a, array2 = b, array3 = c)\n",
        "# data = np.load('variable.npz)\n",
        "# print(varialbe.files)\n",
        "# print(data['array1'])\n",
        "import numpy as np\n",
        "a = np.array([1,5,8,7,9,6])\n",
        "b = np.array([5,4,8,9,6,8])\n",
        "c = np.array([5,8,9,6,4,7])\n",
        "np.savez('variable.npz', array1 = a, array2 = b, array3 = c) #🔹 এখানে variable.npz নামের ফাইলে তিনটি array save হয়েছে\n",
        "data = np.load('variable.npz')\n",
        "print(data.files) # সবগুলো key দেখো\n",
        "print(f'array 1:',data['array1']) # প্রতিটি array access করো\n",
        "print(f'array 2: {data[\"array2\"]}') #বাইরে (' ') কোটেশন  দিলে ভিতরে (\" \")  কোটেশন দিতে হবে , অথবা এর উল্টা\n",
        "print(f'array 3: {data[\"array3\"]}')\n"
      ]
    },
    {
      "cell_type": "code",
      "execution_count": null,
      "metadata": {
        "cellView": "form",
        "id": "LzWqabSVbaYo"
      },
      "outputs": [],
      "source": [
        "# @title Create ndarray with dtype fload16 , float32, float64\n",
        "# Variable =np.array([valu], dtype = np.float16 / float32 / float64)\n",
        "import numpy as np\n",
        "x = 1.25974139715912455458497255\n",
        "x16 = np.array([x], dtype = np.float16)\n",
        "x32 = np.array([x], dtype = np.float32)\n",
        "x64 = np.array([x], dtype = np.float64)\n",
        "\n",
        "print(f'float16:{x16[0]}')\n",
        "print(f'float32:{x32[0]}')\n",
        "print(f'float64:{x64[0]}\\n')\n",
        "\n",
        "variable_16 = np.array([1.254254891246524], dtype = np.float16)\n",
        "print(f'variable 16:{variable_16[0]}')\n",
        "variable_32 = np.array([1.324579516589459], dtype = np.float32)\n",
        "print(f'variable 32:{variable_32[0]}')\n",
        "variable_64 = np.array([1.2579138178529496], dtype = np.float64)\n",
        "print(f'variable 64:{variable_64[0]}')\n"
      ]
    },
    {
      "cell_type": "markdown",
      "metadata": {
        "id": "974yG_1NLKJm"
      },
      "source": [
        "### ###math function"
      ]
    },
    {
      "cell_type": "code",
      "execution_count": null,
      "metadata": {
        "cellView": "form",
        "id": "jzeM2Q2PLNpX"
      },
      "outputs": [],
      "source": [
        "# @title add, subtract, multipled, divide\n",
        "a = np.array([5,8,7,6])\n",
        "b = np.array([5,4,9,10])\n",
        "ad = np.add(a,b)\n",
        "sub = np.subtract(a,b)\n",
        "mul = np.multiply(a,b)\n",
        "div = np.divide(a,b)\n",
        "print(f'sum is a+b ={ad}\\n')\n",
        "print(f'sub is a-b = {sub}\\n')\n",
        "print(f'mul is a*b = {mul}\\n')\n",
        "print(f'div is a/b = {div}\\n')\n"
      ]
    },
    {
      "cell_type": "code",
      "execution_count": null,
      "metadata": {
        "cellView": "form",
        "collapsed": true,
        "id": "JAuYTDppLOBH"
      },
      "outputs": [],
      "source": [
        "# @title numpy math formula\n",
        "a = np.array([12,25,36,41,49])\n",
        "b = np.array([[4,2,3],[5,6,4]])\n",
        "print(f'sqrt of a: {np.sqrt(a)}')\n",
        "print(f'power of a: {np.power(a,2)}')\n",
        "print(f'exp of a: {np.exp(a)}')\n",
        "print(f'log of a: {np.log(a)}')\n",
        "print(f'sin of a: {np.sin(a)}')\n",
        "print(f'cos of a: {np.cos(a)}')\n",
        "print(f'tan of a: {np.tan(a)}')\n",
        "print(f'floor of a: {np.floor(a)}')\n",
        "print(f'ceil of a: {np.ceil(a)}')\n",
        "print(f'abs of a: {np.abs(a)}')\n",
        "print(f'sum of a: {np.sum(a)}')\n",
        "print(f'mean of a: {np.mean(a)}')\n",
        "print(f'std of a: {np.std(a)}')\n",
        "print(f'max of a: {np.max(a)}')\n",
        "print(f'min of a: {np.min(a)}')\n",
        "print(f'round of a: {np.round(a)}')\n",
        "print(f'sum of b axis=0: {np.sum(b,axis=0)}')\n",
        "print(f'sum os b axis=1: {np.sum(b,axis=1)}')\n",
        "\n"
      ]
    },
    {
      "cell_type": "code",
      "execution_count": null,
      "metadata": {
        "id": "mVopNfdfoN6O"
      },
      "outputs": [],
      "source": []
    },
    {
      "cell_type": "markdown",
      "metadata": {
        "id": "5ggp1Im3MRUf"
      },
      "source": [
        "## ##Pandas"
      ]
    },
    {
      "cell_type": "markdown",
      "metadata": {
        "id": "cb0TyKLAWmHh"
      },
      "source": [
        "### ###Key Data Structures in Pandas\n",
        "\n",
        "১. Series (সিরিজ)  ২. DataFrame (ডেটাফ্রেম)\n"
      ]
    },
    {
      "cell_type": "markdown",
      "metadata": {
        "id": "1NU3r4kHXFfw"
      },
      "source": [
        "#### #### Series in pandas"
      ]
    },
    {
      "cell_type": "code",
      "execution_count": null,
      "metadata": {
        "cellView": "form",
        "id": "GrLl4cM9XJ5q"
      },
      "outputs": [],
      "source": [
        "# @title features [বৈশিষ্ট ]\n",
        "#🔹 এটা একমাত্রিক (1D) ডেটা স্ট্রাকচার।\n",
        "#🔹 একটি লেবেল যুক্ত অ্যারে (array)।\n",
        "#🔹 একে Excel-এর একটি কলামের মতো ভাবা যায়।\n",
        "#🔹 প্রতিটি আইটেমের সাথে একটি ইনডেক্স থাকে।\n"
      ]
    },
    {
      "cell_type": "code",
      "execution_count": null,
      "metadata": {
        "cellView": "form",
        "id": "Rcb6uznNWqYL"
      },
      "outputs": [],
      "source": [
        "# @title Example no-1\n",
        "import pandas as pd\n",
        "num = pd.Series([14,25,36,96,85,74])\n",
        "print(num)"
      ]
    },
    {
      "cell_type": "code",
      "execution_count": null,
      "metadata": {
        "cellView": "form",
        "id": "PPRK5IHgWqDz"
      },
      "outputs": [],
      "source": [
        "# @title Example no-2 [change index]\n",
        "import pandas as pd\n",
        "numbers = pd.Series([14,52,36,96,85,74] , index = ['a','b','c','d','e','f'] )\n",
        "print(f'numbers:\\n{numbers}')\n",
        "\n"
      ]
    },
    {
      "cell_type": "code",
      "execution_count": null,
      "metadata": {
        "cellView": "form",
        "id": "4li9HJMaaRy2"
      },
      "outputs": [],
      "source": [
        "# @title Example no-3 [call index print value]\n",
        "import pandas as pd\n",
        "num = pd.Series([14,25,36,96,5,2,25], index =['a','b','c','d','e','f','g'])\n",
        "print(f'value of g is:{num[\"g\"]}')\n",
        "print(f'value of a is:{num[\"a\"]}')\n",
        "print(f'value of f is:{num[\"f\"]}')\n"
      ]
    },
    {
      "cell_type": "code",
      "execution_count": null,
      "metadata": {
        "cellView": "form",
        "id": "b27RzbT2aRue"
      },
      "outputs": [],
      "source": [
        "# @title Example no-4 [sub with mark]\n",
        "import pandas as pd\n",
        "sub_mark = pd.Series([85,47,96,81,72], index = ['math','english','bangla','islam','chemistry'])\n",
        "print(f'sub with mark is :\\n{sub_mark}')\n"
      ]
    },
    {
      "cell_type": "code",
      "execution_count": null,
      "metadata": {
        "cellView": "form",
        "id": "G0ST-cgvaRqG"
      },
      "outputs": [],
      "source": [
        "# @title Example no-5 [Dictionary থেকে Series তৈরি]\n",
        "data = {'abdul ':24, 'mahim':24, 'himel':16}\n",
        "new_data = pd.Series(data)\n",
        "print(f'data is :\\n{new_data}')\n"
      ]
    },
    {
      "cell_type": "code",
      "execution_count": null,
      "metadata": {
        "cellView": "form",
        "id": "0I6CYCaOaRg2"
      },
      "outputs": [],
      "source": [
        "# @title Example no-6 [Missing value সহ Series]\n",
        "import pandas as pd\n",
        "import numpy as np\n",
        "student_data = pd.Series([87,96, np.nan, 58] , index =['rana', 'himel', 'sojib', 'arman'])\n",
        "print(f'student_data is :\\n{student_data}')\n"
      ]
    },
    {
      "cell_type": "code",
      "execution_count": null,
      "metadata": {
        "cellView": "form",
        "id": "qBIUkNtAeMea"
      },
      "outputs": [],
      "source": [
        "# @title Example no-7 [গণনা (Series এর উপর অপারেশন)]\n",
        "import pandas as pd\n",
        "price = pd.Series([200,150,300,350], index=['Apple','Banana','Painaple','Mango'])\n",
        "print(f'max price in :\\t{price.max()}')\n",
        "print(f'average price in :{price.mean()}')\n",
        "print(f'min price in :{price.min()}')\n",
        "\n"
      ]
    },
    {
      "cell_type": "code",
      "execution_count": null,
      "metadata": {
        "cellView": "form",
        "id": "oNfBGwY4eMW6"
      },
      "outputs": [],
      "source": [
        "# @title Example no-8 [শর্ত দিয়ে ফিল্টার করা]\n",
        "import pandas as pd\n",
        "mark = pd.Series([47,85,96,36,25,14,54,65,68], index =['arman','naim','shakil','masud','solaiman','sojib','roton','monirul','Abdul malek'])\n",
        "passed = mark[mark>=40]\n",
        "failed = mark[mark<40]\n",
        "print(f'Names of those who passed :\\n{passed}\\n')\n",
        "print(f'Names of those who failed :\\n{failed}')"
      ]
    },
    {
      "cell_type": "code",
      "execution_count": null,
      "metadata": {
        "id": "hLf-dDDPeMMS"
      },
      "outputs": [],
      "source": []
    },
    {
      "cell_type": "markdown",
      "metadata": {
        "id": "4FASqQ_QqzRH"
      },
      "source": [
        "#### ####DataFrame in pandas"
      ]
    },
    {
      "cell_type": "code",
      "execution_count": null,
      "metadata": {
        "cellView": "form",
        "id": "q2lVrg8qrGMh"
      },
      "outputs": [],
      "source": [
        "# @title features [বৈশিষ্ট ]\n",
        "#একটি দ্বি-মাত্রিক (2D) ডেটা স্ট্রাকচার।\n",
        "#সারি ও কলাম আছে — একে একটা টেবিল ভাবা যায়।\n",
        "#পুরো Excel শিটের মতো।\n"
      ]
    },
    {
      "cell_type": "code",
      "execution_count": null,
      "metadata": {
        "cellView": "form",
        "id": "BmeNXZVdrGDn"
      },
      "outputs": [],
      "source": [
        "# @title Example no-1\n",
        "# pd.DataFrame দ্বারা ডাটা  টেবিলে এ রুপান্তর করা হয়\n",
        "import pandas as pd\n",
        "data = {\n",
        "    'name':['sabiha','moynul','abdul','nur'],\n",
        "    'year':[14,18,24,19],\n",
        "    'salary':[20000,25000,30000,50000]\n",
        "\n",
        "}\n",
        "df1 = print(data)\n",
        "df2 = pd.DataFrame(data)\n",
        "print(f'df1 is :\\n{df1}')\n",
        "print(f'df2 is:\\n{df2}')\n",
        "\n",
        "\n"
      ]
    },
    {
      "cell_type": "code",
      "execution_count": null,
      "metadata": {
        "cellView": "form",
        "id": "uN5ATGYXzYXs"
      },
      "outputs": [],
      "source": [
        "# @title Example no -2 CSV File\n",
        "import pandas as pd\n",
        "data = {\n",
        "    'name': ['rabeya', 'shafayet','tanjin'],\n",
        "    'year': [22,   25, 27],\n",
        "    'city': ['Dhaka', 'Rajshahi', 'Chattagram']\n",
        "}\n",
        "df = pd.DataFrame(data)\n",
        "df. to_csv('data1.csv', index=False)\n",
        "print(f'data is :\\n{df}')\n"
      ]
    },
    {
      "cell_type": "code",
      "execution_count": null,
      "metadata": {
        "cellView": "form",
        "id": "-I96ce4mrF5H"
      },
      "outputs": [],
      "source": [
        "# @title Example no -3 [DataFrame এ নতুন কলাম যোগ করা]\n",
        "data = {\n",
        "    'name': ['rabeya', 'shafayet','tanjin'],\n",
        "    'age': [22,   25, 27],\n",
        "    'city': ['Dhaka', 'Rajshahi', 'Chattagram']\n",
        "}\n",
        "data['salary'] = [20000,25000,36000]\n",
        "data['country'] = ['Bangladesh','Bangladesh','Bangladesh']\n",
        "df = pd.DataFrame(data)\n",
        "print(f'data is:\\n{df}')\n"
      ]
    },
    {
      "cell_type": "code",
      "execution_count": null,
      "metadata": {
        "cellView": "form",
        "id": "zlb9mDxozap1"
      },
      "outputs": [],
      "source": [
        "# @title Example no-4 [নির্দিষ্ট কলাম বা সারি বের করা]\n",
        "# এখানে data একটি dictionary, আর dictionary-তে .loc[] method সরাসরি ব্যবহার করা যায় না .DataFrame বানিয়ে ব্যবহার করতে হবে  ex. data= pd.DataFrame(data)\n",
        "# এটা শুধু row এর ক্ষেত্রে\n",
        "\n",
        "data = {\n",
        "    'name': ['rabeya', 'shafayet','tanjin'],\n",
        "    'age': [22,   25, 27],\n",
        "    'city': ['Dhaka', 'Rajshahi', 'Chattagram'],\n",
        "    'salary': [20000,25000,36000],\n",
        "    'country': ['Bangladesh','Bangladesh','Bangladesh'],\n",
        "}\n",
        "data = pd.DataFrame(data)\n",
        "\n",
        "print(f'name collum : \\n{data[\"name\"]}')\n",
        "print(f'age collum :\\n {data[\"age\"]}')\n",
        "print(f'row no [0] :\\n {data.loc[0]}')\n",
        "print(f'row no [2]: \\n{data.loc[2]}')\n",
        "\n"
      ]
    },
    {
      "cell_type": "code",
      "execution_count": null,
      "metadata": {
        "cellView": "form",
        "id": "OoS6At_ZzlYK"
      },
      "outputs": [],
      "source": [
        "# @title Example no-5 [শর্ত দিয়ে ফিল্টার করা]\n",
        "import pandas as pd\n",
        "data = {\n",
        "    'name': ['rabeya', 'shafayet','tanjin'],\n",
        "    'age': [22,   25, 27],\n",
        "    'city': ['Dhaka', 'Rajshahi', 'Chattagram'],\n",
        "    'salary': [20000,25000,36000],\n",
        "    'country': ['Bangladesh','Bangladesh','Bangladesh'],\n",
        "}\n",
        "data = pd.DataFrame(data)\n",
        "new_data = data[data['age']>=25]\n",
        "print(new_data)\n"
      ]
    },
    {
      "cell_type": "code",
      "execution_count": null,
      "metadata": {
        "cellView": "form",
        "id": "yA0floG9zlTO"
      },
      "outputs": [],
      "source": [
        "# @title Example no-6[গণনা ও গড় বের করা]\n",
        "import pandas as pd\n",
        "data = {\n",
        "    'name': ['rabeya', 'shafayet','tanjin'],\n",
        "    'age': [22,   25, 27],\n",
        "    'city': ['Dhaka', 'Rajshahi', 'Chattagram'],\n",
        "    'salary': [20000,25000,36000],\n",
        "    'country': ['Bangladesh','Bangladesh','Bangladesh'],\n",
        "}\n",
        "data = pd.DataFrame(data)\n",
        "print(f'total name:{len(data)}')\n",
        "print('total age:',len(data))\n",
        "print(f'total salary:{data[\"salary\"].sum()}')\n",
        "print(f'average age:{data[\"age\"].mean()}')\n",
        "print(f'max age:{data[\"age\"].max()}')\n",
        "print(f'min age:{data[\"age\"].min()}')\n",
        "\n"
      ]
    },
    {
      "cell_type": "code",
      "execution_count": null,
      "metadata": {
        "cellView": "form",
        "id": "itKrbtSqzlQS"
      },
      "outputs": [],
      "source": [
        "# @title  Create CSV file from DataFrame\n",
        "# df.to_csv('file name' , index=false) , ( index=false দিলে index গণনা করবে না )\n",
        "import pandas as pd\n",
        "data = {\n",
        "    'name': ['rabeya', 'shafayet','tanjin'],\n",
        "    'age': [22,   25, 27],\n",
        "    'city': ['Dhaka', 'Rajshahi', 'Chattagram'],\n",
        "    'salary': [20000,25000,36000],\n",
        "    'country': ['Bangladesh','Bangladesh','Bangladesh'],\n",
        "}\n",
        "df = pd.DataFrame(data)\n",
        "df. to_csv('data.csv')\n",
        "print(df)"
      ]
    },
    {
      "cell_type": "code",
      "execution_count": null,
      "metadata": {
        "cellView": "form",
        "id": "B8KRFevpzlH6"
      },
      "outputs": [],
      "source": [
        "# @title  CSV File link no-1\n",
        "import pandas as pd\n",
        "df = pd.read_csv(' https://raw.githubusercontent.com/datasciencedojo/datasets/master/titanic.csv ')\n",
        "#display(df)\n",
        "#df.head()\n",
        "#df.tail()\n",
        "#df['petal_width']\n",
        "#df['sepal_length'].mean()\n",
        "#df['petal_length'].max()\n",
        "#df.info()\n",
        "#df.describe()\n",
        "#df.isnull()\n",
        "#df.dropna()\n",
        "#df.dtypes\n",
        "#df.iloc[3]\n",
        "#df['species']\n",
        "df.info()"
      ]
    },
    {
      "cell_type": "code",
      "execution_count": null,
      "metadata": {
        "cellView": "form",
        "id": "FAq5e6qwzaVt"
      },
      "outputs": [],
      "source": [
        "# @title CSV File link no-2\n",
        "import pandas as pd\n",
        "df = pd.read_csv(' https://raw.githubusercontent.com/uiuc-cse/data-fa14/gh-pages/data/iris.csv ')\n",
        "display(df)\n",
        "#df.head()\n",
        "#df.tail()\n",
        "#df['petal_width']\n",
        "#df['sepal_length'].mean()\n",
        "#df['petal_length'].max()\n",
        "#df.info()\n",
        "#df.describe()\n",
        "#df.isnull()\n",
        "#df.dropna()\n",
        "#df.dtypes\n",
        "#df.iloc[3]\n",
        "#df['species']"
      ]
    },
    {
      "cell_type": "code",
      "execution_count": null,
      "metadata": {
        "cellView": "form",
        "id": "eFTxLDgEF1N2"
      },
      "outputs": [],
      "source": [
        "# @title BOOK RIVIEW.CSV File\n",
        "import pandas as pd\n",
        "df = pd.read_csv( 'https://docs.google.com/spreadsheets/d/e/2PACX-1vTvKyhU0MdPUmd_hmxNx7sEbvMIPuJvgcOUiKrgeTEfrSbRF4oNOQciN_blXQUP3qh-9Oab7nVwryaI/pub?gid=1127978604&single=true&output=csv' )\n",
        "#display(df)\n",
        "df.info()"
      ]
    },
    {
      "cell_type": "code",
      "execution_count": null,
      "metadata": {
        "cellView": "form",
        "id": "yP-pOgnfK-OE"
      },
      "outputs": [],
      "source": [
        "# @title BOOK RIVIEW.CSV File [Top 5 most rated books]\n",
        "import pandas as pd\n",
        "df = pd.read_csv( 'https://docs.google.com/spreadsheets/d/e/2PACX-1vTvKyhU0MdPUmd_hmxNx7sEbvMIPuJvgcOUiKrgeTEfrSbRF4oNOQciN_blXQUP3qh-9Oab7nVwryaI/pub?gid=1127978604&single=true&output=csv' )\n",
        "#display(df)\n",
        "df.sort_values(by='ratings_count', ascending=False).head(5)\n",
        "#print(top_5_books)\n",
        "#display(top_5_books)\n"
      ]
    },
    {
      "cell_type": "code",
      "execution_count": null,
      "metadata": {
        "cellView": "form",
        "id": "-u_J4YACEH8i"
      },
      "outputs": [],
      "source": [
        "# @title BOOK. CSV File [Filter books with 4.5+ average ratings and 10,000+ ratings]\n",
        "import pandas as pd\n",
        "books = pd.read_csv( 'https://docs.google.com/spreadsheets/d/e/2PACX-1vTvKyhU0MdPUmd_hmxNx7sEbvMIPuJvgcOUiKrgeTEfrSbRF4oNOQciN_blXQUP3qh-9Oab7nVwryaI/pub?gid=1127978604&single=true&output=csv' )\n",
        "#display(df)\n",
        "books['average_rating'] = pd.to_numeric(books['average_rating'], errors='coerce')\n",
        "books['ratings_count'] = pd.to_numeric(books['ratings_count'], errors='coerce')\n",
        "\n",
        "# Drop rows where numeric conversion failed in these columns\n",
        "books = books.dropna(subset=['average_rating', 'ratings_count'])\n",
        "\n",
        "# Filter popular books based on numeric comparisons\n",
        "popular_books = books[(books['average_rating'] >= 4.5) & (books['ratings_count'] >= 10000)]\n",
        "popular_books.head()"
      ]
    },
    {
      "cell_type": "code",
      "execution_count": null,
      "metadata": {
        "cellView": "form",
        "id": "dWMWHgF8FLxB"
      },
      "outputs": [],
      "source": [
        "# @title BOOK. CSV File [Which author has the most high-rated books?\n",
        "import pandas as pd\n",
        "books = pd.read_csv('https://docs.google.com/spreadsheets/d/e/2PACX-1vTvKyhU0MdPUmd_hmxNx7sEbvMIPuJvgcOUiKrgeTEfrSbRF4oNOQciN_blXQUP3qh-9Oab7nVwryaI/pub?gid=1127978604&single=true&output=csv')\n",
        "\n",
        "# Convert 'average_rating' and 'ratings_count' to numeric, coercing errors\n",
        "books['average_rating'] = pd.to_numeric(books['average_rating'], errors='coerce')\n",
        "books['ratings_count'] = pd.to_numeric(books['ratings_count'], errors='coerce')\n",
        "\n",
        "# Drop rows where numeric conversion failed in these columns\n",
        "books = books.dropna(subset=['average_rating', 'ratings_count'])\n",
        "\n",
        "# Filter popular books based on numeric comparisons\n",
        "popular_books = books[(books['average_rating'] >= 4.5) & (books['ratings_count'] >= 10000)]\n",
        "popular_books['authors'].value_counts().head()"
      ]
    },
    {
      "cell_type": "code",
      "execution_count": null,
      "metadata": {
        "cellView": "form",
        "id": "ibfIze7ycvqK"
      },
      "outputs": [],
      "source": [
        "# @title BOOK.CSV File [Average pages per publisher]\n",
        "\n",
        "import pandas as pd\n",
        "df = pd.read_csv( 'https://docs.google.com/spreadsheets/d/e/2PACX-1vTvKyhU0MdPUmd_hmxNx7sEbvMIPuJvgcOUiKrgeTEfrSbRF4oNOQciN_blXQUP3qh-9Oab7nVwryaI/pub?gid=1127978604&single=true&output=csv' )\n",
        "#display(df)\n",
        "\n",
        "# Convert 'num_pages' to numeric, coercing errors\n",
        "df['num_pages'] = pd.to_numeric(df['num_pages'], errors='coerce')\n",
        "\n",
        "# Drop rows where numeric conversion failed in 'num_pages'\n",
        "df = df.dropna(subset=['num_pages'])\n",
        "\n",
        "average_page =df.groupby('publisher',as_index=False)['num_pages'].mean()\n",
        "#display(average_page)\n",
        "display(average_page.sort_values(by='num_pages',ascending=False)) #সবচেয়ে বেশি গড় পৃষ্ঠা আছে এমন প্রকাশক উপরে পাবো|"
      ]
    },
    {
      "cell_type": "code",
      "execution_count": null,
      "metadata": {
        "cellView": "form",
        "id": "cRbjtdOahhFw"
      },
      "outputs": [],
      "source": [
        "# @title BOOK.CSV File [Save a file with the ‘hot picks’, where hot picks is:]\n",
        "import pandas as pd\n",
        "df = pd.read_csv( 'https://docs.google.com/spreadsheets/d/e/2PACX-1vTvKyhU0MdPUmd_hmxNx7sEbvMIPuJvgcOUiKrgeTEfrSbRF4oNOQciN_blXQUP3qh-9Oab7nVwryaI/pub?gid=1127978604&single=true&output=csv' )\n",
        "#display(df)\n",
        "hot_picks = df[\n",
        "               (df['average_rating'] >=4.5) &\n",
        "               (df['ratings_count'] >=10000) &\n",
        "               (df['title'].notnull()) &\n",
        "               (df['authors'].notnull()) &\n",
        "               (df['language_code']=='eng')\n",
        "               ]\n",
        "\n",
        "hot_picks.to_csv('hot_picks.csv', index=False)"
      ]
    },
    {
      "cell_type": "markdown",
      "metadata": {
        "id": "vd9onD6_kXoE"
      },
      "source": [
        "### ### Data Cleaning & Exploratory Data\n",
        "Analysis (EDA)"
      ]
    },
    {
      "cell_type": "code",
      "execution_count": null,
      "metadata": {
        "cellView": "form",
        "id": "wMNngzNgkb0e"
      },
      "outputs": [],
      "source": [
        "# @title CSV File link no-2\n",
        "import pandas as pd\n",
        "df = pd.read_csv(' https://raw.githubusercontent.com/uiuc-cse/data-fa14/gh-pages/data/iris.csv ')\n",
        "top = df.sort_values(by='sepal_length',ascending=False).head\n",
        "#display(f'top is :{top}')\n",
        "#print(f'the numbers of rows is: {df.shape[0]} and the numbers of collumn: {df.shape[1]}')\n"
      ]
    },
    {
      "cell_type": "code",
      "execution_count": null,
      "metadata": {
        "cellView": "form",
        "id": "cB25OAxEkiCZ"
      },
      "outputs": [],
      "source": [
        "# @title laptop pricer.csv\n",
        "import pandas as pd\n",
        "df = pd.read_csv('https://docs.google.com/spreadsheets/d/e/2PACX-1vSsLwH5C-z6odUDL1s5W8pwLmDG0HCcBERi4jqtl_vPGjPyUG_E5V2Nngr4FMXDm5GJp7STnCmhPq9a/pub?gid=1985025105&single=true&output=csv')\n",
        "#total table dekhar jonno\n",
        "#display(df)\n",
        "# top 5 row\n",
        "df.head()\n",
        "#last 5 row\n",
        "df.tail()\n",
        "# total  row and columns\n",
        "df.shape\n",
        "print(f'the number of row is :{df.shape[0]} and the number of column is{df.shape[1]}')\n",
        "#type of data\n",
        "df.info()\n",
        "#row and index\n",
        "df.index\n",
        "# null valu\n",
        "df.isnull().sum()\n",
        "#null row gula bad biye dei\n",
        "df.dropna()\n",
        "# max, min, std, count, unique, top, freq, mean, 25%, 50%, 75%\n",
        "df.describe(include='all')\n",
        "# row position\n",
        "df.iloc[0]\n",
        "# value count\n",
        "df['Product'].value_counts()\n",
        "#column\n",
        "df.columns\n",
        "# sum of price\n",
        "df['Price_euros'].mean() #(man(),min(),sum())"
      ]
    },
    {
      "cell_type": "code",
      "execution_count": null,
      "metadata": {
        "cellView": "form",
        "id": "H0-nDzC2kh5j"
      },
      "outputs": [],
      "source": [
        "# @title laptop pricer.csv 2\n",
        "import pandas as pd\n",
        "df = pd.read_csv('https://docs.google.com/spreadsheets/d/e/2PACX-1vSsLwH5C-z6odUDL1s5W8pwLmDG0HCcBERi4jqtl_vPGjPyUG_E5V2Nngr4FMXDm5GJp7STnCmhPq9a/pub?gid=1985025105&single=true&output=csv')\n",
        "#df.dtypes.value_counts().sum()\n",
        "# GB replace to float64\n",
        "df['Ram']=df['Ram'].str.replace('GB','').astype('float64')\n",
        "#display(df)\n",
        "#kg replace to float64\n",
        "df['Weight']=df['Weight'].str.lower().str.replace('kg','',regex=False).astype('float64')\n",
        "display(df)\n",
        "df['Weight'].sum()\n",
        "# 8GB এর উপর Ram কত গুলা laptop  ব্যবহার করা হয়েছে\n",
        "print('16GB Ram used :',df[df['Ram'] >8] ['Company'].value_counts())\n",
        "print('16GB Ram used :',df[df['Ram']>8]['Company'].value_counts().sum())\n",
        "\n",
        "# How many laptops are there with 4 GB RAM?\n",
        "print('4GB Ram used :',df[df['Ram']==4]['Company'].value_counts())\n",
        "print('4GB Ram used :',df[df['Ram']==4]['Company'].value_counts().sum())\n",
        "\n",
        "# how much Apple computer\n",
        "print('Apple computer :',df[df['Company']=='Apple']['Company'].value_counts())\n",
        "print('HP computer :',df[df['Company']=='HP']['Company'].value_counts())\n",
        "\n",
        "# heighi computer and company name\n",
        "counts = df['Company'].value_counts()\n",
        "max_company = counts.idxmax()\n",
        "max_counts = counts.max()\n",
        "print(f'the company with the most laptops is {max_company} and laptops numbers is {max_counts}')\n",
        "\n",
        "# weight >2kg\n",
        "print('weight > 2kg:',df[df['Weight']>2]['Weight'].value_counts())\n",
        "print('weight > 2kg:',df[df['Weight']>2]['Weight'].value_counts().sum())\n",
        "\n",
        "#price >1000 euros\n",
        "print('price > 1000 euros :',df[df['Price_euros']>1000]['Price_euros'].value_counts())\n",
        "print('price > 1000 euros :',df[df['Price_euros']>1000]['Price_euros'].value_counts().sum())\n",
        "\n"
      ]
    },
    {
      "cell_type": "code",
      "execution_count": null,
      "metadata": {
        "cellView": "form",
        "id": "3_DrHDKKkhwa"
      },
      "outputs": [],
      "source": [
        "# @title pharmacy_otc_sales_data\n",
        "import pandas as pd\n",
        "df = pd.read_csv('https://docs.google.com/spreadsheets/d/e/2PACX-1vRnf5GoR3PlMhBTEGoz9CnAFGSjHU-0zU6WfaI1L_sV6UmVtP8AsBhZjO4lD7fSI2PjDyX9c9olIfZc/pub?gid=515948502&single=true&output=csv')\n",
        "# All data show\n",
        "display(df)\n",
        "#single column\n",
        "df['Date'].value_counts()\n",
        "amount = df['Amount ($)'].sum()\n",
        "print(f'total amount is :{amount} $')\n",
        "# Which country has the highest sales?  and total amount\n",
        "country_sales = df.groupby ('Country')['Amount ($)'].sum()\n",
        "top_country = country_sales.idxmax()\n",
        "total_sales = country_sales.max()\n",
        "print(f'top country is {top_country} and total amount is {total_sales}')\n",
        "# Total sales by country (দেশভিত্তিক মোট বিক্রি হিসাব)\n",
        "country_sales = df.groupby('Country')['Amount ($)'].sum()\n",
        "print(f'total sales by country:\\n {country_sales}')\n",
        "# total counrty (মোট দেশ)\n",
        "total_country = df['Country'].value_counts()\n",
        "print(f'total counrty is :\\n {total_country}')\n",
        "# Top Countries by Sales (বিক্রয় দ্বারা শীর্ষ দেশ)\n",
        "top_country =  df.groupby('Country')['Amount ($)'].sum()\n",
        "top_country_by_sales = top_country.sort_values(ascending = False).head(5)\n",
        "print(f'top country by sales :\\n {top_country_by_sales}')\n",
        "# change columns name\n",
        "df.rename(columns = {'Amount ($)':'amount($)'})\n",
        "df.rename(columns = {'Product':'product'})\n",
        "# The value of a specific row (নির্দিষ্ট কোনো সারির মান)\n",
        "df.loc[55]\n",
        "# sales top 10 product\n",
        "top_product = df.groupby('Product')['Amount ($)'].sum().sort_values(ascending= False).head(10)\n",
        "print(f'sales top 10 product :\\n {top_product}')\n",
        "# top Sales person and total amount (শীর্ষ বিক্রয় ব্যক্তি এবং মোট পরিমাণ)\n",
        "sales_parson = df.groupby('Sales Person')['Amount ($)'].sum().head(5)\n",
        "print(f'top sales parson :\\n {sales_parson}')\n",
        "# All information on high sales (উচ্চ বিক্রয় সম্পর্কিত সকল তথ্য)\n",
        "df[df['Amount ($)'] >300].head(10)\n",
        "#\n",
        "df.describe(include='all')\n",
        "\n",
        "\n",
        "\n"
      ]
    },
    {
      "cell_type": "code",
      "execution_count": null,
      "metadata": {
        "id": "tsUxXCJmEWYl"
      },
      "outputs": [],
      "source": []
    },
    {
      "cell_type": "markdown",
      "metadata": {
        "id": "iAnADbTDEXUP"
      },
      "source": [
        "## ## Data Visualization with Matplotlib"
      ]
    },
    {
      "cell_type": "code",
      "execution_count": null,
      "metadata": {
        "cellView": "form",
        "id": "-6nbcJNtEf0i"
      },
      "outputs": [],
      "source": [
        "# @title matplotlib\n",
        "import matplotlib.pyplot as plt\n",
        "\n",
        "month = ['Jan','Feb','Mar','Apr','May','Jun','Jul','Aug','Sep','Oct','Nov','Dec']\n",
        "sales = [254,256,365,254,125,368,987,458,965,458,745,896]\n",
        "plt.plot(month,sales )\n",
        "plt.title('\"Monthly Sales Trend\"')\n",
        "plt.scatter(month,sales , color = 'red' )\n",
        "plt.grid(True)\n",
        "plt.xlabel('month')\n",
        "plt.ylabel('sales ($)')\n",
        "plt.show()\n"
      ]
    },
    {
      "cell_type": "code",
      "execution_count": null,
      "metadata": {
        "cellView": "form",
        "id": "SHxvBHnjKZ6-"
      },
      "outputs": [],
      "source": [
        "# @title curve ## matplotlib scipy.interpolate import make_interp_spline\n",
        "import numpy as np\n",
        "from scipy.interpolate import make_interp_spline\n",
        "import matplotlib.pyplot as plt\n",
        "\n",
        "# Numeric X-axis (month numbers)\n",
        "x = np.arange(1, 13)\n",
        "y = [254, 256, 365, 254, 125, 368, 987, 458, 965, 458, 745, 896]\n",
        "\n",
        "# Smooth X values\n",
        "x_smooth = np.linspace(x.min(), x.max(), 300)\n",
        "\n",
        "# Smooth Y using spline interpolation\n",
        "spline = make_interp_spline(x, y, k=3)  # k=3 means cubic spline\n",
        "y_smooth = spline(x_smooth)\n",
        "\n",
        "# Plotting\n",
        "plt.figure(figsize=(10, 5))\n",
        "plt.plot(x_smooth, y_smooth, label=\"Smooth Curve\", color='blue')\n",
        "plt.scatter(x, y, color='red', label='Original Points')\n",
        "plt.xticks(ticks=x, labels=['Jan','Feb','Mar','Apr','May','Jun','Jul','Aug','Sep','Oct','Nov','Dec'])\n",
        "plt.title(\"Monthly Sales Trend\")\n",
        "plt.xlabel(\"Month\")\n",
        "plt.ylabel(\"Sales ($)\")\n",
        "plt.legend()\n",
        "plt.grid(True)\n",
        "plt.show()"
      ]
    },
    {
      "cell_type": "code",
      "execution_count": null,
      "metadata": {
        "cellView": "form",
        "id": "NLzHH7K_Efty"
      },
      "outputs": [],
      "source": [
        "# @title Bar Plot for Comparing Categories\n",
        "import matplotlib.pyplot as plt\n",
        "sub = ['Math','Phy','Eng','Che','Bio','Isa','His','Ban']\n",
        "mark = [52,98,63,87,95,87,54,95]\n",
        "plt.bar(sub , mark)\n",
        "plt.scatter(sub, mark)\n",
        "plt.xlabel('Subject')\n",
        "plt.ylabel('Mark')\n",
        "plt.title('\"A Student Marks\" ')\n",
        "plt.show()"
      ]
    },
    {
      "cell_type": "code",
      "execution_count": null,
      "metadata": {
        "cellView": "form",
        "id": "FGBJ9RD0EfV7"
      },
      "outputs": [],
      "source": [
        "# @title Scatter Plot for Observing Patterns\n",
        "import matplotlib.pyplot as plt\n",
        "# পুরো ফিগারের পেছনের রং\n",
        "plt.figure(facecolor='lightgreen')\n",
        "\n",
        "over = [1,2,3,4,5,6,7,8,9,10]\n",
        "run = [12,8,9,7,12,18,28,26,36,25]\n",
        "plt.title(\" 'Run rate per over'\")\n",
        "#plt.bar(over , run)\n",
        "#plt.plot(over , run , marker = 'o',color='c', linestyle = '--')\n",
        "# marker , s= square , o = circle\n",
        "plt.scatter(over, run , marker = 's',color='c' )\n",
        "plt.legend(['2025'])\n",
        "# The red line is the grid.\n",
        "plt.grid(True)\n",
        "# grid style\n",
        "plt.grid(color='red' ,  linestyle='--',linewidth=0.5)\n",
        "# X and Y axes\n",
        "plt.xlabel('Over')\n",
        "plt.ylabel('Run')\n",
        "\n",
        "\n",
        "plt.show()\n"
      ]
    },
    {
      "cell_type": "code",
      "execution_count": null,
      "metadata": {
        "cellView": "form",
        "id": "TenEz1sX40xE"
      },
      "outputs": [],
      "source": [
        "# @title Customizing Matplotlib Plots\n",
        "import matplotlib.pyplot as plt\n",
        "over = [1,2,3,4,5,6,7,8,9,10]\n",
        "run = [12,8,9,7,12,18,28,26,36,25]\n",
        "plt.bar(over , run , color='r' )\n",
        "plt.plot(over , run , marker = 'o',color='c', linestyle = '--')\n",
        "plt.grid('True')\n",
        "plt.grid(color = 'black' , linestyle='--', linewidth = 0.5)\n",
        "plt.legend(['2025'])\n",
        "plt.title(\"'Run Rate Par Over'\")\n",
        "plt.xlabel('Over')\n",
        "plt.ylabel('Run')\n",
        "plt.show()\n"
      ]
    },
    {
      "cell_type": "code",
      "execution_count": null,
      "metadata": {
        "cellView": "form",
        "id": "KVJVaJ7O7DPv"
      },
      "outputs": [],
      "source": [
        "# @title # পুরো ফিগারের পেছনের রং\n",
        "import matplotlib.pyplot as plt\n",
        "\n",
        "plt.figure(facecolor='lightgreen')  # পুরো ফিগারের পেছনের রং\n",
        "\n",
        "x = [1, 2, 3, 4]\n",
        "y = [10, 15, 8, 12]\n",
        "\n",
        "plt.plot(x, y, marker='o')\n",
        "plt.title(\"Line Chart with Background Color\")\n",
        "plt.xlabel(\"X-axis\")\n",
        "plt.ylabel(\"Y-axis\")\n",
        "plt.show()"
      ]
    },
    {
      "cell_type": "code",
      "execution_count": null,
      "metadata": {
        "cellView": "form",
        "id": "G-bFlr047cFy"
      },
      "outputs": [],
      "source": [
        "# @title   শুধু plot box এর পেছনের রং\n",
        "fig, ax = plt.subplots()\n",
        "\n",
        "\n",
        "ax.set_facecolor('lightgreen')  # শুধু plot box এর পেছনের রং\n",
        "\n",
        "x = [1, 2, 3, 4]\n",
        "y = [10, 15, 8, 12]\n",
        "\n",
        "ax.plot(x, y, marker='o')\n",
        "ax.set_title(\"Plot Area Background\")\n",
        "ax.set_xlabel(\"X-axis\")\n",
        "ax.set_ylabel(\"Y-axis\")\n",
        "\n",
        "plt.show()"
      ]
    },
    {
      "cell_type": "code",
      "execution_count": null,
      "metadata": {
        "id": "UlmkYZaKb8xk"
      },
      "outputs": [],
      "source": []
    },
    {
      "cell_type": "markdown",
      "metadata": {
        "id": "3SI7PPH-e7NE"
      },
      "source": [
        "## ##Data Visualization with seaborn"
      ]
    },
    {
      "cell_type": "code",
      "execution_count": null,
      "metadata": {
        "cellView": "form",
        "id": "kR7NQPOVfBdu"
      },
      "outputs": [],
      "source": [
        "# @title seaborn graph\n",
        "import seaborn as sns\n",
        "import matplotlib.pyplot as plt\n",
        "\n",
        "data = {'x': [1, 2, 3, 4], 'y': [10, 20, 25, 30]}\n",
        "sns.lineplot(x='x', y='y', data=data)\n",
        "plt.title(\"Seaborn Line Plot\")\n",
        "plt.show()"
      ]
    },
    {
      "cell_type": "code",
      "execution_count": null,
      "metadata": {
        "cellView": "form",
        "id": "h0eKu46wfBZ-"
      },
      "outputs": [],
      "source": [
        "# @title Box Plot with seaborn graph\n",
        "import seaborn as sns\n",
        "import matplotlib.pyplot as plt\n",
        "\n",
        "tips = sns.load_dataset(\"tips\")\n",
        "sns.boxplot(x='day', y='total_bill', data=tips)\n",
        "plt.title(\"Box Plot: Day vs Total Bill\")\n",
        "plt.show()"
      ]
    },
    {
      "cell_type": "code",
      "execution_count": null,
      "metadata": {
        "cellView": "form",
        "id": "ViN1rZjnfBSG"
      },
      "outputs": [],
      "source": [
        "# @title Violin Plot with seaborn graph\n",
        "sns.violinplot(x='day', y='total_bill', data=tips)\n",
        "plt.title(\"Violin Plot: Day vs Total Bill\")\n",
        "plt.show()"
      ]
    },
    {
      "cell_type": "code",
      "execution_count": null,
      "metadata": {
        "cellView": "form",
        "id": "kWbahW-jfBNP"
      },
      "outputs": [],
      "source": [
        "# @title Distplot / Displot (Distribution Plot) with seaborn graph\n",
        "sns.histplot(tips['total_bill'], kde=True)\n",
        "plt.title(\"Distplot: Total Bill\")\n",
        "plt.show()"
      ]
    },
    {
      "cell_type": "code",
      "execution_count": null,
      "metadata": {
        "cellView": "form",
        "id": "C-YC5jW3fBFw"
      },
      "outputs": [],
      "source": [
        "# @title  Heatmap with seaborn graph\n",
        "corr = tips.corr(numeric_only=True)\n",
        "sns.heatmap(corr, annot=True, cmap='coolwarm')\n",
        "plt.title(\"Heatmap of Correlation\")\n",
        "plt.show()"
      ]
    },
    {
      "cell_type": "code",
      "execution_count": null,
      "metadata": {
        "cellView": "form",
        "id": "-zNLre4ygfmi"
      },
      "outputs": [],
      "source": [
        "# @title seaborn  and matplotlib\n",
        "import matplotlib.pyplot as plt\n",
        "import seaborn as sns\n",
        "plt.figure(facecolor='lightgreen')\n",
        "data = {'over':[1,2,3,4,5,6], 'run':[14,19,17,18,16,21]}\n",
        "sns.lineplot(x = 'over', y = 'run',marker='s', data= data)\n",
        "plt.grid('Ture')\n",
        "plt.grid(color = 'green' , marker = 'o', linestyle='-.', linewidth = 0.5)\n",
        "plt.legend(['2025 t10 run'])\n",
        "plt.title('run rate per over')\n",
        "plt.show()"
      ]
    },
    {
      "cell_type": "code",
      "execution_count": null,
      "metadata": {
        "cellView": "form",
        "id": "L2_hv3bI-lmg"
      },
      "outputs": [],
      "source": [
        "# @title  Sales In Month\n",
        "\n",
        "# ====================== Part-1: Logical Part ======================\n",
        "\n",
        "import pandas as pd\n",
        "import numpy as np\n",
        "from scipy.interpolate import make_interp_spline\n",
        "import calendar\n",
        "\n",
        "# Simple data with numeric month and sales\n",
        "df = pd.DataFrame({\n",
        "    'month_num': [1, 2, 3, 4, 5, 6, 7, 8, 9, 10, 11, 12],\n",
        "    'sales':     [254, 256, 365, 254, 125, 368, 987, 458, 965, 458, 745, 896]\n",
        "})\n",
        "\n",
        "# Convert month number to abbreviated name (e.g., Jan, Feb, ...)\n",
        "df['month'] = df['month_num'].apply(lambda x: calendar.month_abbr[int(x)])\n",
        "\n",
        "# Smooth line interpolation (optional but makes the line smoother)\n",
        "x = df['month_num']\n",
        "y = df['sales']\n",
        "x_smooth = np.linspace(x.min(), x.max(), 300)\n",
        "y_smooth = make_interp_spline(x, y, k=2)(x_smooth)\n",
        "\n",
        "# ====================== Part-2: Design Part ======================\n",
        "\n",
        "import seaborn as sns\n",
        "import matplotlib.pyplot as plt\n",
        "\n",
        "# Seaborn dark theme\n",
        "sns.set_theme(style='dark', context='talk')\n",
        "\n",
        "# Figure setup\n",
        "plt.figure(figsize=(12, 6))\n",
        "plt.plot(x_smooth, y_smooth, color=sns.color_palette('flare')[2], linewidth=3)\n",
        "\n",
        "# Add scatter points\n",
        "plt.scatter(x, y, color='blue', s=100, edgecolors='black', zorder=5)\n",
        "\n",
        "# Customize ticks\n",
        "plt.xticks(df['month_num'], df['month'], fontsize=12, color='white')\n",
        "plt.yticks(fontsize=12, color='white')\n",
        "\n",
        "# Titles and labels\n",
        "plt.title(\"🚀 Monthly Sales Trend (Now with Cool Background)\", fontsize=17, weight='bold', color='white')\n",
        "plt.xlabel(\"Month\", fontsize=16, color='white')\n",
        "plt.ylabel(\"Sales_($)\", fontsize=16, color='white')\n",
        "\n",
        "# Grid and background\n",
        "plt.grid(True, linestyle=\"--\", alpha=0.5, color=\"gray\")\n",
        "plt.gca().set_facecolor('#222222')        # Plot area background\n",
        "plt.gcf().patch.set_facecolor('#111111')  # Full figure background\n",
        "\n",
        "# Set border colors\n",
        "for spine in plt.gca().spines.values():\n",
        "    spine.set_color('gray')\n",
        "\n",
        "plt.tight_layout()\n",
        "plt.show()\n",
        "\n",
        "\n",
        "\n"
      ]
    },
    {
      "cell_type": "code",
      "execution_count": null,
      "metadata": {
        "cellView": "form",
        "id": "DDt5L0myITAH"
      },
      "outputs": [],
      "source": [
        "# @title  Temperature With Time"
      ]
    },
    {
      "cell_type": "markdown",
      "metadata": {
        "id": "Bblbtt2QPPmW"
      },
      "source": [
        "## ##three in one"
      ]
    },
    {
      "cell_type": "code",
      "execution_count": null,
      "metadata": {
        "id": "kN1IvvsdQVYw"
      },
      "outputs": [],
      "source": [
        "# @title Line Plot – Monthly Sales Trend for a Specific State\n",
        "# Logice part\n",
        "state_month = df_2018[df_2018['State'] == 'California'].groupby(df_2018['Order Date'].dt.to_period('M'))['Sales'].sum()\n",
        "state_month.index = state_month.index.to_timestamp()\n",
        "\n",
        "# Design part\n",
        "plt.figure(figsize=(10, 6))\n",
        "\n",
        "# lineplot\n",
        "state_month.plot(marker='o', linestyle='-', color='orange')\n",
        "#state_month.plot(kind='bar', color='skyblue', edgecolor='black')\n",
        "\n",
        "# title and label\n",
        "plt.title(\"Monthly Sales Trend in California (2018)\")\n",
        "plt.xlabel(\"Month\")\n",
        "plt.ylabel(\"Sales ($)\")\n",
        "plt.grid(True)\n",
        "\n",
        "# final layout\n",
        "plt.tight_layout()\n",
        "plt.show()\n",
        "\n"
      ]
    },
    {
      "cell_type": "code",
      "execution_count": null,
      "metadata": {
        "cellView": "form",
        "id": "nJozFFJ1PUc4"
      },
      "outputs": [],
      "source": [
        "# @title three in one\n",
        "#=======================================================logical part start========================================================\n",
        "# Step 1: Import required libraries\n",
        "import pandas as pd\n",
        "import numpy as np\n",
        "from dateutil import parser\n",
        "\n",
        "# Step 2: Load dataset\n",
        "url = \"https://docs.google.com/spreadsheets/d/e/2PACX-1vR-6XYWtaoxDCiZOi6PQODs_ubL08CvVzL6Q39LOquPGDTCAMQ3xjTpRLDereRI011A7lbxIS7iXsWU/pub?gid=574248564&single=true&output=csv\"\n",
        "df = pd.read_csv(url)\n",
        "\n",
        "# Step 3: Date parsing function\n",
        "def try_parse_date(x):\n",
        "    try:\n",
        "        return parser.parse(x, dayfirst=False)\n",
        "    except:\n",
        "        try:\n",
        "            return parser.parse(x, dayfirst=True)\n",
        "        except:\n",
        "            return pd.NaT\n",
        "\n",
        "# Step 4: Clean data\n",
        "df['Order Date'] = df['Order Date'].apply(try_parse_date)\n",
        "df = df[df['Order Date'].notna()]\n",
        "df = df[df['Sales'].notna() & (df['Sales'] > 0)]\n",
        "\n",
        "# Step 5: Feature engineering\n",
        "df['Year'] = df['Order Date'].dt.year\n",
        "df['Quarter'] = df['Order Date'].dt.to_period('Q').astype(str)\n",
        "df['Month'] = df['Order Date'].dt.month\n",
        "\n",
        "# Step 6: Filter top 10 states by 2018 sales\n",
        "df_2018 = df[df['Year'] == 2018].copy()\n",
        "top_10_states = df_2018.groupby('State')['Sales'].sum().nlargest(10).index.tolist()\n",
        "top_state_2018 = df_2018[df_2018['State'].isin(top_10_states)]\n",
        "\n",
        "# Step 7: Quarterly sales pivot table\n",
        "quarterly_sales = top_state_2018.pivot_table(\n",
        "    index='State',\n",
        "    columns='Quarter',\n",
        "    values='Sales',\n",
        "    aggfunc='sum'\n",
        ")\n",
        "quarterly_sales['Total'] = quarterly_sales.sum(axis=1)\n",
        "quarterly_sales = quarterly_sales.sort_values(by='Total', ascending=False)\n",
        "\n",
        "# Step 8: YoY comparison (2017 vs 2018)\n",
        "sales_2017 = df[df['Year'] == 2017].groupby('State')['Sales'].sum().reset_index(name='Sales_2017')\n",
        "sales_2018 = df[df['Year'] == 2018].groupby('State')['Sales'].sum().reset_index(name='Sales_2018')\n",
        "merged_yoy = pd.merge(sales_2017, sales_2018, on='State')\n",
        "merged_yoy['YoY_%'] = ((merged_yoy['Sales_2018'] - merged_yoy['Sales_2017']) / merged_yoy['Sales_2017']) * 100\n",
        "top10_yoy = merged_yoy[merged_yoy['State'].isin(top_10_states)].sort_values(by='Sales_2018', ascending=False)\n",
        "\n",
        "# Step 9: Forecast 2019 regional sales using linear regression\n",
        "from sklearn.linear_model import LinearRegression\n",
        "\n",
        "region_sales = df.groupby(['Region', 'Year'])['Sales'].sum().reset_index()\n",
        "forecast_list = []\n",
        "\n",
        "for region in region_sales['Region'].unique():\n",
        "    reg_df = region_sales[region_sales['Region'] == region]\n",
        "    X = reg_df['Year'].values.reshape(-1, 1)\n",
        "    y = reg_df['Sales'].values.reshape(-1, 1)\n",
        "\n",
        "    model = LinearRegression()\n",
        "    model.fit(X, y)\n",
        "\n",
        "    pred_2019 = model.predict([[2019]])[0][0]\n",
        "    actual_2018 = reg_df[reg_df['Year'] == 2018]['Sales'].values[0]\n",
        "    growth_pct = ((pred_2019 - actual_2018) / actual_2018) * 100\n",
        "\n",
        "    forecast_list.append({\n",
        "        'Region': region,\n",
        "        '2018 Sales': actual_2018,\n",
        "        'Predicted 2019 Sales': pred_2019,\n",
        "        'Growth %': growth_pct\n",
        "    })\n",
        "\n",
        "forecast_df = pd.DataFrame(forecast_list).sort_values(by='Growth %', ascending=False)\n",
        "\n",
        "#=======================================================Design part start========================================================\n",
        "# Step 1: Import visualization libraries\n",
        "import matplotlib.pyplot as plt\n",
        "import seaborn as sns\n",
        "import matplotlib.ticker as ticker\n",
        "\n",
        "# Step 2: Set dark theme\n",
        "sns.set_theme(style='darkgrid', rc={\n",
        "    'axes.facecolor':'#111111',\n",
        "    'figure.facecolor':'#111111',\n",
        "    'axes.labelcolor':'white',\n",
        "    'xtick.color':'white',\n",
        "    'ytick.color':'white',\n",
        "    'text.color':'white'\n",
        "})\n",
        "\n",
        "# Step 3: Create annotation labels for heatmap\n",
        "annot_table = quarterly_sales.applymap(lambda x: f\"${x:,.0f}\")\n",
        "\n",
        "# Step 4: Setup 3 subplots (stacked vertically)\n",
        "fig, axs = plt.subplots(3, 1, figsize=(14, 18), gridspec_kw={'height_ratios':[1,1,1]})\n",
        "\n",
        "# -------- Plot 1: YoY Growth Bar Chart --------\n",
        "sns.barplot(data=top10_yoy, x='State', y='YoY_%', ax=axs[0], palette='viridis')\n",
        "axs[0].set_title(\"YoY Sales Growth (2017 → 2018) - Top 10 States\", color='white', fontsize=16)\n",
        "axs[0].set_xlabel(\"State\", color='white')\n",
        "axs[0].set_ylabel(\"YoY Growth (%)\", color='white')\n",
        "axs[0].tick_params(colors='white')\n",
        "\n",
        "# Annotate each bar\n",
        "for p in axs[0].patches:\n",
        "    height = p.get_height()\n",
        "    axs[0].annotate(f'{height:.1f}%', (p.get_x() + p.get_width()/2., height),\n",
        "                    ha='center', va='bottom', color='white', fontsize=9)\n",
        "\n",
        "# -------- Plot 2: Heatmap for Quarterly Sales --------\n",
        "sns.heatmap(quarterly_sales.iloc[:,:-1], annot=annot_table.iloc[:,:-1], fmt='', cmap='YlOrBr',\n",
        "            linewidth=0.5, linecolor='white', cbar_kws={'label': 'Sales'}, ax=axs[1])\n",
        "colorbar = axs[1].collections[0].colorbar\n",
        "colorbar.ax.yaxis.set_major_formatter(ticker.FuncFormatter(lambda x, pos: f'${x:,.0f}'))\n",
        "\n",
        "axs[1].set_title('Top 10 States Quarterly Sales (2018)', color='white', fontsize=16)\n",
        "axs[1].set_xlabel('Quarter', color='white')\n",
        "axs[1].set_ylabel('State', color='white')\n",
        "\n",
        "# -------- Plot 3: Regional Sales Trend + Forecast --------\n",
        "sns.lineplot(data=region_sales, x='Year', y='Sales', hue='Region', marker='o', ax=axs[2])\n",
        "\n",
        "# Add 2019 forecast as points\n",
        "for _, row in forecast_df.iterrows():\n",
        "    axs[2].scatter(2019, row['Predicted 2019 Sales'], marker='X', s=100, label=f\"{row['Region']} Forecast\")\n",
        "\n",
        "axs[2].set_title('Regional Sales Trend (2015-2018) and 2019 Forecast', color='white', fontsize=16)\n",
        "axs[2].set_xlabel('Year', color='white')\n",
        "axs[2].set_ylabel('Sales', color='white')\n",
        "axs[2].legend(facecolor='#222222', framealpha=0.8, edgecolor='white', labelcolor='white')\n",
        "axs[2].tick_params(colors='white')\n",
        "\n",
        "# Final layout adjustment and display\n",
        "plt.tight_layout()\n",
        "plt.show()\n",
        "\n",
        "# Step 5: Print Forecast Table\n",
        "print(\"\\n=== 2019 Regional Sales Forecast ===\")\n",
        "print(forecast_df.round(2).to_string(index=False))\n",
        "\n",
        "# Step 6: Recommendations\n",
        "print(\"\\n=== Business Recommendations ===\")\n",
        "print(f\"\"\"\n",
        "1. Increase marketing and logistics investment in regions with highest forecasted growth (e.g., {forecast_df.iloc[0]['Region']}).\n",
        "2. Focus warehousing expansion in top-performing states such as {', '.join(top_10_states)}.\n",
        "3. Reassess resource allocation in underperforming regions to optimize cost efficiency.\n",
        "4. Use YoY growth trends to tailor marketing campaigns in states with rising sales momentum.\n",
        "5. Monitor quarterly sales fluctuations to adjust inventory and supply chain proactively.\n",
        "\"\"\")\n"
      ]
    },
    {
      "cell_type": "markdown",
      "metadata": {
        "id": "7BwEpojmGKyI"
      },
      "source": [
        "# # Project no-2\n",
        " Abdul Malek\n",
        " am9825083@gmail.com"
      ]
    },
    {
      "cell_type": "code",
      "execution_count": null,
      "metadata": {
        "cellView": "form",
        "collapsed": true,
        "id": "VTw1xmmJGbwA"
      },
      "outputs": [],
      "source": [
        "# @title final project (State Sales Strategy for 2018)\n",
        "#-----------------------------------------Logical part start------------------------------------------\n",
        "# step 1: import required libraries function\n",
        "import numpy as np\n",
        "import pandas as pd\n",
        "from dateutil import parser\n",
        "\n",
        "# step 2: lode data\n",
        "url = \"https://docs.google.com/spreadsheets/d/e/2PACX-1vR-6XYWtaoxDCiZOi6PQODs_ubL08CvVzL6Q39LOquPGDTCAMQ3xjTpRLDereRI011A7lbxIS7iXsWU/pub?gid=574248564&single=true&output=csv\"\n",
        "df = pd.read_csv(url)\n",
        "#df = pd.read_csv('https://docs.google.com/spreadsheets/d/e/2PACX-1vR-6XYWtaoxDCiZOi6PQODs_ubL08CvVzL6Q39LOquPGDTCAMQ3xjTpRLDereRI011A7lbxIS7iXsWU/pub?gid=574248564&single=true&output=csv')\n",
        "\n",
        "# step 3: data cleaning\n",
        "# not a time = NaT\n",
        "# Solve Date issue\n",
        "def try_parse_date(x):\n",
        "  try:\n",
        "    return parser.parse(x, dayfirst = False)\n",
        "  except:\n",
        "    try:\n",
        "      return parser.parse(x, dayfirst = True)\n",
        "    except:\n",
        "      return pd.NaT\n",
        "\n",
        "\n",
        "df ['Order Date'] = df['Order Date'].apply(try_parse_date)\n",
        "df = df[df['Order Date'].notna()]\n",
        "df = df[df['Sales'].notna() &(df['Sales'] > 0)]\n",
        "\n",
        "# step 4: Filter for 2018 and create Quarter\n",
        "df_2018 = df[df['Order Date'].dt.year == 2018] #df_2018 er modde sob data ache\n",
        "df_2018['Quarter'] = df_2018['Order Date'].dt.to_period('Q').astype(str)\n",
        "\n",
        "\n",
        "# step 4:  Top 10 states by sales (gropuby)\n",
        "top_10_states = df_2018.groupby('State') ['Sales'].sum().nlargest(10).index.tolist()\n",
        "top_state = df_2018[df_2018['State'].isin(top_10_states)]\n",
        "\n",
        "\n",
        "# step 5: feature (table_feature)\n",
        "table_feature = top_state.pivot_table(\n",
        "    index ='State',\n",
        "    columns ='Quarter',\n",
        "    values ='Sales',\n",
        "    aggfunc ='sum',\n",
        "\n",
        ")\n",
        "table_feature['Total'] = table_feature.sum(axis=1)\n",
        "table_feature = table_feature.sort_values(by='Total' , ascending = False)\n",
        "\n",
        "\n",
        "# step 6: Create annotation table for heatmap\n",
        "annot_table = table_feature.applymap(lambda x: f'${x:,.0f}')\n",
        "\n",
        "#------------------------------Design part start----------------------------------\n",
        "\n",
        "# step 1: import required libraries function\n",
        "import seaborn as sns\n",
        "import matplotlib.pyplot as plt\n",
        "import matplotlib.ticker as ticker\n",
        "\n",
        "\n",
        "# step 2: theme/style\n",
        "theme=sns.set_theme(style='darkgrid', rc={\n",
        "    'axes.facecolor':'#111111',\n",
        "    'figure.facecolor':'#111111',\n",
        "    'axes.labelcolor':'white',\n",
        "    'xtick.color':'white',\n",
        "    'ytick.color':'white',\n",
        "    'text.color':'white'\n",
        "})\n",
        "\n",
        "# step 3: figure size\n",
        "plt.figure(figsize=(12,8))\n",
        "\n",
        "# step 4: heatmap(  colormap , annotaion formating, gridline and linecolor,colorbar cbar  )\n",
        "colormap=sns.heatmap(table_feature,\n",
        "            annot=annot_table,\n",
        "            fmt='',\n",
        "            cmap ='YlOrBr',\n",
        "            linewidth=.5,\n",
        "            linecolor='white',\n",
        "            cbar_kws = {'label':'Sales',}\n",
        "            )\n",
        "\n",
        "# step 5: colorbar access and customizetion\n",
        "colorbar = colormap.collections[0].colorbar #access\n",
        "colorbar.ax.yaxis.set_major_formatter(ticker.FuncFormatter(lambda x, pos: f'${x:,.0f}')) #customizetion\n",
        "\n",
        "# step 6: title, xlabel, ylabel\n",
        "plt.title('Top 10 State Sales   for 2018', color='white', fontsize=16)\n",
        "plt.xlabel('Quarter', color ='white', fontsize=16)\n",
        "plt.ylabel('State', color ='white', fontsize=16)\n",
        "\n",
        "plt.savefig('top 10 state sales 2018.pdf')\n",
        "plt.savefig('top 10 state sales 2018.png')\n",
        "# step 7: final layout\n",
        "plt.tight_layout()\n",
        "plt.show()\n",
        "\n"
      ]
    },
    {
      "cell_type": "code",
      "execution_count": null,
      "metadata": {
        "cellView": "form",
        "collapsed": true,
        "id": "yRM4PMdaUA_a"
      },
      "outputs": [],
      "source": [
        "# @title YoY Sales Growth (2017 → 2018) - Top 10 States (barplot)\n",
        "#------------------------------------------------------------------------logical part---------------------------------------------------\n",
        "# step 1: import required libraries function\n",
        "import numpy as np\n",
        "import pandas as pd\n",
        "from dateutil import parser\n",
        "\n",
        "# step 2:Load data\n",
        "url = \"https://docs.google.com/spreadsheets/d/e/2PACX-1vR-6XYWtaoxDCiZOi6PQODs_ubL08CvVzL6Q39LOquPGDTCAMQ3xjTpRLDereRI011A7lbxIS7iXsWU/pub?gid=574248564&single=true&output=csv\"\n",
        "df = pd.read_csv(url)\n",
        "\n",
        "# step 3: Date parsing function\n",
        "def try_parse_date(x):\n",
        "    try:\n",
        "        return parser.parse(x, dayfirst=False)\n",
        "    except:\n",
        "        try:\n",
        "            return parser.parse(x, dayfirst=True)\n",
        "        except:\n",
        "            return pd.NaT\n",
        "\n",
        "# step 4: Clean data\n",
        "df['Order Date'] = df['Order Date'].apply(try_parse_date)\n",
        "df = df[df['Order Date'].notna()]\n",
        "df = df[df['Sales'].notna() & (df['Sales'] > 0)]\n",
        "\n",
        "# step 5: Feature engineering\n",
        "df['Year'] = df['Order Date'].dt.year\n",
        "\n",
        "# step 6: Filter 2018 data & find top 10 states by sales\n",
        "df_2018 = df[df['Year'] == 2018]\n",
        "top_10_states = df_2018.groupby('State')['Sales'].sum().nlargest(10).index.tolist()\n",
        "\n",
        "# step 7: YoY comparison 2017 vs 2018 for all states\n",
        "sales_2017 = df[df['Year'] == 2017].groupby('State')['Sales'].sum().reset_index(name='Sales_2017')\n",
        "sales_2018 = df[df['Year'] == 2018].groupby('State')['Sales'].sum().reset_index(name='Sales_2018')\n",
        "\n",
        "merged_yoy = pd.merge(sales_2017, sales_2018, on='State')\n",
        "merged_yoy['YoY_%'] = ((merged_yoy['Sales_2018'] - merged_yoy['Sales_2017']) / merged_yoy['Sales_2017']) * 100\n",
        "\n",
        "# step 8: Keep only top 10 states for 2018\n",
        "top10_yoy = merged_yoy[merged_yoy['State'].isin(top_10_states)].sort_values(by='Sales_2018', ascending=False)\n",
        "top10_yoy = top10_yoy.sort_values(by='YoY_%', ascending=True)\n",
        "\n",
        "\n",
        "\n",
        "#--------------------------------------------------------------------------Design part---------------------------------------------------\n",
        "# step 1: import requard libraies functions\n",
        "import seaborn as sns\n",
        "import matplotlib.pyplot as plt\n",
        "\n",
        "# step 2: theme / style with color\n",
        "sns.set_theme(style='darkgrid', rc={\n",
        "    'axes.facecolor':'#111111',\n",
        "    'figure.facecolor':'#111111',\n",
        "    'axes.labelcolor':'white',\n",
        "    'xtick.color':'white',\n",
        "    'ytick.color':'white',\n",
        "    'text.color':'white'\n",
        "})\n",
        "\n",
        "# step 3: plot figur size and axis for plotting\n",
        "plt.figure(figsize=(12,6))\n",
        "ax = plt.gca()\n",
        "ax.grid(False)\n",
        "\n",
        "# step 4: Barplot\n",
        "sns.barplot(data=top10_yoy, x='State', y='YoY_%', ax=ax, palette='Spectral')\n",
        "\n",
        "# step 5:Titles and labels with white color\n",
        "plt.title(\"YoY Sales Growth (2017 → 2018) - Top 10 States\", color='white', fontsize=16)\n",
        "plt.xlabel(\"State\", color='white')\n",
        "plt.ylabel(\"YoY Growth (%)\", color='white')\n",
        "plt.tick_params(colors='white')\n",
        "\n",
        "# step 6: Annotate barplot with YoY % values on top of bars\n",
        "for p in ax.patches:\n",
        "    height = p.get_height()\n",
        "    ax.annotate(f'{height:.1f}%', (p.get_x() + p.get_width() / 2., height),\n",
        "                ha='center', va='bottom', color='white', fontsize=9)\n",
        "\n",
        "plt.savefig('YOY sales Growth(1017-1018).pdf')\n",
        "plt.savefig('YOY sales Growth(1017-1018).png')\n",
        "#step 7: Final layout\n",
        "plt.tight_layout()\n",
        "plt.show()\n",
        "\n"
      ]
    },
    {
      "cell_type": "code",
      "execution_count": null,
      "metadata": {
        "cellView": "form",
        "id": "BBpq_6DGAcsm"
      },
      "outputs": [],
      "source": [
        "# @title Regional Sales Trend (2015-2018) and 2019 Forecast\n",
        "# ===================================================Logical Part=================================================\n",
        "# Step 1: Import required libraries\n",
        "import numpy as np\n",
        "import pandas as pd\n",
        "from dateutil import parser\n",
        "from sklearn.linear_model import LinearRegression\n",
        "\n",
        "# Step 2: Load data\n",
        "url = \"https://docs.google.com/spreadsheets/d/e/2PACX-1vR-6XYWtaoxDCiZOi6PQODs_ubL08CvVzL6Q39LOquPGDTCAMQ3xjTpRLDereRI011A7lbxIS7iXsWU/pub?gid=574248564&single=true&output=csv\"\n",
        "df = pd.read_csv(url)\n",
        "\n",
        "# Step 3: Date parsing function\n",
        "def try_parse_date(x):\n",
        "    try:\n",
        "        return parser.parse(x, dayfirst=False)\n",
        "    except:\n",
        "        try:\n",
        "            return parser.parse(x, dayfirst=True)\n",
        "        except:\n",
        "            return pd.NaT\n",
        "\n",
        "# Step 4: Clean data\n",
        "df['Order Date'] = df['Order Date'].apply(try_parse_date)\n",
        "df = df[df['Order Date'].notna()]\n",
        "df = df[df['Sales'].notna() & (df['Sales'] > 0)]\n",
        "\n",
        "# Step 5: Feature engineering\n",
        "df['Month'] = df['Order Date'].dt.month\n",
        "df['Year'] = df['Order Date'].dt.year\n",
        "\n",
        "# Step 6: Regional total sales per year\n",
        "region_sales = df.groupby(['Region', 'Year'])['Sales'].sum().reset_index()\n",
        "\n",
        "# Step 7: Forecast 2019 sales using linear regression\n",
        "forecast_list = []\n",
        "\n",
        "for region in region_sales['Region'].unique():\n",
        "    reg_df = region_sales[region_sales['Region'] == region]\n",
        "    X = reg_df['Year'].values.reshape(-1, 1)\n",
        "    y = reg_df['Sales'].values.reshape(-1, 1)\n",
        "\n",
        "    model = LinearRegression()\n",
        "    model.fit(X, y)\n",
        "\n",
        "    pred_2019 = model.predict([[2019]])[0][0]\n",
        "    actual_2018 = reg_df[reg_df['Year'] == 2018]['Sales'].values[0]\n",
        "    growth_pct = ((pred_2019 - actual_2018) / actual_2018) * 100\n",
        "\n",
        "    forecast_list.append({\n",
        "        'Region': region,\n",
        "        '2018 Sales': actual_2018,\n",
        "        'Predicted 2019 Sales': pred_2019,\n",
        "        'Growth %': growth_pct\n",
        "    })\n",
        "\n",
        "forecast_df = pd.DataFrame(forecast_list).sort_values(by='Growth %', ascending=False)\n",
        "\n",
        "\n",
        "# ===================================================Design Part=================================================\n",
        "import matplotlib.pyplot as plt\n",
        "import seaborn as sns\n",
        "\n",
        "# Step 1: theme / style\n",
        "sns.set_theme(style='darkgrid', rc={\n",
        "    'axes.facecolor':'#111111',\n",
        "    'figure.facecolor':'#111111',\n",
        "    'axes.labelcolor':'white',\n",
        "    'xtick.color':'white',\n",
        "    'ytick.color':'white',\n",
        "    'text.color':'white'\n",
        "})\n",
        "\n",
        "# Step 2: polt figure size and axis\n",
        "plt.figure(figsize=(12, 6))\n",
        "ax = plt.gca()\n",
        "\n",
        "# Step 3: Line plot\n",
        "sns.lineplot(data=region_sales, x='Year', y='Sales', hue='Region', marker='o', ax=ax)\n",
        "\n",
        "# Step 4: Plot 2019 forecast as X marker\n",
        "for _, row in forecast_df.iterrows():\n",
        "    ax.scatter(2019, row['Predicted 2019 Sales'], marker='X', s=100, label=f\"{row['Region']} Forecast\")\n",
        "\n",
        "# Step 5: Axis labels, title, legend\n",
        "ax.set_title('Regional Sales Trend (2015-2018) and 2019 Forecast', color='white', fontsize=16)\n",
        "ax.set_xlabel('Year', color='white')\n",
        "ax.set_ylabel('Sales', color='white')\n",
        "ax.legend(facecolor='#222222', framealpha=0.8, edgecolor='white', labelcolor='white')\n",
        "ax.tick_params(colors='white')\n",
        "\n",
        "plt.savefig('Regional Sales Trend (2015-2018) and 2019 Forecast.pdf')\n",
        "plt.savefig('Regional Sales Trend (2015-2018) and 2019 Forecast.png')\n",
        "# Step 6: Final layout\n",
        "plt.tight_layout()\n",
        "plt.show()\n",
        "\n",
        "# Step 7: Print Forecast Table and Business Recommendations\n",
        "print(\"\\n=== 2019 Regional Sales Forecast ===\")\n",
        "print(forecast_df.round(2).to_string(index=False))\n",
        "\n",
        "print(\"\\n=== Business Recommendations ===\")\n",
        "print(f\"\"\"\n",
        "1. Increase marketing and logistics investment in regions with highest forecasted growth (e.g., {forecast_df.iloc[0]['Region']}).\n",
        "2. Focus warehousing expansion in top-performing states such as {', '.join(top_10_states)}.\n",
        "3. Reassess resource allocation in underperforming regions to optimize cost efficiency.\n",
        "4. Use YoY growth trends to tailor marketing campaigns in states with rising sales momentum.\n",
        "5. Monitor quarterly sales fluctuations to adjust inventory and supply chain proactively.\n",
        "\"\"\")\n"
      ]
    },
    {
      "cell_type": "code",
      "execution_count": null,
      "metadata": {
        "cellView": "form",
        "id": "NplxpBF2RU0p"
      },
      "outputs": [],
      "source": [
        "# @title Sales by Region per Quarter - 2018\n",
        "#====================================================logical part=============================================\n",
        "#step 1: import requard libraies function\n",
        "import numpy as np\n",
        "import pandas as pd\n",
        "from dateutil import parser\n",
        "\n",
        "# step 2: load data\n",
        "df=pd.read_csv(\"https://docs.google.com/spreadsheets/d/e/2PACX-1vR-6XYWtaoxDCiZOi6PQODs_ubL08CvVzL6Q39LOquPGDTCAMQ3xjTpRLDereRI011A7lbxIS7iXsWU/pub?gid=574248564&single=true&output=csv\")\n",
        "\n",
        "# step 3: Date parsing function\n",
        "def try_parse_date(x):\n",
        "    try:\n",
        "        return parser.parse(x, dayfirst=False)\n",
        "    except:\n",
        "        try:\n",
        "            return parser.parse(x, dayfirst=True)\n",
        "        except:\n",
        "            return pd.NaT\n",
        "\n",
        "# step 4: clean data\n",
        "df['Order Date'] = df['Order Date'].apply(try_parse_date)\n",
        "df = df[df['Order Date'].notna()]\n",
        "df = df[df['Sales'].notna() & (df['Sales']>0)]\n",
        "\n",
        "# step 5: filter data and quarter\n",
        "df_2018 = df[df['Order Date'].dt.year==2018]\n",
        "df_2018['Quarter'] = df_2018['Order Date'].dt.to_period('Q').astype(str)\n",
        "\n",
        "# step 6: feature\n",
        "top_region = df_2018.groupby('Region') ['Sales'].sum().nlargest().index.tolist()\n",
        "top_state = df_2018[df_2018['Region'].isin(top_region)]\n",
        "\n",
        "\n",
        "# step 7: feature (table_feature)\n",
        "table_feature = top_state.pivot_table(\n",
        "    index ='Region',\n",
        "    columns ='Quarter',\n",
        "    values ='Sales',\n",
        "    aggfunc ='sum',\n",
        "\n",
        ")\n",
        "table_feature['Total'] = table_feature.sum(axis=1)\n",
        "table_feature = table_feature.sort_values(by='Total' , ascending = False)\n",
        "\n",
        "\n",
        "# step 8: Create annotation table for heatmap\n",
        "annot_table = table_feature.applymap(lambda x: f'${x:,.0f}')\n",
        "\n",
        "\n",
        "#------------------------------Design part start----------------------------------\n",
        "\n",
        "# step 1: import required libraries function\n",
        "import seaborn as sns\n",
        "import matplotlib.pyplot as plt\n",
        "import matplotlib.ticker as ticker\n",
        "\n",
        "\n",
        "# step 2: theme/style\n",
        "theme=sns.set_theme(style='darkgrid', rc={\n",
        "    'axes.facecolor':'#111111',\n",
        "    'figure.facecolor':'#111111',\n",
        "    'axes.labelcolor':'white',\n",
        "    'xtick.color':'white',\n",
        "    'ytick.color':'white',\n",
        "    'text.color':'white'\n",
        "})\n",
        "\n",
        "# step 3: figure size\n",
        "plt.figure(figsize=(8,6))\n",
        "\n",
        "# step 4: heatmap(  colormap , annotaion formating, gridline and linecolor,colorbar cbar  )\n",
        "colormap=sns.heatmap(table_feature,\n",
        "            annot=annot_table,\n",
        "            fmt='',\n",
        "            cmap ='Blues',\n",
        "            linewidth=.5,\n",
        "            linecolor='white',\n",
        "            cbar_kws = {'label':'Sales',}\n",
        "            )\n",
        "\n",
        "# step 5: colorbar access and customizetion\n",
        "colorbar = colormap.collections[0].colorbar #access\n",
        "colorbar.ax.yaxis.set_major_formatter(ticker.FuncFormatter(lambda x, pos: f'${x:,.0f}')) #customizetion\n",
        "\n",
        "# step 6: title, xlabel, ylabel\n",
        "plt.title('Sales by Region per Quarter - 2018', color='white', fontsize=16)\n",
        "plt.xlabel('Quarter', color ='white', fontsize=16)\n",
        "plt.ylabel('Region', color ='white', fontsize=16)\n",
        "\n",
        "plt.savefig('Sales by Region per Quarter - 2018.pdf')\n",
        "plt.savefig('Sales by Region per Quarter - 2018.png')\n",
        "# step 7: final layout\n",
        "plt.tight_layout()\n",
        "plt.show()\n"
      ]
    },
    {
      "cell_type": "code",
      "execution_count": null,
      "metadata": {
        "cellView": "form",
        "id": "j5hNdIhBYGuK"
      },
      "outputs": [],
      "source": [
        "# @title Bar Chart – Top 10 States by Total Sales\n",
        "#================================================================logical part===============================================================\n",
        "# step 1: import requard libraies function\n",
        "import numpy as np\n",
        "import pandas as pd\n",
        "from dateutil import parser\n",
        "\n",
        "# step 2: load data\n",
        "df = pd.read_csv(\"https://docs.google.com/spreadsheets/d/e/2PACX-1vR-6XYWtaoxDCiZOi6PQODs_ubL08CvVzL6Q39LOquPGDTCAMQ3xjTpRLDereRI011A7lbxIS7iXsWU/pub?gid=574248564&single=true&output=csv\")\n",
        "\n",
        "# step 3: date parsing function\n",
        "def try_parse_date(x):\n",
        "  try:\n",
        "    return parser.parse(x, dayfirst = False)\n",
        "  except:\n",
        "    try:\n",
        "      return parser.parse(x, dayfirst = True)\n",
        "    except:\n",
        "      return pd.NaT\n",
        "\n",
        "# step 4: clean data\n",
        "df['Order Date'] = df['Order Date'].apply(try_parse_date)\n",
        "df = df[df['Order Date'].notna()]\n",
        "df = df[df['Sales'].notna() & (df['Sales']>0)]\n",
        "\n",
        "# step 5: filter data\n",
        "df_2018 = df[df['Order Date'].dt.year==2018]\n",
        "\n",
        "# step 6: top 10 state in 2018\n",
        "top_10_states = df_2018.groupby('State')['Sales'].sum().nlargest(10).sort_values(ascending=True)\n",
        "\n",
        "#================================================================Design part===============================================================\n",
        "\n",
        "# step 1: import required libraries function\n",
        "import seaborn as sns\n",
        "import matplotlib.pyplot as plt\n",
        "import matplotlib.ticker as ticker\n",
        "\n",
        "\n",
        "# step 2: theme/style\n",
        "sns.set_theme(style='dark', rc={\n",
        "    'axes.facecolor':'#111111',\n",
        "    'figure.facecolor':'#111111',\n",
        "    'xtick.color':'white',\n",
        "    'ytick.color':'white',\n",
        "    'text.color':'white'\n",
        "})\n",
        "\n",
        "\n",
        "# step 3: figure size\n",
        "plt.figure(figsize=(10,6))\n",
        "\n",
        "\n",
        "# step 4: barplot\n",
        "# bar = vertical\n",
        "# barh = horizontal\n",
        "ax = top_10_states.plot(kind='bar', color='skyblue', edgecolor='black')\n",
        "\n",
        "# step 5: title, xlabel, ylabel\n",
        "plt.title('Top 10 State Sales   for 2018', color='white', fontsize=16)\n",
        "plt.xlabel('State', color ='white', fontsize=16)\n",
        "plt.ylabel('Sales', color ='white', fontsize=16)\n",
        "plt.xticks(rotation=0)\n",
        "\n",
        "\n",
        "# Optional: annotate bars\n",
        "for p in ax.patches:\n",
        "    height = p.get_height()\n",
        "    ax.annotate(f'${height:,.0f}', (p.get_x() + p.get_width() / 2., height),\n",
        "                ha='center', va='bottom', fontsize=9)\n",
        "\n",
        "# step 6: final layout\n",
        "plt.tight_layout()\n",
        "plt.show()\n",
        "\n"
      ]
    },
    {
      "cell_type": "code",
      "execution_count": null,
      "metadata": {
        "cellView": "form",
        "id": "UWapNEKc0daj"
      },
      "outputs": [],
      "source": [
        "# @title Include a YoY comparison between 2017 and 2018 for each state in the top 10 states list.\n",
        "#---------------------------------------------------------------------Logical Part Start---------------------------------------------------------------------\n",
        "# step 1: import requared libarieas functions\n",
        "import numpy as np\n",
        "import pandas as pd\n",
        "from dateutil import parser\n",
        "\n",
        "# step 2:\n",
        "df=pd.read_csv(\"https://docs.google.com/spreadsheets/d/e/2PACX-1vR-6XYWtaoxDCiZOi6PQODs_ubL08CvVzL6Q39LOquPGDTCAMQ3xjTpRLDereRI011A7lbxIS7iXsWU/pub?gid=574248564&single=true&output=csv\")\n",
        "\n",
        "# step 3: data clean\n",
        "def try_parse_date(x):\n",
        "  try:\n",
        "    return parser.parse(x, dayfirst=False)\n",
        "  except:\n",
        "    try:\n",
        "      return parser.parse(x, dayfirst=True)\n",
        "    except:\n",
        "      return pd.NaT\n",
        "df['Order Date'] = df['Order Date'].apply(try_parse_date)\n",
        "df = df[df['Order Date'].notna()]\n",
        "df = df[ df['Sales'].notna() & (df['Sales']>0)]\n",
        "\n",
        "# step 4: Filter 2017 and 2018 orders and creat year\n",
        "df_17_18 = df[df['Order Date'].dt.year.isin([2017,2018])]\n",
        "df_17_18['Year'] = df_17_18['Order Date'].dt.to_period('Y').astype(str)\n",
        "\n",
        "\n",
        "# step 5: Groupby\n",
        "top_10_state = df_17_18.groupby('State')['Sales'].sum().nlargest(10).index.tolist()\n",
        "top_state = df_17_18[df_17_18['State'].isin(top_10_state)]\n",
        "\n",
        "# step 6: feature(pivot_table)\n",
        "table_feature = top_state.pivot_table(\n",
        "    index = 'State',\n",
        "    columns = 'Year',\n",
        "    values = 'Sales',\n",
        "    aggfunc = 'sum'\n",
        ")\n",
        "table_feature['Total'] = table_feature.sum(axis=1)\n",
        "table_feature = table_feature.sort_values(by='Total' , ascending = False)\n",
        "\n",
        "# step 7: Create annotation table for heatmap\n",
        "annot_table = table_feature.applymap(lambda x: f'${x:,.0f}')\n",
        "\n",
        "\n",
        "#------------------------------Design part start----------------------------------\n",
        "\n",
        "# step 1: import required libraries function\n",
        "import seaborn as sns\n",
        "import matplotlib.pyplot as plt\n",
        "\n",
        "# step 2: theme/style\n",
        "sns.set_theme(style='darkgrid', rc={\n",
        "    'axes.facecolor':'#111111',\n",
        "    'figure.facecolor':'#111111',\n",
        "    'axes.labelcolor':'white',\n",
        "    'xtick.color':'white',\n",
        "    'ytick.color':'white',\n",
        "    'text.color':'white'\n",
        "})\n",
        "\n",
        "# step 3: plot figure size\n",
        "plt.figure(figsize=(12,8))\n",
        "\n",
        "# step 4: heatmap(  colormap , annotaion formating, gridline and linecolor,colorbar cbar  )\n",
        "colormap=sns.heatmap(table_feature,\n",
        "            annot=annot_table,\n",
        "            fmt='',\n",
        "            cmap ='brg',\n",
        "            linewidth=.5,\n",
        "            linecolor='white',\n",
        "            cbar_kws = {'label':'Sales',}\n",
        "            )\n",
        "\n",
        "# step 5: colorbar access and customizetion\n",
        "colorbar = colormap.collections[0].colorbar #access\n",
        "colorbar.ax.yaxis.set_major_formatter(ticker.FuncFormatter(lambda x, pos: f'${x:,.0f}')) #customizetion\n",
        "\n",
        "# step 6: title, xlabel, ylabel\n",
        "plt.title('Include a YoY comparison between 2017 and 2018 for each state in the top 10 states list.', color='white', fontsize=16)\n",
        "plt.xlabel('Year', color ='white', fontsize=16)\n",
        "plt.ylabel('State', color ='white', fontsize=16)\n",
        "\n",
        "plt.savefig('Include a YoY comparison between 2017 and 2018 for each state in the top 10 states list.pdf')\n",
        "plt.savefig('Include a YoY comparison between 2017 and 2018 for each state in the top 10 states list.png')\n",
        "# step 7: Final layout\n",
        "plt.tight_layout()\n",
        "plt.show()\n",
        "\n"
      ]
    },
    {
      "cell_type": "code",
      "execution_count": null,
      "metadata": {
        "cellView": "form",
        "id": "qK5hNOQKp_Ho"
      },
      "outputs": [],
      "source": [
        "from collections.abc import Collection\n",
        "# @title Monthly Sales Heatmap for Top 4 States (2018)\n",
        "#========================================================================Logical Part====================================================================\n",
        "# step 1: import libraies function\n",
        "import numpy as np\n",
        "import pandas as pd\n",
        "from dateutil import parser\n",
        "\n",
        "# step 2: lode data\n",
        "df = pd.read_csv(\"https://docs.google.com/spreadsheets/d/e/2PACX-1vR-6XYWtaoxDCiZOi6PQODs_ubL08CvVzL6Q39LOquPGDTCAMQ3xjTpRLDereRI011A7lbxIS7iXsWU/pub?gid=574248564&single=true&output=csv\")\n",
        "\n",
        "# step 3: date parsing formatting\n",
        "def try_parse_date(x):\n",
        "  try:\n",
        "    return parser.parse(x, dayfirst = False)\n",
        "  except:\n",
        "    try:\n",
        "      return parser.parse(x, dayfirst = True)\n",
        "    except:\n",
        "      return pd.NaT\n",
        "\n",
        "# step 4: clean data\n",
        "df['Order Date'] = df['Order Date'].apply(try_parse_date)\n",
        "df = df[df['Order Date'].notna()]\n",
        "df = df[df['Sales'].notna() &(df['Sales']>0)]\n",
        "\n",
        "# step 5: filter data for a Specific year and State\n",
        "df_2018 = df[df['Order Date'].dt.year==2018]\n",
        "# Extract month name from date\n",
        "df_2018['Month_name'] =pd.to_datetime(df_2018['Order Date']).dt.strftime('%B')\n",
        "\n",
        "\n",
        "# Fix month order\n",
        "month_order = ['January', 'February', 'March', 'April', 'May', 'June',\n",
        "               'July', 'August', 'September', 'October', 'November', 'December']\n",
        "\n",
        "df_2018['Month_name'] = pd.Categorical(\n",
        "    df_2018['Month_name'], categories=month_order, ordered=True\n",
        ")\n",
        "\n",
        "# step 6: top 10 state\n",
        "top_10_state = df_2018.groupby('State')['Sales'].sum().nlargest(4).index.tolist()\n",
        "top_state = df_2018[df_2018['State'].isin(top_10_state)]\n",
        "\n",
        "# step 7: table design / table frature (pivot_table)\n",
        "table_design = top_state.pivot_table(\n",
        "  index = 'State',\n",
        "  columns = 'Month_name',\n",
        "  values = 'Sales',\n",
        "  aggfunc = 'sum'\n",
        ")\n",
        "\n",
        "table_design['Total'] = table_design.sum(axis=1)\n",
        "table_design = table_design.sort_values(by='Total', ascending = False)\n",
        "\n",
        "# step 8: create annottable for heatmap\n",
        "annot_table = table_design.applymap(lambda x: f'${x:,.0f}')\n",
        "\n",
        "\n",
        "#=========================================================================Design part================================================================\n",
        "# step 1: import requard libraies function\n",
        "import seaborn as sns\n",
        "import matplotlib.pyplot as plt\n",
        "import matplotlib.ticker as ticker\n",
        "\n",
        "# step 2: theme/style(seaborn)\n",
        "sns.set_theme(style='darkgrid', rc={\n",
        "    'axes.facecolor':'#111111',\n",
        "    'figure.facecolor':'#111111',\n",
        "    'axes.labelcolor':'white',\n",
        "    'xtick.color':'white',\n",
        "    'ytick.color':'white',\n",
        "    'text.color':'white'\n",
        "})\n",
        "\n",
        "# step 3: figure size\n",
        "plt.figure(figsize = (16,6))\n",
        "\n",
        "# step 4: colormap(colormap, annotation formating, linewidth, linecolor, colorbar)\n",
        "colormap = sns.heatmap(table_design,\n",
        "                       annot= annot_table,\n",
        "                       fmt ='',\n",
        "                       cmap = 'Spectral',\n",
        "                       linewidth = 0.5,\n",
        "                       linecolor = 'white',\n",
        "                       cbar_kws={'label':'Sales',\n",
        "                                 'pad':0.01})\n",
        "\n",
        "# step 5: colorbar access and customization\n",
        "colorbar = colormap.collections[0].colorbar #access\n",
        "colorbar.ax.yaxis.set_major_formatter(ticker.FuncFormatter(lambda x, pos: f'${x:,.0f}')) #customizetion\n",
        "\n",
        "# step 6: title and label\n",
        "plt.title('Monthly Sales Heatmap for Top 4 States (2018)', color = 'white', fontsize =16)\n",
        "plt.xlabel('Month', color = 'white', fontsize =16)\n",
        "plt.ylabel('State',color ='white', fontsize =16)\n",
        "\n",
        "plt.savefig('Monthly Sales Heatmap for Top 4 States (2018).pdf')\n",
        "plt.savefig('Monthly Sales Heatmap for Top 4 States (2018).pdf')\n",
        "# step 7: final layout\n",
        "plt.tight_layout()\n",
        "plt.show()"
      ]
    },
    {
      "cell_type": "code",
      "execution_count": null,
      "metadata": {
        "id": "x3AGVYwsGVbe"
      },
      "outputs": [],
      "source": []
    },
    {
      "cell_type": "markdown",
      "metadata": {
        "id": "iodH7hCPHS8E"
      },
      "source": [
        "# #cheapter No-3"
      ]
    },
    {
      "cell_type": "markdown",
      "metadata": {
        "id": "xk-p-5Zqj4vb"
      },
      "source": [
        "## ##class-9"
      ]
    },
    {
      "cell_type": "code",
      "execution_count": null,
      "metadata": {
        "cellView": "form",
        "id": "1JOlCrPGHdYa"
      },
      "outputs": [],
      "source": [
        "# @title Iris Dataset Info\n",
        "import pandas as pd\n",
        "from sklearn.datasets import load_iris\n",
        "iris = load_iris()\n",
        "print(iris.keys())\n",
        "#print(f'data is :\\n{iris.data}')\n",
        "#print(f'target is :\\n{iris.target}')\n",
        "print(f'frame is :\\t{iris.frame}')\n",
        "print(f'target names is :\\t{iris.target_names}')\n",
        "#print(f'descr is :\\n{iris.DESCR [:450]}')\n",
        "print(f'feature names is :\\t{iris.feature_names}')\n",
        "print(f'filename is :\\t{iris.filename}')\n",
        "print(f'data module is :\\t{iris.data_module}')"
      ]
    },
    {
      "cell_type": "code",
      "execution_count": null,
      "metadata": {
        "cellView": "form",
        "id": "lA84u9H7j741"
      },
      "outputs": [],
      "source": [
        "# @title  Dataset কিভাবে দেখতে হয়?\n",
        "import pandas as pd\n",
        "from sklearn.datasets import load_iris\n",
        "iris = load_iris()\n",
        "\n",
        "# ফুলের মাপ গুলো DataFrame এ রাখলাম যাতে টেবিলের মতো দেখতে হয়\n",
        "x = pd.DataFrame(iris.data, columns = iris.feature_names)\n",
        "\n",
        "# ফুলের প্রজাতির সংখ্যা (0,1,2) Series এ রাখলাম\n",
        "y = pd.Series(iris.target)\n",
        "print(x.head())\n",
        "print(y.head())\n",
        "print(f\"Number of features (row and columns): {x.shape}\")\n",
        "print(f'number of row is {x.shape[0]} and number of columns is{x.shape[1]}')"
      ]
    },
    {
      "cell_type": "code",
      "execution_count": null,
      "metadata": {
        "cellView": "form",
        "id": "uX4mt5h2HdbI"
      },
      "outputs": [],
      "source": [
        "# @title Logistic Regression দিয়ে Iris ফুলের প্রজাতি শনাক্তকরণ\n",
        "import pandas as pd\n",
        "from sklearn.linear_model import LogisticRegression\n",
        "\n",
        "# Dataset লোড\n",
        "iris = load_iris()\n",
        "X = pd.DataFrame(iris.data, columns=iris.feature_names)\n",
        "y = pd.Series(iris.target)\n",
        "\n",
        "# মডেল তৈরি ও ট্রেনিং\n",
        "model = LogisticRegression()\n",
        "model.fit(X, y)\n",
        "\n",
        "# নতুন ফুলের মাপ দিয়ে prediction\n",
        "sample = [[6.5, 3.0, 5.2, 2.0]]\n",
        "prediction = model.predict(sample)\n",
        "\n",
        "print(\"Prediction (ফুলের প্রজাতি নম্বর):\", prediction)\n",
        "\n",
        "names = iris.target_names  # ফুলের নামগুলো\n",
        "print(\"Prediction (ফুলের নাম):\", names[prediction][0])\n"
      ]
    },
    {
      "cell_type": "code",
      "execution_count": null,
      "metadata": {
        "cellView": "form",
        "id": "gjj2rhKAHV_t"
      },
      "outputs": [],
      "source": [
        "# @title \"Machine Learning Classification Example: Iris with Logistic Regression\"\n",
        "# import library function\n",
        "import pandas as pd                                                 # pandas (pd): টেবিল আকারে ডেটা ম্যানেজ করতে।\n",
        "from sklearn.datasets import load_iris                              # load_iris: Iris ডেটাসেট লোড করার জন্য।\n",
        "from sklearn.model_selection import train_test_split                # train_test_split: ডেটাকে train ও test সেটে ভাগ করার জন্য।\n",
        "from sklearn.linear_model import LogisticRegression                 # LogisticRegression: মেশিন লার্নিং মডেল।\n",
        "from sklearn.metrics import accuracy_score, classification_report   # accuracy_score, classification_report: মডেলের পারফরম্যান্স মাপার জন্য।\n",
        "\n",
        "# detasets load\n",
        "iris = load_iris()\n",
        "\n",
        "# Features (X) ও Target (y) বানানো\n",
        "X = pd.DataFrame(iris.data, columns=iris.feature_names)\n",
        "y = pd.Series(iris.target).map({0:'setosa', 1:'versicolor', 2:'virginica'})\n",
        "\n",
        "# ডেটা ভাগ করা (Train/Test Split)\n",
        "X_train, X_test, y_train, y_test = train_test_split(X, y, test_size=0.2, random_state=42)\n",
        "\n",
        "# মডেল তৈরি ও ট্রেনিং\n",
        "model = LogisticRegression(max_iter=200)\n",
        "model.fit(X_train, y_train)\n",
        "\n",
        "# Prediction (Test Data-তে ফলাফল বের করা)\n",
        "variable_name = model.predict(X_test)\n",
        "\n",
        "# Accuracy এবং Classification Report\n",
        "print(\"Accuracy:\", accuracy_score(y_test, variable_name))\n",
        "print(\"\\nClassification Report:\\n\", classification_report(y_test, variable_name))\n"
      ]
    },
    {
      "cell_type": "code",
      "execution_count": null,
      "metadata": {
        "id": "-PGHqH2wrfTS"
      },
      "outputs": [],
      "source": []
    },
    {
      "cell_type": "markdown",
      "metadata": {
        "id": "0TcxpkObBwOZ"
      },
      "source": [
        "### ### Visualization"
      ]
    },
    {
      "cell_type": "markdown",
      "metadata": {
        "id": "cOIjS0OWpUgY"
      },
      "source": [
        "#### ####pairplot for every singal feature"
      ]
    },
    {
      "cell_type": "code",
      "execution_count": null,
      "metadata": {
        "cellView": "form",
        "id": "P4EClW0pBz96"
      },
      "outputs": [],
      "source": [
        "# @title #pairplot for visualization\n",
        "# (একটা dataset-এর সব feature একে অপরের সাথে তুলনা করে scatterplot আকারে আঁকা।)\n",
        "# part-1: load data sets and import library function\n",
        "import pandas as pd\n",
        "from sklearn.datasets import load_iris\n",
        "import matplotlib.pyplot as plt\n",
        "import seaborn as sns\n",
        "iris = load_iris()\n",
        "\n",
        "# part-2: dataframe তৈরি\n",
        "df_x = pd.DataFrame(iris.data, columns=iris.feature_names)\n",
        "df_y = pd.Series(iris.target)\n",
        "# অথবা df_iris= x.copy()\n",
        "\n",
        "#  species নাম যোগ করা\n",
        "df_x['species'] =[iris.target_names[i] for i in df_y]\n",
        "\n",
        "# design part\n",
        "plt.figure(figsize=(10,8))\n",
        "sns.pairplot(df_x , hue = 'species' , palette = 'viridis')\n",
        "plt.suptitle('pairplot for iris datasets frature',fontsize =16, y=1.02)\n",
        "plt.show()"
      ]
    },
    {
      "cell_type": "code",
      "execution_count": null,
      "metadata": {
        "cellView": "form",
        "id": "8rJBcddumS9A"
      },
      "outputs": [],
      "source": [
        "# @title Default title text\n",
        "import pandas as pd\n",
        "from sklearn.datasets import load_iris\n",
        "import seaborn as sns\n",
        "import matplotlib.pyplot as plt\n",
        "from itertools import combinations\n",
        "\n",
        "# Load dataset\n",
        "iris = load_iris()\n",
        "df = pd.DataFrame(iris.data, columns=iris.feature_names)\n",
        "df['species'] = [iris.target_names[i] for i in iris.target]\n",
        "\n",
        "# সব feature এর pair তৈরি\n",
        "feature_pairs = list(combinations(iris.feature_names, 2))\n",
        "\n",
        "# প্রতিটি pair এর জন্য scatterplot\n",
        "for x_feat, y_feat in feature_pairs:\n",
        "    plt.figure(figsize=(6,4))\n",
        "    sns.scatterplot(data=df, x=x_feat, y=y_feat, hue='species', palette='viridis', s=60)\n",
        "    plt.title(f'{y_feat} vs {x_feat} by Species')\n",
        "    plt.xlabel(x_feat)\n",
        "    plt.ylabel(y_feat)\n",
        "    plt.legend(title='Species')\n",
        "    plt.tight_layout()\n",
        "    plt.show()\n"
      ]
    },
    {
      "cell_type": "code",
      "execution_count": null,
      "metadata": {
        "cellView": "form",
        "id": "N1ugnVeBpcdV"
      },
      "outputs": [],
      "source": [
        "# @title pairplot for sepal length vs sepal length"
      ]
    },
    {
      "cell_type": "code",
      "execution_count": null,
      "metadata": {
        "cellView": "form",
        "id": "l5mPSdQ4pcgu"
      },
      "outputs": [],
      "source": [
        "# @title pairplot for sepal length vs sepal width"
      ]
    },
    {
      "cell_type": "code",
      "execution_count": null,
      "metadata": {
        "cellView": "form",
        "id": "88W0OXiRpcZ8"
      },
      "outputs": [],
      "source": [
        "# @title pairplot for sepal length vs petal length"
      ]
    },
    {
      "cell_type": "code",
      "execution_count": null,
      "metadata": {
        "cellView": "form",
        "id": "vWdZjOyNpcWS"
      },
      "outputs": [],
      "source": [
        "# @title pairplot for sepal length vs petal width"
      ]
    },
    {
      "cell_type": "code",
      "execution_count": null,
      "metadata": {
        "cellView": "form",
        "id": "SbJAoOp1pcCU"
      },
      "outputs": [],
      "source": [
        "# @title pairplot for sepal length vs sepal length"
      ]
    },
    {
      "cell_type": "code",
      "execution_count": null,
      "metadata": {
        "id": "4bhsLEcFpb4s"
      },
      "outputs": [],
      "source": []
    },
    {
      "cell_type": "code",
      "execution_count": null,
      "metadata": {
        "id": "rzGnTid9pbwM"
      },
      "outputs": [],
      "source": []
    },
    {
      "cell_type": "code",
      "execution_count": null,
      "metadata": {
        "id": "zi5JM7yKpbNE"
      },
      "outputs": [],
      "source": []
    },
    {
      "cell_type": "markdown",
      "metadata": {
        "id": "NPgYPNMRlkAC"
      },
      "source": [
        "#### ####Histogram by every feature"
      ]
    },
    {
      "cell_type": "code",
      "execution_count": null,
      "metadata": {
        "cellView": "form",
        "id": "NMORS8xjB0Pr"
      },
      "outputs": [],
      "source": [
        "# @title #Histogram of Sepal Length by Species (01)\n",
        "import seaborn as sns\n",
        "import matplotlib.pyplot as plt\n",
        "from sklearn.datasets import load_iris\n",
        "import pandas as pd\n",
        "\n",
        "# Iris dataset load\n",
        "iris = load_iris()\n",
        "df = pd.DataFrame(iris.data, columns=iris.feature_names)\n",
        "df[\"species\"] = pd.Series(iris.target).map({i:name for i, name in enumerate(iris.target_names)})\n",
        "\n",
        "# others way\n",
        "#df_x = pd.DataFrame(iris.data, columns=iris.feature_names)\n",
        "#df_y =pd.Series(iris.target)\n",
        "#df_x['species'] = df_y.map({i:name for i, name in enumerate(iris.target_names)})\n",
        "\n",
        "# Histplot with hue\n",
        "plt.figure(figsize=(8,6))\n",
        "sns.histplot(data=df, x=\"sepal length (cm)\", hue=\"species\", bins=15, kde=True, palette=\"viridis\")\n",
        "plt.title(\"Histogram of Sepal Length by Species\")\n",
        "plt.xlabel(\"Sepal Length (cm)\")\n",
        "plt.ylabel(\"Frequency\")\n",
        "plt.show()\n"
      ]
    },
    {
      "cell_type": "code",
      "execution_count": null,
      "metadata": {
        "cellView": "form",
        "id": "TDcjvol7Y_q4"
      },
      "outputs": [],
      "source": [
        "# @title #Histogram of Sepal width by Species (02)\n",
        "# =======================================================logical_part============================================\n",
        "# step-1:import all library function\n",
        "import pandas as pd\n",
        "import seaborn as sns\n",
        "import matplotlib.pyplot as plt\n",
        "from sklearn.datasets import load_iris\n",
        "\n",
        "# step-2: load data sets\n",
        "iris = load_iris()\n",
        "\n",
        "# step-3: creat DataFrame\n",
        "df = pd.DataFrame(iris.data, columns = iris.feature_names)\n",
        "df['species'] = pd.Series(iris.target).map({i:name for i, name in enumerate(iris.target_names)})\n",
        "\n",
        "# ================================================================Design part===================================\n",
        "plt.figure(figsize=(8,6))\n",
        "sns.histplot(data=df, x='sepal width (cm)', hue='species', bins=15, kde =True, palette='viridis'  )\n",
        "plt.title('Histogram of sepal width by Species')\n",
        "plt.xlabel('sepal width (cm)')\n",
        "plt.ylabel('frequency')\n",
        "plt.tight_layout()\n",
        "plt.show()\n"
      ]
    },
    {
      "cell_type": "code",
      "execution_count": null,
      "metadata": {
        "cellView": "form",
        "id": "68I0aRQRY_lJ"
      },
      "outputs": [],
      "source": [
        "# @title #Histogram of petal Length by Species (03)\n",
        "#==============================================================Logical_part============================================\n",
        "# step-1:import all library function\n",
        "import pandas as pd\n",
        "import seaborn as sns\n",
        "import matplotlib.pyplot as plt\n",
        "from sklearn.datasets import load_iris\n",
        "\n",
        "# step-2: loat data sets\n",
        "iris = load_iris()\n",
        "\n",
        "# step-3: creat DataFrame\n",
        "df = pd.DataFrame(iris.data, columns = iris.feature_names)\n",
        "df['species']= pd.Series(iris.target).map({i:name for i, name in enumerate(iris.target_names)})\n",
        "\n",
        "#==============================================================Design_part=================================================\n",
        "plt.figure(figsize=(8,6))\n",
        "sns.histplot(data=df, x='petal length (cm)', hue='species', bins=15, kde=True, palette='viridis')\n",
        "plt.title('Histogram of petal length by Species')\n",
        "plt.xlabel('petal length (cm)')\n",
        "plt.ylabel('frequency')\n",
        "plt.tight_layout()\n",
        "plt.show()"
      ]
    },
    {
      "cell_type": "code",
      "execution_count": null,
      "metadata": {
        "cellView": "form",
        "id": "Sll73AkDY_gJ"
      },
      "outputs": [],
      "source": [
        "# @title #Histogram of petal width by Species (04)\n",
        "#========================================================Logical_Part================================================\n",
        "# step-1:import all library functions\n",
        "import pandas as pd\n",
        "import seaborn as sns\n",
        "import matplotlib.pyplot as plt\n",
        "from sklearn.datasets import load_iris\n",
        "\n",
        "# step-2: load data sets\n",
        "iris = load_iris()\n",
        "\n",
        "# step-3: creat DataFrame\n",
        "df = pd.DataFrame(iris.data, columns = iris.feature_names)\n",
        "df['species'] =pd.Series(iris.target).map({i:name for i, name in enumerate(iris.target_names)})\n",
        "\n",
        "#=========================================================Design_Part================================================\n",
        "plt.figure(figsize=(8,6))\n",
        "sns.histplot(data=df, x='petal width (cm)', hue='species', bins=15, kde=True, palette='viridis')\n",
        "plt.title('Histogram of petal width by Species')\n",
        "plt.xlabel('pelat width (cm)')\n",
        "plt.ylabel('frequency')\n",
        "plt.tight_layout\n",
        "plt.show()\n",
        "\n",
        "\n",
        "\n"
      ]
    },
    {
      "cell_type": "code",
      "execution_count": null,
      "metadata": {
        "cellView": "form",
        "id": "PofnJDT9JC6c"
      },
      "outputs": [],
      "source": [
        "# @title # Histograms for each feature (002)\n",
        "# logical part\n",
        "# step-1: load data sets and import library function\n",
        "import pandas as pd\n",
        "from sklearn.datasets import load_iris\n",
        "import matplotlib.pyplot as plt\n",
        "import seaborn as sns\n",
        "\n",
        "iris = load_iris()\n",
        "\n",
        "# step-2: dataframe তৈরি\n",
        "df_x = pd.DataFrame(iris.data, columns=iris.feature_names)\n",
        "df_x[\"species\"] = pd.Series(iris.target).map({i: name for i, name in enumerate(iris.target_names)})\n",
        "\n",
        "# design part\n",
        "plt.figure(figsize=(15, 10))\n",
        "for i, feature in enumerate(iris.feature_names):\n",
        "    plt.subplot(2, 2, i + 1)\n",
        "    sns.histplot(data=df_x, x=feature, kde=True, hue=\"species\", palette=\"viridis\", alpha=0.6)\n",
        "    plt.title(f\"Distribution of {feature}\")\n",
        "\n",
        "plt.tight_layout()\n",
        "plt.show()\n"
      ]
    },
    {
      "cell_type": "code",
      "execution_count": null,
      "metadata": {
        "cellView": "form",
        "id": "dPj4DV95B0XD"
      },
      "outputs": [],
      "source": [
        "# @title # Histograms for each feature (001)\n",
        "# part-1: load data sets and import library function\n",
        "import pandas as pd\n",
        "from sklearn.datasets import load_iris\n",
        "import matplotlib.pyplot as plt\n",
        "import seaborn as sns\n",
        "iris = load_iris()\n",
        "\n",
        "# part-2: dataframe তৈরি\n",
        "df_x = pd.DataFrame(iris.data, columns=iris.feature_names)\n",
        "\n",
        "\n",
        "plt.figure(figsize=(15, 10))\n",
        "for i, feature in enumerate(iris.feature_names):\n",
        "    plt.subplot(2, 2, i + 1)\n",
        "    sns.histplot(df_x[feature], kde=True,  color=\"#003B35\" )\n",
        "    plt.title(f\"Distribution of {feature}\")\n",
        "plt.tight_layout()\n",
        "plt.show()\n"
      ]
    },
    {
      "cell_type": "code",
      "execution_count": null,
      "metadata": {
        "id": "gX_VdRZ_HdOg"
      },
      "outputs": [],
      "source": []
    },
    {
      "cell_type": "code",
      "execution_count": null,
      "metadata": {
        "id": "HgUNdtmGHdLI"
      },
      "outputs": [],
      "source": []
    },
    {
      "cell_type": "markdown",
      "metadata": {
        "id": "TP0b76b_ofB4"
      },
      "source": [
        "#### ####box plot for every  singal feature"
      ]
    },
    {
      "cell_type": "code",
      "execution_count": null,
      "metadata": {
        "cellView": "form",
        "id": "KEd4Y8gzHdR5"
      },
      "outputs": [],
      "source": [
        " # @title # Box plots for each feature by species\n",
        " # part-1: load data sets and import library function\n",
        "import pandas as pd\n",
        "from sklearn.datasets import load_iris\n",
        "import matplotlib.pyplot as plt\n",
        "import seaborn as sns\n",
        "\n",
        "iris = load_iris()\n",
        "\n",
        "# part-2: dataframe তৈরি\n",
        "df_x = pd.DataFrame(iris.data, columns=iris.feature_names)\n",
        "df_y = pd.Series(iris.target, name=\"species\")\n",
        "\n",
        "# species(প্রজাতি) নাম যোগ করা\n",
        "df_x[\"species\"] = df_y.map({i: name for i, name in enumerate(iris.target_names)})\n",
        "\n",
        "plt.figure(figsize=(15, 10))\n",
        "\n",
        "for i, feature in enumerate(iris.feature_names):\n",
        "    plt.subplot(2, 2, i + 1)\n",
        "    sns.boxplot(x=\"species\", y=feature, data=df_x, palette=\"viridis\")\n",
        "    plt.title(f\"Box Plot of {feature} by Species\")\n",
        "\n",
        "plt.tight_layout()\n",
        "plt.show()\n",
        "\n",
        "\n",
        "\n"
      ]
    },
    {
      "cell_type": "code",
      "execution_count": null,
      "metadata": {
        "cellView": "form",
        "id": "Vj2Cs4Njosye"
      },
      "outputs": [],
      "source": [
        "# @title Box Plot of Sepal Length by Species\n",
        "#===================================================Logical_Part=======================================\n",
        "# step-1:import all library functions\n",
        "import pandas as pd\n",
        "from sklearn.datasets import load_iris\n",
        "import matplotlib.pyplot as plt\n",
        "import seaborn as sns\n",
        "\n",
        "# step-2:load data sets\n",
        "iris = load_iris()\n",
        "\n",
        "# step-3: creat DataFrame\n",
        "df_x = pd.DataFrame(iris.data, columns=iris.feature_names)\n",
        "df_y = pd.Series(iris.target, name='species')\n",
        "\n",
        "# species নাম যোগ\n",
        "df_x['species']=df_y.map({i:name for i, name in enumerate(iris.target_names)})\n",
        "\n",
        "#===================================Design_Part==========================================\n",
        "plt.figure(figsize=(8,6))\n",
        "sns.boxplot(x='species', y='sepal length (cm)', data=df_x, palette='viridis')\n",
        "plt.title('Box plot for sepal length by Species')\n",
        "plt.show()\n",
        "\n"
      ]
    },
    {
      "cell_type": "code",
      "execution_count": null,
      "metadata": {
        "cellView": "form",
        "id": "sikoKw6NtFWH"
      },
      "outputs": [],
      "source": [
        "# @title Box Plot of Sepal Width by Species\n",
        "#============================================logical_Part=====================================\n",
        "# step-1: import require library function\n",
        "import pandas as pd\n",
        "from sklearn.datasets import load_iris\n",
        "\n",
        "# step-2: load data sets\n",
        "iris = load_iris()\n",
        "\n",
        "# step-3: creat DataFrame\n",
        "df_x = pd.DataFrame(iris.data, columns=iris.feature_names)\n",
        "df_y = pd.Series(iris.target, name='Species')\n",
        "\n",
        "# step-4: species নাম যোগ\n",
        "df_x['species'] = df_y.map({i:name for i, name in enumerate(iris.target_names)})\n",
        "\n",
        "#============================================Design_Part======================================\n",
        "\n",
        "# step-1: import require library functions\n",
        "import matplotlib.pyplot as plt\n",
        "import seaborn as sns\n",
        "plt.figure(figsize=(6,4))\n",
        "sns.boxplot(x='species', y='sepal width (cm)', data=df_x, palette='viridis')\n",
        "plt.title('Box plot for sepal width by Species')\n",
        "plt.show()\n",
        "\n"
      ]
    },
    {
      "cell_type": "code",
      "execution_count": null,
      "metadata": {
        "cellView": "form",
        "id": "kT2A1-H4otle"
      },
      "outputs": [],
      "source": [
        "# @title Box Plot of Petal Length by Species\n"
      ]
    },
    {
      "cell_type": "code",
      "execution_count": null,
      "metadata": {
        "cellView": "form",
        "id": "vo0vY3CCotgG"
      },
      "outputs": [],
      "source": [
        "# @title Box Plot of Petal Width by Species\n"
      ]
    },
    {
      "cell_type": "code",
      "execution_count": null,
      "metadata": {
        "id": "gYHXTb_5otYO"
      },
      "outputs": [],
      "source": []
    },
    {
      "cell_type": "code",
      "execution_count": null,
      "metadata": {
        "id": "IHnnk11xvSZI"
      },
      "outputs": [],
      "source": []
    },
    {
      "cell_type": "markdown",
      "metadata": {
        "id": "-i9ZGWmIvUs5"
      },
      "source": [
        "## ##class-10"
      ]
    },
    {
      "cell_type": "code",
      "execution_count": null,
      "metadata": {
        "id": "KRpP7sGavYer"
      },
      "outputs": [],
      "source": []
    },
    {
      "cell_type": "code",
      "execution_count": null,
      "metadata": {
        "id": "of9hA52UvY5T"
      },
      "outputs": [],
      "source": []
    },
    {
      "cell_type": "markdown",
      "metadata": {
        "id": "VFpdwPBTvdzV"
      },
      "source": [
        "## ##Class-11"
      ]
    },
    {
      "cell_type": "code",
      "execution_count": null,
      "metadata": {
        "id": "yH41ofVPvgK3"
      },
      "outputs": [],
      "source": []
    },
    {
      "cell_type": "markdown",
      "metadata": {
        "id": "ELbqD39PvhRv"
      },
      "source": [
        "## ##Class-12"
      ]
    },
    {
      "cell_type": "code",
      "execution_count": null,
      "metadata": {
        "id": "CiVaFFsNvkTh"
      },
      "outputs": [],
      "source": []
    },
    {
      "cell_type": "code",
      "execution_count": null,
      "metadata": {
        "id": "fQeDQt3bvkuR"
      },
      "outputs": [],
      "source": []
    },
    {
      "cell_type": "code",
      "execution_count": null,
      "metadata": {
        "id": "xdzSx4yevkq5"
      },
      "outputs": [],
      "source": []
    },
    {
      "cell_type": "markdown",
      "metadata": {
        "id": "OIqytZiHvA6Y"
      },
      "source": [
        "# #Cheapter No-4"
      ]
    },
    {
      "cell_type": "markdown",
      "metadata": {
        "id": "vzN1xqKKvmwb"
      },
      "source": [
        "## ##Class-13"
      ]
    },
    {
      "cell_type": "code",
      "execution_count": null,
      "metadata": {
        "id": "bLnG_okRvr90"
      },
      "outputs": [],
      "source": []
    },
    {
      "cell_type": "code",
      "execution_count": null,
      "metadata": {
        "id": "zAJdaMj6vODe"
      },
      "outputs": [],
      "source": []
    },
    {
      "cell_type": "code",
      "execution_count": null,
      "metadata": {
        "id": "Lv_6xm7lvN_m"
      },
      "outputs": [],
      "source": []
    },
    {
      "cell_type": "code",
      "execution_count": null,
      "metadata": {
        "id": "8uP3HMz4vN8m"
      },
      "outputs": [],
      "source": []
    },
    {
      "cell_type": "code",
      "execution_count": null,
      "metadata": {
        "id": "f-0Eg-9vvNxG"
      },
      "outputs": [],
      "source": []
    },
    {
      "cell_type": "markdown",
      "metadata": {
        "id": "xeJpFzwevsxs"
      },
      "source": [
        "## ##Class-14"
      ]
    },
    {
      "cell_type": "code",
      "execution_count": null,
      "metadata": {
        "id": "SgfVp4kzvvWW"
      },
      "outputs": [],
      "source": []
    },
    {
      "cell_type": "code",
      "execution_count": null,
      "metadata": {
        "id": "YGdcyUCrvvpO"
      },
      "outputs": [],
      "source": []
    },
    {
      "cell_type": "code",
      "execution_count": null,
      "metadata": {
        "id": "4AReQ70kvvZW"
      },
      "outputs": [],
      "source": []
    },
    {
      "cell_type": "markdown",
      "metadata": {
        "id": "k8dJCK0Svwy2"
      },
      "source": [
        "## ##class-15"
      ]
    },
    {
      "cell_type": "code",
      "execution_count": null,
      "metadata": {
        "cellView": "form",
        "id": "VeycJdtuvzKw"
      },
      "outputs": [],
      "source": [
        "# @title Data Description\n",
        "1. age: The person's age in years\n",
        "\n",
        "2. sex: The person's sex (1 = male, 0 = female)\n",
        "\n",
        "3. cp: Chest pain type * 0: Typical angina: chest pain related decrease blood supply to the heart * 1: Atypical angina: chest pain not related to heart * 2: Non-anginal pain: typically esophageal spasms (non heart related) * 3: Asymptomatic: chest pain not showing signs of disease\n",
        "\n",
        "4. trestbps: resting blood pressure (in mm Hg on admission to the hospital)\n",
        "\n",
        "5. chol: The person's cholesterol measurement in mg/dl\n",
        "\n",
        "6. fbs: the perdon's fasting blood sugar > 120 mg/dl. (1 = true; 0 = false)\n",
        "\n",
        "7. restecg: Resting electrocardiographic results\n",
        "\n",
        " 0: Nothing to note\n",
        " 1: ST-T Wave abnormality\n",
        "    * can range from mild symptoms to severe problems\n",
        "    * signals non-normal heart beat\n",
        " 2: Possible or definite left ventricular hypertrophy\n",
        "    * Enlarged heart's main pumping chamber\n",
        "8. thalach: Maximum heart rate achieved\n",
        "\n",
        "9. exang: Exercise induced angina (1 = yes; 0 = no)\n",
        "\n",
        "10. oldpeak: - ST depression induced by exercise relative to rest looks at stress of heart during excercise unhealthy heart will stress more\n",
        "\n",
        "11. slope: - the slope of the peak exercise ST segment * 0: Upsloping: better heart rate with excercise (uncommon) * 1: Flatsloping: minimal change (typical healthy heart) * 2: Downslopins: signs of unhealthy heart\n",
        "\n",
        "12. ca: Number of major vessels (0-3) colored by flourosopy * colored vessel means the doctor can see the blood passing through * the more blood movement the better (no clots)\n",
        "\n",
        "13. thal: Thalium stress result * 1,3: normal * 6: fixed defect: used to be defect but ok now * 7: reversable defect: no proper blood movement when excercising\n",
        "\n",
        "14. target: Person have disease or not (1=yes, 0=no) (= the predicted attribute)"
      ]
    },
    {
      "cell_type": "code",
      "execution_count": null,
      "metadata": {
        "cellView": "form",
        "id": "rbrN3wYmvy2H"
      },
      "outputs": [],
      "source": [
        "# @title Heart disease analysis ( হৃদরোগ বিশ্লেষণ )\n",
        "# step-1:import require library function\n",
        "import numpy as np\n",
        "import pandas as pd\n",
        "import matplotlib.pyplot as plt\n",
        "import seaborn as sns\n",
        "from pandas.plotting import scatter_matrix\n",
        "\n",
        "# step-2: load DataFrame\n",
        "#df=pd.read_csv('https://docs.google.com/spreadsheets/d/e/2PACX-1vSCQjmHcioIMvwfBzBDw5CTNgAs5GXXZAYNQCNeMAyZ-9qHvlCkTI5jxDgiInfQ3er6AgEb1LAz_nsU/pub?gid=1478670491&single=true&output=csv')\n",
        "df=pd.read_csv('https://docs.google.com/spreadsheets/d/e/2PACX-1vSCQjmHcioIMvwfBzBDw5CTNgAs5GXXZAYNQCNeMAyZ-9qHvlCkTI5jxDgiInfQ3er6AgEb1LAz_nsU/pub?gid=1478670491&single=true&output=csv')\n",
        "display(df)\n",
        "\n",
        "\n"
      ]
    },
    {
      "cell_type": "markdown",
      "metadata": {
        "id": "ylpb-YDOdfiV"
      },
      "source": [
        "### Data Description"
      ]
    },
    {
      "cell_type": "code",
      "execution_count": null,
      "metadata": {
        "cellView": "form",
        "id": "7UMY7J0ac5eT"
      },
      "outputs": [],
      "source": [
        "# @title Default title text\n",
        "df.describe()"
      ]
    },
    {
      "cell_type": "code",
      "execution_count": null,
      "metadata": {
        "cellView": "form",
        "id": "05iZ2Qx7c3Oa"
      },
      "outputs": [],
      "source": [
        "# @title Default title text\n",
        "df.shape"
      ]
    },
    {
      "cell_type": "code",
      "execution_count": null,
      "metadata": {
        "cellView": "form",
        "id": "Rb_JdoqnvzHb"
      },
      "outputs": [],
      "source": [
        "# @title Default title text\n",
        "\n",
        "print('Data sum of NULL Values')\n",
        "df.isnull().sum()"
      ]
    },
    {
      "cell_type": "markdown",
      "metadata": {
        "id": "4jAi7xf1drJz"
      },
      "source": [
        "###  Data Visulation"
      ]
    },
    {
      "cell_type": "code",
      "execution_count": null,
      "metadata": {
        "cellView": "form",
        "id": "zYRuA0ChvzEH"
      },
      "outputs": [],
      "source": [
        "# @title Default title text\n",
        "plt.figure(figsize=(10,6))\n",
        "sns.set(style='whitegrid')\n",
        "df.target.value_counts().plot(kind='bar',color=['red','green'])\n",
        "plt.title('Disease vs non-Disesase parson')\n",
        "plt.xlabel('sex(0=female, 1=male)')\n",
        "plt.ylabel('count')\n",
        "\n"
      ]
    },
    {
      "cell_type": "markdown",
      "metadata": {
        "id": "mgmgjH7Agyzg"
      },
      "source": [
        "### Percentage of patients"
      ]
    },
    {
      "cell_type": "code",
      "execution_count": null,
      "metadata": {
        "cellView": "form",
        "id": "Y2ADIhMCg0y5"
      },
      "outputs": [],
      "source": [
        "# @title parcentage of female  and male\n",
        "parcentage of male\n",
        "import numpy as np\n",
        "import pandas as pd\n",
        "df=pd.read_csv('https://docs.google.com/spreadsheets/d/e/2PACX-1vSCQjmHcioIMvwfBzBDw5CTNgAs5GXXZAYNQCNeMAyZ-9qHvlCkTI5jxDgiInfQ3er6AgEb1LAz_nsU/pub?gid=1478670491&single=true&output=csv')\n",
        "\n",
        "\n",
        "count_female=len(df[df.sex==0])\n",
        "count_male=len(df[df.sex==1])\n",
        "print('parcentage of female patients:{:.2f}%'.format((count_female / (len(df.sex))*100)))\n",
        "print('parcentage of male patients:{:.2f}%'. format((count_male / (len(df.sex))*100)))"
      ]
    },
    {
      "cell_type": "markdown",
      "metadata": {
        "id": "LvacOPTZkGNy"
      },
      "source": [
        "### mean, median & max value of all coulmn"
      ]
    },
    {
      "cell_type": "code",
      "execution_count": null,
      "metadata": {
        "cellView": "form",
        "id": "i3Zm0_2Tcqks"
      },
      "outputs": [],
      "source": [
        "# @title  mean, median and max\n",
        "mean = df.mean()\n",
        "print(f' mean is:\\n{mean}\\n')\n",
        "median = df.median()\n",
        "print(f'median is :\\n{median}\\n')\n",
        "max = df.max()\n",
        "print(f'max is :\\n{max}\\n')\n",
        "df.groupby('target').mean()\n",
        "df.groupby('target').median()\n",
        "df.groupby('target').max()\n",
        "df.groupby('sex').mean()\n",
        "df.groupby('age').max()"
      ]
    },
    {
      "cell_type": "code",
      "execution_count": null,
      "metadata": {
        "id": "Ed84uis7cqTE"
      },
      "outputs": [],
      "source": []
    },
    {
      "cell_type": "markdown",
      "metadata": {
        "id": "vIbk2WNbnbJ2"
      },
      "source": [
        "###  Making a Heatmap"
      ]
    },
    {
      "cell_type": "code",
      "execution_count": null,
      "metadata": {
        "cellView": "form",
        "id": "OHtL_WpacqKb"
      },
      "outputs": [],
      "source": [
        "# @title Correlation Matrix Heatmap-\n",
        "# step-1: import require library functions\n",
        "import numpy as np\n",
        "import pandas as pd\n",
        "import matplotlib.pyplot as plt\n",
        "import seaborn as sns\n",
        "# step-2:load DataFrame\n",
        "df=pd.read_csv('https://docs.google.com/spreadsheets/d/e/2PACX-1vSCQjmHcioIMvwfBzBDw5CTNgAs5GXXZAYNQCNeMAyZ-9qHvlCkTI5jxDgiInfQ3er6AgEb1LAz_nsU/pub?gid=1478670491&single=true&output=csv')\n",
        "\n",
        "'''\n",
        "# step-3: headmap\n",
        "corr_matrix = df.corr()\n",
        "fig, ax = plt.subplots(figsize=(20, 15))\n",
        "ax = sns.heatmap(corr_matrix,\n",
        "                 annot=True,\n",
        "                 fmt=\".2f\",\n",
        "                 cmap=\"inferno\"); #bone cmap type\n",
        "plt.title('Heatmap for the Dataset', fontsize = 20)\n",
        "bottom, top = ax.get_ylim()\n",
        "sns.set(font_scale=1.4)\n",
        "# ax.set_ylim(bottom + 0.5, top - 0.5)\n",
        "#plt.savefig('Heatmap.pdf')\n",
        "'''\n",
        "# step-3: Creat  Heatmap\n",
        "corr_matrix = df.corr()\n",
        "plt.figure(figsize=(20,15))\n",
        "colormap = sns.heatmap(corr_matrix,\n",
        "            annot= True,\n",
        "            fmt='.2f',\n",
        "            cmap='inferno',\n",
        "            linecolor='white',\n",
        "            linewidth=0,\n",
        "            cbar_kws = {'label':'colorbar'})\n",
        "plt.title('Heatmap for the Datasets', color='blue', fontsize=20)\n",
        "plt.xlabel('X-axis', color ='blue', fontsize=15)\n",
        "plt.ylabel('Y-axis', color ='blue', fontsize=15)\n",
        "# Seaborn's font size is being made a little larger (to clearly display the heatmap numbers).\n",
        "bottom, top = colormap.get_ylim()\n",
        "sns.set(font_scale=1.5)\n",
        "# এটা অনেক সময় heatmap এর y-axis ঠিক করার জন্য ব্যবহার করা হয় (কারণ কখনো কখনো seaborn heatmap এ row alignment mismatch হয়ে যায়)।\n",
        "# ax.set_ylim(bottom + 0.5, top - 0.5)\n",
        "# এই লাইন চালালে তোমার heatmap (Heatmap.pdf) নামে ফাইলে সেভ হয়ে যাবে।\n",
        "plt.savefig('Heatmap.pdf')"
      ]
    },
    {
      "cell_type": "code",
      "execution_count": null,
      "metadata": {
        "cellView": "form",
        "id": "0ca1YvxNcqH9"
      },
      "outputs": [],
      "source": [
        "\n",
        "# @title Correlation Matrix Heatmap---advanced version\n",
        "# step-1:import require library functions\n",
        "import numpy as np\n",
        "import pandas as pd\n",
        "import seaborn as sns\n",
        "import matplotlib.pyplot as plt\n",
        "\n",
        "import matplotlib as mpl\n",
        "from matplotlib.pyplot import cm\n",
        "\n",
        "# step-2: DataFrame load\n",
        "df=pd.read_csv('https://docs.google.com/spreadsheets/d/e/2PACX-1vSCQjmHcioIMvwfBzBDw5CTNgAs5GXXZAYNQCNeMAyZ-9qHvlCkTI5jxDgiInfQ3er6AgEb1LAz_nsU/pub?gid=1478670491&single=true&output=csv')\n",
        "\n",
        "# step-3:heatmap/comormap\n",
        "corr_matrix=df.corr()\n",
        "#   শুধু numeric columns নেবে\n",
        "# corr_matrix = df.corr(numeric_only=True)\n",
        "colormap = sns.clustermap(corr_matrix,\n",
        "                       annot = True,\n",
        "                       fmt ='.2f',\n",
        "                       cmap='inferno',\n",
        "                       figsize=(20,15),\n",
        "                       cbar_kws={'label':'colorbar'})\n",
        "plt.setp(colormap.ax_heatmap.yaxis.get_majorticklabels(), rotation=0)\n",
        "#plt.title ('Correlation Matrix Heatmap advanced version', color='blue', fontsize=16)\n",
        "plt.xlabel('x_axis', color='blue', fontsize=16)\n",
        "plt.ylabel('y_axis', color='blue', fontsize=16)\n",
        "\n",
        "# Set the default text font size\n",
        "plt.rc('font', size=20)\n",
        "\n",
        "# sns.set(font_scale=1.4)\n",
        "# plt.savefig('Heatmap2.png', bbox_inches = \"tight\")\n",
        "plt.savefig('Heatmap.png', format='png', dpi=800)\n",
        "plt.savefig('heatmap001.pdf')\n",
        "plt.show()\n",
        "\n",
        "\n",
        "\n",
        "# xtick and y_tick\n",
        "#plt.xticks(fontsize=16)\n",
        "#plt.yticks(fontsize=16)\n",
        "\n",
        "# # Set the axes title font size\n",
        "#plt.rc('axes', titlesize=29)\n",
        "\n",
        "#setting up X-axis tick color to red\n",
        "#ax.tick_params(axis='x', colors='red')\n",
        "#ax.tick_params(axis='y', colors='black')\n",
        "\n",
        "# # Set the axes title font size\n",
        "# plt.rc('axes', titlesize=29)\n",
        "# # Set the axes labels font size\n",
        "# plt.rc('axes', labelsize=46)\n",
        "\n",
        "# Set the legend font size\n",
        "# plt.rc('legend', fontsize=48)\n",
        "# Set the font size of the figure title\n",
        "# plt.rc('figure', titlesize=20)"
      ]
    },
    {
      "cell_type": "code",
      "execution_count": null,
      "metadata": {
        "cellView": "form",
        "id": "vM-fYSNdcqFc"
      },
      "outputs": [],
      "source": [
        "# @title Correlation Matrix pairplot\n",
        "# step-1: import require library functions\n",
        "import numpy as np\n",
        "import pandas as pd\n",
        "import matplotlib.pyplot as plt\n",
        "import seaborn as sns\n",
        "\n",
        "# step-2: Load DataFrame\n",
        "df = pd.read_csv('https://docs.google.com/spreadsheets/d/e/2PACX-1vSCQjmHcioIMvwfBzBDw5CTNgAs5GXXZAYNQCNeMAyZ-9qHvlCkTI5jxDgiInfQ3er6AgEb1LAz_nsU/pub?gid=1478670491&single=true&output=csv')\n",
        "\n",
        "# step-3: Creat a  Pairplot\n",
        "corr_matrix = df.corr(numeric_only=True)\n",
        "sns.pairplot(df)\n",
        "plt.show()\n",
        "plt.savefig('pairplot.pdf')\n",
        "plt.savefig('pairplot.png', format='png', dpi=1200)"
      ]
    },
    {
      "cell_type": "code",
      "execution_count": null,
      "metadata": {
        "cellView": "form",
        "id": "m7GXLbedcqAE"
      },
      "outputs": [],
      "source": [
        "# @title Correlation Matrix Histogram\n",
        "# step-1: import require library functions\n",
        "import numpy as np\n",
        "import pandas as pd\n",
        "import matplotlib.pyplot as plt\n",
        "import seaborn as sns\n",
        "\n",
        "# load DataFrame\n",
        "df = pd.read_csv('https://docs.google.com/spreadsheets/d/e/2PACX-1vSCQjmHcioIMvwfBzBDw5CTNgAs5GXXZAYNQCNeMAyZ-9qHvlCkTI5jxDgiInfQ3er6AgEb1LAz_nsU/pub?gid=1478670491&single=true&output=csv')\n",
        "\n",
        "# creat histogram\n",
        "df.hist(figsize=(18,12), layout=(4,4), bins=10)\n",
        "plt.savefig('histogram.pdf')"
      ]
    },
    {
      "cell_type": "markdown",
      "metadata": {
        "id": "_K9ellNWnixU"
      },
      "source": [
        "### Analysis using Age"
      ]
    },
    {
      "cell_type": "code",
      "execution_count": null,
      "metadata": {
        "cellView": "form",
        "id": "zxttCaUycp6l"
      },
      "outputs": [],
      "source": [
        "# @title Heart Disease Frequency for Ages\n",
        "# step-1: import require library functions\n",
        "import numpy as np\n",
        "import pandas as pd\n",
        "import matplotlib.pyplot as plt\n",
        "import seaborn as sns\n",
        "\n",
        "# step-2: load DataFrame\n",
        "df=pd.read_csv('https://docs.google.com/spreadsheets/d/e/2PACX-1vSCQjmHcioIMvwfBzBDw5CTNgAs5GXXZAYNQCNeMAyZ-9qHvlCkTI5jxDgiInfQ3er6AgEb1LAz_nsU/pub?gid=1478670491&single=true&output=csv')\n",
        "\n",
        "# step-3:\n",
        "pd.crosstab(df.age, df.target).plot(kind='bar', figsize=(16,6), color=['blue', 'yellow'])\n",
        "plt.title('Heart Disease Frequency for Ages', color='black', fontsize=30)\n",
        "plt.xlabel('Age',color='black', fontsize=25, fontname='Times New Roman')\n",
        "plt.ylabel('Frequency', fontsize=25, color='black', fontname='Times New Roman')\n",
        "plt.grid(False)\n",
        "\n",
        "#plt.xticks(size=50)\n",
        "plt.savefig('Heart Disease Frequency for Ages.pdf')\n",
        "plt.savefig('Heart Disease Frequency for Ages.png')\n"
      ]
    },
    {
      "cell_type": "code",
      "execution_count": null,
      "metadata": {
        "cellView": "form",
        "id": "UL3uFTubcp3k"
      },
      "outputs": [],
      "source": [
        "# @title  find min,max and mean ages\n",
        "import numpy as np\n",
        "import pandas as pd\n",
        "\n",
        "df=pd.read_csv('https://docs.google.com/spreadsheets/d/e/2PACX-1vSCQjmHcioIMvwfBzBDw5CTNgAs5GXXZAYNQCNeMAyZ-9qHvlCkTI5jxDgiInfQ3er6AgEb1LAz_nsU/pub?gid=1478670491&single=true&output=csv')\n",
        "\n",
        "minage=df.age.min()\n",
        "maxage=df.age.max()\n",
        "meanage=df.age.mean()\n",
        "\n",
        "print(f'min age is :{minage}')\n",
        "print(f'max age is:{maxage}')\n",
        "print(f'mean age is:{meanage}')\n",
        "\n"
      ]
    },
    {
      "cell_type": "code",
      "execution_count": null,
      "metadata": {
        "cellView": "form",
        "id": "haokc5Y7cpzm"
      },
      "outputs": [],
      "source": [
        "# @title Younger, Middle and Elderly ages\n",
        "import numpy as np\n",
        "import pandas as pd\n",
        "\n",
        "df=pd.read_csv('https://docs.google.com/spreadsheets/d/e/2PACX-1vSCQjmHcioIMvwfBzBDw5CTNgAs5GXXZAYNQCNeMAyZ-9qHvlCkTI5jxDgiInfQ3er6AgEb1LAz_nsU/pub?gid=1478670491&single=true&output=csv')\n",
        "\n",
        "younger_age=df[(df.age>=29)&(df.age<40)]\n",
        "middle_age=df[(df.age>=40)&(df.age<55)]\n",
        "elder_age=df[df.age>55]\n",
        "print(f'younger age is:{len(younger_age)}')\n",
        "print(f'middle age is:{len(middle_age)}')\n",
        "print(f'elder age is:{len(elder_age)}')"
      ]
    },
    {
      "cell_type": "code",
      "execution_count": null,
      "metadata": {
        "cellView": "form",
        "id": "vdwaX0vFcpws"
      },
      "outputs": [],
      "source": [
        "# @title visualization  1\n",
        "import numpy as np\n",
        "import pandas as pd\n",
        "import matplotlib.pyplot as plt\n",
        "import seaborn as sns\n",
        "\n",
        "df=pd.read_csv('https://docs.google.com/spreadsheets/d/e/2PACX-1vSCQjmHcioIMvwfBzBDw5CTNgAs5GXXZAYNQCNeMAyZ-9qHvlCkTI5jxDgiInfQ3er6AgEb1LAz_nsU/pub?gid=1478670491&single=true&output=csv')\n",
        "\n",
        "younger_age=df[(df.age>=29)&(df.age<40)]\n",
        "middle_age=df[(df.age>=40)&(df.age<55)]\n",
        "elder_age=df[df.age>55]\n",
        "\n",
        "\n",
        "# design part\n",
        "plt.figure(figsize=(10,6))\n",
        "sns.barplot(x=['younger age', 'middle age', 'elder age'], y=[len(younger_age), len(middle_age), len(elder_age)], palette=\"CMRmap\", hue=['younger age', 'middle age', 'elder age'])\n",
        "plt.title('age state in datasets', color='blue', fontsize=25)\n",
        "plt.xlabel('age range', color='blue', fontsize=20)\n",
        "plt.ylabel('age count', color='blue', fontsize=20)\n",
        "plt.show()"
      ]
    },
    {
      "cell_type": "code",
      "execution_count": null,
      "metadata": {
        "cellView": "form",
        "id": "yPxGkkeEcprd"
      },
      "outputs": [],
      "source": [
        "# @title visualization  2\n",
        "import numpy as np\n",
        "import pandas as pd\n",
        "import matplotlib.pyplot as plt\n",
        "import seaborn as sns\n",
        "\n",
        "df=pd.read_csv('https://docs.google.com/spreadsheets/d/e/2PACX-1vSCQjmHcioIMvwfBzBDw5CTNgAs5GXXZAYNQCNeMAyZ-9qHvlCkTI5jxDgiInfQ3er6AgEb1LAz_nsU/pub?gid=1478670491&single=true&output=csv')\n",
        "\n",
        "\n",
        "young_ages=df[(df.age>=29)&(df.age<40)]\n",
        "middle_ages=df[(df.age>=40)&(df.age<55)]\n",
        "elderly_ages=df[(df.age>55)]\n",
        "\n",
        "\n",
        "plt.figure(figsize=(8, 6))\n",
        "sns.barplot(x=['young ages','middle ages','elderly ages'],y=[len(young_ages),len(middle_ages),len(elderly_ages)], palette=\"CMRmap\",hue=['Young ages','Middle ages', 'Elderly ages'])\n",
        "plt.xlabel('Age Range')\n",
        "plt.ylabel('Age Counts')\n",
        "plt.title('Ages State in Dataset')\n",
        "plt.show()"
      ]
    },
    {
      "cell_type": "markdown",
      "metadata": {
        "id": "4HlY9EBHKKw6"
      },
      "source": [
        "### Analysis using Sex"
      ]
    },
    {
      "cell_type": "code",
      "execution_count": null,
      "metadata": {
        "cellView": "form",
        "id": "7cHKJ10acpuF"
      },
      "outputs": [],
      "source": [
        "# @title count male and female\n",
        "import numpy as np\n",
        "import pandas as pd\n",
        "\n",
        "df=pd.read_csv('https://docs.google.com/spreadsheets/d/e/2PACX-1vSCQjmHcioIMvwfBzBDw5CTNgAs5GXXZAYNQCNeMAyZ-9qHvlCkTI5jxDgiInfQ3er6AgEb1LAz_nsU/pub?gid=1478670491&single=true&output=csv')\n",
        "df.sex.value_counts()"
      ]
    },
    {
      "cell_type": "code",
      "execution_count": null,
      "metadata": {
        "cellView": "form",
        "id": "6SG-T1TUcpj0"
      },
      "outputs": [],
      "source": [
        " # @title visualization for male and female circle\n",
        "import numpy as np\n",
        "import pandas as pd\n",
        "import matplotlib.pyplot as plt\n",
        "import seaborn as sns\n",
        "\n",
        "# ডেটা লোড\n",
        "df=pd.read_csv('https://docs.google.com/spreadsheets/d/e/2PACX-1vSCQjmHcioIMvwfBzBDw5CTNgAs5GXXZAYNQCNeMAyZ-9qHvlCkTI5jxDgiInfQ3er6AgEb1LAz_nsU/pub?gid=1478670491&single=true&output=csv')\n",
        "\n",
        "# male/female কাউন্ট\n",
        "size = df['sex'].value_counts()\n",
        "colors = ['green', 'red']\n",
        "labels = ['Male', 'Female']\n",
        "explode = (0, 0.01)\n",
        "\n",
        "# ডোনাটের ভেতরে সাদা circle বানানো\n",
        "my_circle = plt.Circle((0, 0), 0.7, color='white')\n",
        "\n",
        "# figure size সেট\n",
        "plt.rcParams['figure.figsize'] = (7, 7)\n",
        "\n",
        "# pie chart আঁকা\n",
        "plt.pie(size, colors=colors, labels=labels, shadow=True,\n",
        "        explode=explode, autopct='%.2f%%')\n",
        "\n",
        "# title\n",
        "plt.title('Distribution of Gender', fontsize=25)\n",
        "\n",
        "# circle বসানো\n",
        "p = plt.gcf()\n",
        "p.gca().add_artist(my_circle)\n",
        "\n",
        "# legend\n",
        "plt.legend()\n",
        "\n",
        "# text info বসানো\n",
        "total_gender_count = len(df.sex)\n",
        "male_count = len(df[df.sex==1])\n",
        "female_count = len(df[df.sex==0])\n",
        "\n",
        "plt.text(1, 1, 'Total Gender:\\nMale count:\\nFemale count:')\n",
        "plt.text(1.55, 1.15, total_gender_count)\n",
        "plt.text(1.55, 1.07, male_count)\n",
        "plt.text(1.55, 0.97, female_count)\n",
        "\n",
        "\n",
        "plt.savefig(' male and female circle.pdf')\n",
        "plt.savefig(' male and female circle.png')\n",
        "# দেখানো\n",
        "plt.show()\n",
        "\n"
      ]
    },
    {
      "cell_type": "code",
      "execution_count": null,
      "metadata": {
        "cellView": "form",
        "id": "yD0VU53qcpg3"
      },
      "outputs": [],
      "source": [
        "# @title Heart Disease Frequency by Sex bar plot\n",
        "import numpy as np\n",
        "import pandas as pd\n",
        "import matplotlib.pyplot as plt\n",
        "import seaborn as sns\n",
        "\n",
        "df=pd.read_csv('https://docs.google.com/spreadsheets/d/e/2PACX-1vSCQjmHcioIMvwfBzBDw5CTNgAs5GXXZAYNQCNeMAyZ-9qHvlCkTI5jxDgiInfQ3er6AgEb1LAz_nsU/pub?gid=1478670491&single=true&output=csv')\n",
        "\n",
        "pd.crosstab(df.sex,df.target).plot(kind=\"bar\",figsize=(15,6),color=['blue','yellow' ])\n",
        "plt.title('Heart Disease Frequency for Sex', color='black', fontsize=25)\n",
        "plt.xlabel('Sex (0 = Female, 1 = Male)', color='black', fontsize=15)\n",
        "plt.ylabel('Frequency', color='black', fontsize=15)\n",
        "plt.xticks(rotation=0, color='black', fontsize=10)\n",
        "plt.yticks(color='black')\n",
        "plt.legend([\"Haven't Disease\", \"Have Disease\"])\n",
        "\n",
        "plt.gcf().set_facecolor('white')\n",
        "plt.grid(True, color='red', linewidth=0.5)\n",
        "\n",
        "plt.savefig('Heart Disease Frequency for Sex.pdf')\n",
        "plt.savefig('Heart Disease Frequency for Sex.png')\n",
        "\n",
        "plt.show()\n"
      ]
    },
    {
      "cell_type": "code",
      "execution_count": null,
      "metadata": {
        "cellView": "form",
        "id": "SuEWOjaYcpeT"
      },
      "outputs": [],
      "source": [
        "# @title Heart Disease Frequency by Sex (Professional Version)\n",
        " # ======================================================\n",
        "# Heart Disease Frequency by Sex (Professional Version)\n",
        "# ======================================================\n",
        "\n",
        "import numpy as np\n",
        "import pandas as pd\n",
        "import matplotlib.pyplot as plt\n",
        "import seaborn as sns\n",
        "\n",
        "# -------------------------\n",
        "# Data Load\n",
        "# -------------------------\n",
        "df = pd.read_csv(\n",
        "    'https://docs.google.com/spreadsheets/d/e/2PACX-1vSCQjmHcioIMvwfBzBDw5CTNgAs5GXXZAYNQCNeMAyZ-9qHvlCkTI5jxDgiInfQ3er6AgEb1LAz_nsU/pub?gid=1478670491&single=true&output=csv'\n",
        ")\n",
        "\n",
        "# -------------------------\n",
        "# Crosstab (Frequency Table)\n",
        "# -------------------------\n",
        "freq_table = pd.crosstab(df.sex, df.target)\n",
        "\n",
        "# -------------------------\n",
        "# Plot Settings\n",
        "# -------------------------\n",
        "sns.set_style(\"whitegrid\")          # professional style\n",
        "plt.figure(figsize=(15, 6))        # figure size\n",
        "\n",
        "# Bar chart\n",
        "colors = ['#1f77b4', '#ff7f0e']    # blue for No Disease, orange for Disease\n",
        "freq_table.plot(\n",
        "    kind=\"bar\",\n",
        "    color=colors,\n",
        "    edgecolor='black',\n",
        "    width=0.7\n",
        ")\n",
        "\n",
        "# Title and Labels\n",
        "plt.title('Heart Disease Frequency by Sex', fontsize=25, color='black', pad=20)\n",
        "plt.xlabel('Sex (0 = Female, 1 = Male)', fontsize=15, color='black', labelpad=10)\n",
        "plt.ylabel('Frequency', fontsize=15, color='black', labelpad=10)\n",
        "\n",
        "# Tick Formatting\n",
        "plt.xticks(rotation=0, fontsize=12, color='black')\n",
        "plt.yticks(fontsize=12, color='black')\n",
        "\n",
        "# Legend\n",
        "plt.legend([\"Haven't Disease\", \"Have Disease\"], fontsize=12, frameon=True)\n",
        "\n",
        "# Figure Background\n",
        "plt.gcf().set_facecolor('white')\n",
        "\n",
        "# Grid Lines\n",
        "plt.grid(True, linestyle='--', linewidth=0.7, alpha=0.7)\n",
        "\n",
        "\n",
        "plt.savefig('  Frequency by Sex (Professional Version).pdf')\n",
        "plt.savefig('  Frequency by Sex (Professional Version).png')\n",
        "\n",
        "# Show Plot\n",
        "plt.tight_layout()\n",
        "plt.show()\n",
        "\n"
      ]
    },
    {
      "cell_type": "markdown",
      "metadata": {
        "id": "Vst1hvpy7s1H"
      },
      "source": [
        "### Analysis using Chest Pain Type"
      ]
    },
    {
      "cell_type": "code",
      "execution_count": null,
      "metadata": {
        "cellView": "form",
        "id": "y5EEXhJQcpcF"
      },
      "outputs": [],
      "source": [
        "# @title count cp\n",
        "import numpy as np\n",
        "import pandas as pd\n",
        "\n",
        "df=pd.read_csv('https://docs.google.com/spreadsheets/d/e/2PACX-1vSCQjmHcioIMvwfBzBDw5CTNgAs5GXXZAYNQCNeMAyZ-9qHvlCkTI5jxDgiInfQ3er6AgEb1LAz_nsU/pub?gid=1478670491&single=true&output=csv')\n",
        "df.cp.value_counts()\n"
      ]
    },
    {
      "cell_type": "code",
      "execution_count": null,
      "metadata": {
        "cellView": "form",
        "id": "PSNK26q7cpZT"
      },
      "outputs": [],
      "source": [
        "# @title Chest Type vs Count State(visualization)\n",
        "import numpy as np\n",
        "import pandas as pd\n",
        "import matplotlib.pyplot as plt\n",
        "import seaborn as sns\n",
        "\n",
        "df=pd.read_csv('https://docs.google.com/spreadsheets/d/e/2PACX-1vSCQjmHcioIMvwfBzBDw5CTNgAs5GXXZAYNQCNeMAyZ-9qHvlCkTI5jxDgiInfQ3er6AgEb1LAz_nsU/pub?gid=1478670491&single=true&output=csv')\n",
        "\n",
        "plt.figure(figsize=(10,6))\n",
        "sns.countplot(df.cp, palette='viridis')\n",
        "plt.title('chest type vs count state', color='black', fontsize=20)\n",
        "plt.xlabel('chest pain type', color='black', fontsize=16)\n",
        "plt.ylabel('count', color='black', fontsize=16)\n",
        "plt.savefig('chest type vs count state.pdf')\n",
        "plt.savefig('chest type vs count state.png')\n",
        "plt.show()"
      ]
    },
    {
      "cell_type": "code",
      "execution_count": null,
      "metadata": {
        "cellView": "form",
        "id": "JQ-ujdJ_cpWT"
      },
      "outputs": [],
      "source": [
        "# @title bar chart\n",
        "import numpy as np\n",
        "import pandas as pd\n",
        "import matplotlib.pyplot as plt\n",
        "import seaborn as sns\n",
        "\n",
        "df=pd.read_csv('https://docs.google.com/spreadsheets/d/e/2PACX-1vSCQjmHcioIMvwfBzBDw5CTNgAs5GXXZAYNQCNeMAyZ-9qHvlCkTI5jxDgiInfQ3er6AgEb1LAz_nsU/pub?gid=1478670491&single=true&output=csv')\n",
        "\n",
        "\n",
        "pd.crosstab(df.cp, df.target).plot(kind='bar',figsize=(15,6) ,color=['blue', 'green'], edgecolor='black')\n",
        "plt.title('Heart Disease Frequency According To Chest Pain Type', color='black', fontsize=16)\n",
        "plt.xlabel('chest pain type', color='black', fontsize=16)\n",
        "plt.ylabel('Frequency of Disease of Not', color='black', fontsize=16)\n",
        "plt.xticks(rotation=0)\n",
        "plt.savefig('  Chest Pain Type.pdf')\n",
        "plt.savefig('  Chest Pain Type.png')\n",
        "plt.show()"
      ]
    },
    {
      "cell_type": "markdown",
      "metadata": {
        "id": "P30n2pLBHgSR"
      },
      "source": [
        "### Analysis Using fbs"
      ]
    },
    {
      "cell_type": "code",
      "execution_count": null,
      "metadata": {
        "cellView": "form",
        "id": "RDQbzIJAcpTj"
      },
      "outputs": [],
      "source": [
        "# @title Heart Disease Frequency According To FBS\n",
        "import numpy as np\n",
        "import pandas as pd\n",
        "import matplotlib.pyplot as plt\n",
        "import seaborn as sna\n",
        "\n",
        "df=pd.read_csv('https://docs.google.com/spreadsheets/d/e/2PACX-1vSCQjmHcioIMvwfBzBDw5CTNgAs5GXXZAYNQCNeMAyZ-9qHvlCkTI5jxDgiInfQ3er6AgEb1LAz_nsU/pub?gid=1478670491&single=true&output=csv')\n",
        "\n",
        "pd.crosstab(df.fbs, df.target).plot(kind='bar', figsize=(15,6), color=['#FFC300', '#581845'])\n",
        "plt.title('Heart Disease Frequency According To FBS', color='black', fontsize=20)\n",
        "plt.xlabel('FBS - (Fasting Blood Sugar > 120 mg/dl) (1 = true; 0 = false)', color='black', fontsize=12)\n",
        "plt.ylabel('Frequency of Diseade or Not', color='black', fontsize=12)\n",
        "plt.xticks(rotation=0)\n",
        "plt.legend([\"Haven't Disease\", \"Have Disease\"])\n",
        "plt.grid(True, color='red', linewidth=0.5, linestyle='--')\n",
        "plt.savefig('Heart Disease Frequency According To FBS.pdf')\n",
        "plt.savefig('Heart Disease Frequency According To FBS.png')\n",
        "\n",
        "plt.show()"
      ]
    },
    {
      "cell_type": "markdown",
      "metadata": {
        "id": "684Ic6CkMdau"
      },
      "source": [
        "### Analysis Using thalach"
      ]
    },
    {
      "cell_type": "code",
      "execution_count": null,
      "metadata": {
        "cellView": "form",
        "id": "ajy7HzS-cpQ7"
      },
      "outputs": [],
      "source": [
        "# @title count first 20 rows\n",
        "import numpy as np\n",
        "import pandas as pd\n",
        "\n",
        "\n",
        "df=pd.read_csv('https://docs.google.com/spreadsheets/d/e/2PACX-1vSCQjmHcioIMvwfBzBDw5CTNgAs5GXXZAYNQCNeMAyZ-9qHvlCkTI5jxDgiInfQ3er6AgEb1LAz_nsU/pub?gid=1478670491&single=true&output=csv')\n",
        "df.thalach.value_counts()[:20]"
      ]
    },
    {
      "cell_type": "code",
      "execution_count": null,
      "metadata": {
        "cellView": "form",
        "id": "abkRJkPycpN7"
      },
      "outputs": [],
      "source": [
        "# @title age vs thalach barchart/barchart\n",
        "import numpy as np\n",
        "import pandas as pd\n",
        "import matplotlib.pyplot as plt\n",
        "import seaborn as sns\n",
        "import matplotlib as mpl\n",
        "\n",
        "# ----- rcParams  -----\n",
        "mpl.rc('xtick', labelsize=14, color='blue', direction='in')\n",
        "mpl.rc('ytick', labelsize=14, color='red', direction='inout')\n",
        "\n",
        "\n",
        "df=pd.read_csv('https://docs.google.com/spreadsheets/d/e/2PACX-1vSCQjmHcioIMvwfBzBDw5CTNgAs5GXXZAYNQCNeMAyZ-9qHvlCkTI5jxDgiInfQ3er6AgEb1LAz_nsU/pub?gid=1478670491&single=true&output=csv')\n",
        "\n",
        "# design part\n",
        "plt.figure(figsize=(12,6))\n",
        "sns.barplot(\n",
        "    x=df.thalach.value_counts()[:20].index,\n",
        "    y=df.thalach.value_counts()[:20].values,\n",
        "    palette='viridis')\n",
        "\n",
        "# title and label\n",
        "plt.title('thalach count', color='black', fontsize=20, pad=10)\n",
        "plt.xlabel('thalach', color='black', fontsize=16, labelpad=10)\n",
        "plt.ylabel('count', color='black', fontsize=16, labelpad=10)\n",
        "plt.tick_params(axis='x', pad=5)\n",
        "plt.tick_params(axis='y', pad=5)\n",
        "\n",
        "\n",
        "\n",
        "plt.savefig('thalach count.pdf')\n",
        "plt.savefig('thalach count.png')\n",
        "\n",
        "plt.tight_layout()\n",
        "plt.show()\n"
      ]
    },
    {
      "cell_type": "code",
      "execution_count": null,
      "metadata": {
        "cellView": "form",
        "id": "JzUPqKx7cpLD"
      },
      "outputs": [],
      "source": [
        "# @title Age vs thalach\n",
        "\n",
        "import numpy as np\n",
        "import pandas as pd\n",
        "import matplotlib.pyplot as plt\n",
        "import seaborn as sns\n",
        "import matplotlib as mpl\n",
        "\n",
        "mpl.rc('xtick', labelsize=15, color='purple', direction='inout')\n",
        "mpl.rc('ytick', labelsize=15, color='purple', direction='inout')\n",
        "\n",
        "df=pd.read_csv('https://docs.google.com/spreadsheets/d/e/2PACX-1vSCQjmHcioIMvwfBzBDw5CTNgAs5GXXZAYNQCNeMAyZ-9qHvlCkTI5jxDgiInfQ3er6AgEb1LAz_nsU/pub?gid=1478670491&single=true&output=csv')\n",
        "\n",
        "\n",
        "age_unique=sorted(df.age.unique())\n",
        "age_thalach_values=df.groupby('age')['thalach'].count().values\n",
        "mean_thalach=[]\n",
        "for i,age in enumerate(age_unique):\n",
        "    mean_thalach.append(sum(df[df['age']==age].thalach)/age_thalach_values[i])\n",
        "\n",
        "\n",
        "#data_sorted=data.sort_values(by='Age',ascending=True)\n",
        "plt.figure(figsize=(15,5))\n",
        "sns.pointplot(x=age_unique,\n",
        "              y=mean_thalach,\n",
        "              color='red',\n",
        "              alpha=0.8)\n",
        "\n",
        "plt.xlabel('Age',fontsize = 15,color='blue')\n",
        "plt.xticks(rotation=0)\n",
        "plt.ylabel('Thalach',fontsize = 15,color='blue')\n",
        "plt.title('Age vs Thalach',fontsize = 15,color='blue')\n",
        "\n",
        "plt.tick_params(axis='x', pad=5, length=10, width=2, color='blue' )\n",
        "plt.tick_params(axis='y', pad=5, length=10, width=2, color='blue')\n",
        "\n",
        "plt.savefig('age vs thalach.pdf')\n",
        "plt.savefig('age vs thalach.png')\n",
        "plt.grid(True, linestyle='--', color='pink')\n",
        "plt.show()"
      ]
    },
    {
      "cell_type": "code",
      "execution_count": null,
      "metadata": {
        "cellView": "form",
        "id": "bHH2_4WacpH7"
      },
      "outputs": [],
      "source": [
        "# @title Scatter plot\n",
        "import numpy as np\n",
        "import pandas as np\n",
        "import matplotlib.pyplot as plt\n",
        "import seaborn as sns\n",
        "import matplotlib as mpl\n",
        "\n",
        "mpl.rc('xtick', labelsize=15, color='blue', direction='inout')\n",
        "mpl.rc('ytick', labelsize=15, color='blue', direction='inout')\n",
        "# load data\n",
        "df=pd.read_csv('https://docs.google.com/spreadsheets/d/e/2PACX-1vSCQjmHcioIMvwfBzBDw5CTNgAs5GXXZAYNQCNeMAyZ-9qHvlCkTI5jxDgiInfQ3er6AgEb1LAz_nsU/pub?gid=1478670491&single=true&output=csv')\n",
        "\n",
        "# design part\n",
        "plt.figure(figsize=(10,6))\n",
        "sns.scatterplot(x=df.age[df.target==1], y=df.thalach[df.target==1])\n",
        "sns.scatterplot(x=df.age[df.target==0], y=df.thalach[df.target==0])\n",
        "\n",
        "# title and labels\n",
        "plt.title('age vs thalach scatterplot', color='purple', size=20, pad=15)\n",
        "plt.xlabel('age', color='purple', fontsize=16)\n",
        "plt.ylabel('thalach', color='purple', fontsize=16, labelpad=8)\n",
        "plt.legend(['Disease', 'Not Disease'])\n",
        "\n",
        "# cumtom tick\n",
        "plt.tick_params(axis='x', pad=10, length=10, width=2, color='red')\n",
        "plt.tick_params(axis='y', pad=5, length=10, width=2, color='red')\n",
        "\n",
        "\n",
        "plt.savefig('age vs thalach scatterplot.pdf')\n",
        "plt.savefig('age vs thalach scatterplot.png')\n",
        "\n",
        "plt.show()\n",
        "\n"
      ]
    },
    {
      "cell_type": "markdown",
      "metadata": {
        "id": "Jqh3fj2GRSdu"
      },
      "source": [
        "### Analysis using slope"
      ]
    },
    {
      "cell_type": "code",
      "execution_count": null,
      "metadata": {
        "id": "c5IKHu2dcpEs"
      },
      "outputs": [],
      "source": [
        "import numpy as np\n",
        "import pandas as pd\n",
        "import matplotlib.pyplot as plt\n",
        "import seaborn as sns\n",
        "\n",
        "import matplotlib as mpl\n",
        "plt.rc('xtick', labelsize=16, color='purple', direction='inout')\n",
        "plt.rc('ytick', labelsize=16, color='purple', direction='inout')\n",
        "\n",
        "# load data\n",
        "df=pd.read_csv('https://docs.google.com/spreadsheets/d/e/2PACX-1vSCQjmHcioIMvwfBzBDw5CTNgAs5GXXZAYNQCNeMAyZ-9qHvlCkTI5jxDgiInfQ3er6AgEb1LAz_nsU/pub?gid=1478670491&single=true&output=csv')\n",
        "\n",
        "# logical\n",
        "pd.crosstab(df.slope, df.target).plot(kind='bar', figsize=(12,6), color=['red', 'blue'])\n",
        "\n",
        "# title and label\n",
        "plt.title('Heart Disease Frequency for Slope', color='blue', fontsize=20)\n",
        "plt.xlabel('slope',color='blue', fontsize=16)\n",
        "plt.ylabel('Frequency', color='blue', fontsize=16)\n",
        "\n",
        "# custom tick\n",
        "plt.tick_params(axis='x', length=10, width=2, pad=8)\n",
        "plt.tick_params(axis='y', length=10, width=2, pad=8)\n",
        "plt.xticks(rotation=0)\n",
        "\n",
        "# save file\n",
        "plt.savefig('Heart Disease Frequency for Slope.pdf')\n",
        "plt.savefig('Heart Disease Frequency for Slope.png')\n",
        "\n",
        "plt.show()"
      ]
    },
    {
      "cell_type": "markdown",
      "metadata": {
        "id": "9PQvaCtAFnFC"
      },
      "source": [
        "### Thal Analysis"
      ]
    },
    {
      "cell_type": "code",
      "execution_count": null,
      "metadata": {
        "id": "SuYIlH1ycpAM"
      },
      "outputs": [],
      "source": [
        "import numpy as np\n",
        "import pandas as pd\n",
        "import matplotlib.pyplot as plt\n",
        "import seaborn as sns\n",
        "\n",
        "# cuntom tick_params\n",
        "import matplotlib as mpl\n",
        "mpl.rc('xtick', labelsize=16, color='green', direction='in')\n",
        "mpl.rc('ytick', labelsize=16, color='green', direction='out')\n",
        "\n",
        "# load data file\n",
        "df=pd.read_csv('https://docs.google.com/spreadsheets/d/e/2PACX-1vSCQjmHcioIMvwfBzBDw5CTNgAs5GXXZAYNQCNeMAyZ-9qHvlCkTI5jxDgiInfQ3er6AgEb1LAz_nsU/pub?gid=1478670491&single=true&output=csv')\n",
        "\n",
        "df.thal.value_counts()\n",
        "# design\n",
        "plt.figure(figsize=(10,6))\n",
        "sns.countplot(df.thal, palette='cubehelix_r')"
      ]
    },
    {
      "cell_type": "code",
      "execution_count": null,
      "metadata": {
        "id": "YLzcFg72co8r"
      },
      "outputs": [],
      "source": [
        "df[(df['thal']==1)].target.value_counts()\n",
        "plt.figure(figsize=(8, 6))\n",
        "sns.barplot(x=df[(df['thal']==1)].target.value_counts().index,y=df[(df['thal']==1)].target.value_counts().values, palette=\"Oranges_r\",hue=['0','1'])\n",
        "plt.xlabel('Thal Value')\n",
        "plt.ylabel('Count')\n",
        "plt.title('Counter for Thal')\n",
        "plt.show()"
      ]
    },
    {
      "cell_type": "code",
      "execution_count": null,
      "metadata": {
        "id": "9rUpD1WAcork"
      },
      "outputs": [],
      "source": []
    },
    {
      "cell_type": "markdown",
      "metadata": {
        "id": "BVhKZrcJIORQ"
      },
      "source": [
        "### Analysis Target"
      ]
    },
    {
      "cell_type": "code",
      "execution_count": null,
      "metadata": {
        "id": "-XFSwrDbIRpi"
      },
      "outputs": [],
      "source": [
        "import numpy as np\n",
        "import pandas as pd\n",
        "import matplotlib.pyplot as plt\n",
        "import seaborn as sns\n",
        "\n",
        "# load data fle\n",
        "df=pd.read_csv('https://docs.google.com/spreadsheets/d/e/2PACX-1vSCQjmHcioIMvwfBzBDw5CTNgAs5GXXZAYNQCNeMAyZ-9qHvlCkTI5jxDgiInfQ3er6AgEb1LAz_nsU/pub?gid=1478670491&single=true&output=csv')\n",
        "\n",
        "# design\n",
        "plt.figure(figsize=(10,8))\n",
        "sns.barplot(df.target, palette='viridis')"
      ]
    },
    {
      "cell_type": "code",
      "execution_count": null,
      "metadata": {
        "id": "ZgtsUR8oIR6C"
      },
      "outputs": [],
      "source": [
        "plt.figure(figsize=(8,5))\n",
        "sns.countplot(df.target, palette=\"Purples_r\")\n",
        "plt.xlabel('Target')\n",
        "plt.ylabel('Count')\n",
        "plt.title('Target Counter 1 & 0')\n",
        "plt.show()"
      ]
    },
    {
      "cell_type": "code",
      "execution_count": null,
      "metadata": {
        "id": "694nYeU7JiHw"
      },
      "outputs": [],
      "source": [
        "sns.countplot(df.target,hue=df.sex)\n",
        "plt.xlabel('Target')\n",
        "plt.ylabel('Count')\n",
        "plt.title('Target & Sex Counter 1 & 0')\n",
        "plt.show()"
      ]
    },
    {
      "cell_type": "markdown",
      "metadata": {
        "id": "JoMxSuVfnPi4"
      },
      "source": [
        "## ##Class-16"
      ]
    },
    {
      "cell_type": "code",
      "execution_count": null,
      "metadata": {
        "id": "jScxdVdKnTLv"
      },
      "outputs": [],
      "source": []
    },
    {
      "cell_type": "code",
      "execution_count": null,
      "metadata": {
        "id": "fYbXfWQDnYFT"
      },
      "outputs": [],
      "source": []
    },
    {
      "cell_type": "code",
      "execution_count": null,
      "metadata": {
        "id": "ctZWWPvunYbE"
      },
      "outputs": [],
      "source": []
    },
    {
      "cell_type": "code",
      "execution_count": null,
      "metadata": {
        "id": "zOoD2J1InYXz"
      },
      "outputs": [],
      "source": []
    },
    {
      "cell_type": "markdown",
      "metadata": {
        "id": "B4O6tAcDndmv"
      },
      "source": [
        "# #Final Project"
      ]
    },
    {
      "cell_type": "markdown",
      "metadata": {
        "id": "oeXMPfQMCQq4"
      },
      "source": [
        "## Section A : Data Import & Preprocessing"
      ]
    },
    {
      "cell_type": "code",
      "execution_count": null,
      "metadata": {
        "cellView": "form",
        "id": "ag3usslUnhPQ"
      },
      "outputs": [],
      "source": [
        "# @title 1.Load the dataset and display its first 10 rows.\n",
        "# step-1: import require library function\n",
        "import numpy as np\n",
        "import pandas as pd\n",
        "\n",
        "# step-2: load data file\n",
        "df=pd.read_csv('https://docs.google.com/spreadsheets/d/e/2PACX-1vRNjLy1z3pmGHGjiRjN1mmNEYIjebkBlhav-5mgd9OCGGDwFnL_LPRXvoBThu-JPDZVINbYb1I6Yp3I/pub?gid=961875835&single=true&output=csv')\n",
        "\n",
        "# step-3: display first 10 rows\n",
        "df.head(10)\n",
        "#display(df.head(10))"
      ]
    },
    {
      "cell_type": "code",
      "execution_count": null,
      "metadata": {
        "cellView": "form",
        "id": "YpGOmtIBCUY6"
      },
      "outputs": [],
      "source": [
        "# @title 2.Identify missing values and handle them appropriately\n",
        "# step-1: import require library function\n",
        "import numpy as np\n",
        "import pandas as pd\n",
        "\n",
        "# step-2: load data file\n",
        "df=pd.read_csv('https://docs.google.com/spreadsheets/d/e/2PACX-1vRNjLy1z3pmGHGjiRjN1mmNEYIjebkBlhav-5mgd9OCGGDwFnL_LPRXvoBThu-JPDZVINbYb1I6Yp3I/pub?gid=961875835&single=true&output=csv')\n",
        "df.isnull().sum()"
      ]
    },
    {
      "cell_type": "code",
      "execution_count": null,
      "metadata": {
        "cellView": "form",
        "id": "ngJzc_LhnhrI"
      },
      "outputs": [],
      "source": [
        "# @title 3.Convert the date_time column into multiple features: Hour, Day of Week, Weekend indicator\n",
        "# step-1: import require library function\n",
        "import numpy as np\n",
        "import pandas as pd\n",
        "\n",
        "# step-2: load data file\n",
        "df=pd.read_csv('https://docs.google.com/spreadsheets/d/e/2PACX-1vRNjLy1z3pmGHGjiRjN1mmNEYIjebkBlhav-5mgd9OCGGDwFnL_LPRXvoBThu-JPDZVINbYb1I6Yp3I/pub?gid=961875835&single=true&output=csv')\n",
        "\n",
        "# step-3: logical function\n",
        "df['DateTime']=pd.to_datetime(df['DateTime'])\n",
        "# Hour\n",
        "df['Hour']=df['DateTime'].dt.hour\n",
        "# Day of Week(Monday=0, sunday=6)\n",
        "df['DayofWeek']=df['DateTime'].dt.dayofweek\n",
        "# Weekend indicator\n",
        "df['IsWeekend']=df['DayofWeek'].apply(lambda x:1 if x in[6]  else 0)\n",
        "\n",
        "\n",
        "# Weekend indicator(Bangladesh friday-4, saturday-5)\n",
        "#df['IsWeekend']=df['DayofWeek'].apply(lambda x:1 if x in [4,5] else 0)\n",
        "\n",
        "# step-4: show first 10 rows\n",
        "print(df.head(10))"
      ]
    },
    {
      "cell_type": "code",
      "execution_count": null,
      "metadata": {
        "cellView": "form",
        "id": "soD_fSRbnhn_"
      },
      "outputs": [],
      "source": [
        "# @title  4.Normalize numerical features if required\n",
        "# step-1: import require library function\n",
        "import numpy as np\n",
        "import pandas as pd\n",
        "from sklearn.preprocessing import MinMaxScaler\n",
        "\n",
        "# step-2: load data file\n",
        "df=pd.read_csv('https://docs.google.com/spreadsheets/d/e/2PACX-1vRNjLy1z3pmGHGjiRjN1mmNEYIjebkBlhav-5mgd9OCGGDwFnL_LPRXvoBThu-JPDZVINbYb1I6Yp3I/pub?gid=961875835&single=true&output=csv')\n",
        "\n",
        "# step-3: logical function\n",
        "df['DateTime']=pd.to_datetime(df['DateTime'])\n",
        "# Hour\n",
        "df['Hour']=df['DateTime'].dt.hour\n",
        "# Day of Week(Monday=0, sunday=6)\n",
        "df['DayofWeek']=df['DateTime'].dt.dayofweek\n",
        "# Weekend indicator\n",
        "df['IsWeekend']=df['DayofWeek'].apply(lambda x:1 if x in [6] else 0)\n",
        "\n",
        "\n",
        "# Weekend indicator(Bangladesh Friday=4, saturday=5)\n",
        "#df['IsWeekend']=df['DayofWeek'].apply(lambda x:1 if x in [4,5] else 0)\n",
        "\n",
        "# step-4: Normalize numerical feature(Hour, DayofWeek only)\n",
        "scaler=MinMaxScaler()\n",
        "df[['Hour', 'DayofWeek']]=scaler.fit_transform(df[['Hour', 'DayofWeek']])\n",
        "\n",
        "# step-5: show first 10 rows\n",
        "print(df.head(10))\n"
      ]
    },
    {
      "cell_type": "markdown",
      "metadata": {
        "id": "NBMXidGCCdW2"
      },
      "source": [
        "## Section B: Exploratory Data Analysis"
      ]
    },
    {
      "cell_type": "code",
      "execution_count": null,
      "metadata": {
        "cellView": "form",
        "id": "WZh4WF1zCIHh"
      },
      "outputs": [],
      "source": [
        "# @title 5.Plot traffic volume over time (line plot).\n",
        "#======================================================================Logical_Part===========================================================\n",
        "# step-1: import require library function\n",
        "import numpy as np\n",
        "import pandas as pd\n",
        "import matplotlib.pyplot as plt\n",
        "\n",
        "# step-2: load data file\n",
        "df = pd.read_csv('https://docs.google.com/spreadsheets/d/e/2PACX-1vRNjLy1z3pmGHGjiRjN1mmNEYIjebkBlhav-5mgd9OCGGDwFnL_LPRXvoBThu-JPDZVINbYb1I6Yp3I/pub?gid=961875835&single=true&output=csv')\n",
        "\n",
        "# make sure DateTime is datetime type\n",
        "df['DateTime'] = pd.to_datetime(df['DateTime'])\n",
        "\n",
        "#======================================================================Design_Part==============================================================\n",
        "# step-3: plot\n",
        "plt.figure(figsize=(14,6))\n",
        "plt.plot(df['DateTime'], df['Vehicles'], color='blue', linewidth=1, label='Vehicles')\n",
        "plt.scatter(df['DateTime'], df['Vehicles'], color='red', s=5, alpha=0.6, label='Data points')\n",
        "\n",
        "# titles and labels\n",
        "plt.title(\"Vehicles Over Time\", fontsize=16, fontweight='bold')\n",
        "plt.xlabel(\"Date Time\", fontsize=14, color='black')\n",
        "plt.ylabel(\"Vehicles\", fontsize=14, color='black')\n",
        "\n",
        "plt.legend()\n",
        "plt.grid(axis='y', linestyle='-', alpha=0.5)\n",
        "plt.tight_layout()\n",
        "plt.show()\n"
      ]
    },
    {
      "cell_type": "code",
      "execution_count": null,
      "metadata": {
        "cellView": "form",
        "colab": {
          "background_save": true
        },
        "id": "1VRVBNSHnhkn",
        "outputId": "83d94b35-e013-434d-ad69-710c939c7c92"
      },
      "outputs": [
        {
          "data": {
            "image/png": "[encoded data removed]",
            "text/plain": [
              "<Figure size 1500x700 with 1 Axes>"
            ]
          },
          "metadata": {},
          "output_type": "display_data"
        }
      ],
      "source": [
        "# @title 6.1 Visualize average traffic volume by Hour (bar plots)\n",
        "#======================================================================Logical_Part===========================================================\n",
        "# step-1: import require library function\n",
        "import numpy as np\n",
        "import pandas as pd\n",
        "import matplotlib.pyplot as plt\n",
        "import matplotlib as mpl\n",
        "\n",
        "mpl.rc('xtick', color='r')\n",
        "mpl.rc('ytick', color='r')\n",
        "\n",
        "# step-2: load data file\n",
        "df = pd.read_csv('https://docs.google.com/spreadsheets/d/e/2PACX-1vRNjLy1z3pmGHGjiRjN1mmNEYIjebkBlhav-5mgd9OCGGDwFnL_LPRXvoBThu-JPDZVINbYb1I6Yp3I/pub?gid=961875835&single=true&output=csv')\n",
        "df['DateTime']=pd.to_datetime(df['DateTime'])\n",
        "\n",
        "# step-3: Hour and Day of Week\n",
        "df['Hour']=df['DateTime'].dt.hour\n",
        "\n",
        "# step-4: Calculate average  vehicles by hour\n",
        "avg_by_hour=df.groupby('Hour')['Vehicles'].mean()\n",
        "\n",
        "#======================================================================Design_Part===========================================================\n",
        "# figure and bar plot\n",
        "plt.figure(figsize=(15,7))\n",
        "avg_by_hour.plot(kind='bar', color='blue', alpha=0.8, zorder=5)\n",
        "#plt.bar(avg_by_hour.index, avg_by_hour.values,\n",
        "       # color='blue', alpha=0.8, zorder=5)\n",
        "\n",
        "# title and labels\n",
        "plt.title('Average Traffic Volume by Hour', fontsize=20, color='c', pad=10)\n",
        "plt.xlabel('Hour', fontsize=18, color='c', labelpad=10)\n",
        "plt.xticks(rotation=0, fontsize=16)\n",
        "plt.yticks(fontsize=16)\n",
        "plt.ylabel('Vehicles', fontsize=18, color='c', labelpad=10)\n",
        "plt.grid(axis='y', color='grey', zorder=0)\n",
        "\n",
        "# save file\n",
        "plt.savefig('Average Traffic Volume by Hour.pdf')\n",
        "plt.savefig('Average Traffic Volume by Hour.png')\n",
        "\n",
        "plt.tight_layout()\n",
        "plt.show()"
      ]
    },
    {
      "cell_type": "code",
      "execution_count": null,
      "metadata": {
        "cellView": "form",
        "collapsed": true,
        "id": "bQqN3dvBW6v4"
      },
      "outputs": [],
      "source": [
        "# @title 6.2 Visualize average traffic volume by  Day of Week (bar plots)\n",
        "#======================================================================Logical_Part===========================================================\n",
        "# step-1: import require library function\n",
        "import numpy as np\n",
        "import pandas as pd\n",
        "import matplotlib.pyplot as plt\n",
        "import matplotlib as mpl\n",
        "\n",
        "mpl.rc('xtick', color='r')\n",
        "mpl.rc('ytick', color='r')\n",
        "\n",
        "# step-2: load deta fiel\n",
        "df = pd.read_csv('https://docs.google.com/spreadsheets/d/e/2PACX-1vRNjLy1z3pmGHGjiRjN1mmNEYIjebkBlhav-5mgd9OCGGDwFnL_LPRXvoBThu-JPDZVINbYb1I6Yp3I/pub?gid=961875835&single=true&output=csv')\n",
        "df['DateTime']=pd.to_datetime(df['DateTime'])\n",
        "\n",
        "# step-3:day of week\n",
        "df['DayofWeek']=df['DateTime'].dt.day_name()\n",
        "\n",
        "# step-4: Calculate average vehicles by day of week\n",
        "days_order=['Monday', 'Tuesday', 'Wednesday', 'Thursday', 'Friday', 'Saturday', 'Sunday']\n",
        "avg_by_day=df.groupby('DayofWeek')['Vehicles'].mean().reindex(days_order)\n",
        "\n",
        "#======================================================================Design_Part===========================================================\n",
        "\n",
        "# figure size and bar plot\n",
        "plt.figure(figsize=(15,7))\n",
        "avg_by_day.plot(kind='bar', color='blue', alpha=0.8, zorder=5)\n",
        "#plt.bar( avg_by_day.index, avg_by_day.values,color='blue', alpha=0.8, zorder=5)\n",
        "\n",
        "# title and labels\n",
        "plt.title('Average Traffic Volume by Day of Week', fontsize=20, color='c', pad=10)\n",
        "plt.xlabel('Day of Week', fontsize=18, color='c',labelpad=15 )\n",
        "plt.xticks(rotation=0, fontsize=16)\n",
        "plt.yticks(fontsize=16)\n",
        "plt.ylabel('Vehicles', fontsize=18, color='c', labelpad=15)\n",
        "plt.grid(axis='y', color='grey', zorder=0)\n",
        "\n",
        "\n",
        "# save file\n",
        "plt.savefig('Average Traffic Volume by day of week.pdf')\n",
        "plt.savefig('Average Traffic Volume by day of week.png')\n",
        "\n",
        "plt.tight_layout()\n",
        "plt.show()\n",
        "\n"
      ]
    },
    {
      "cell_type": "code",
      "execution_count": null,
      "metadata": {
        "cellView": "form",
        "id": "JPTjLvOIhSSL"
      },
      "outputs": [],
      "source": [
        "# @title  7.Identify and explain at least one trend or correlation observed.\n",
        "print('\\n')\n",
        "print('6.1 Visualize average traffic volume by Hour')\n",
        "print('\"রাত 3am  থেকে সকাল 7am পর্যন্ত যানবাহনের পরিমাণ সর্বনিম্ন থাকে, ')\n",
        "print(' আর সকাল 11am থেকে রাত 11pm পর্যন্ত সর্বাধিক থাকে\"')\n",
        "\n",
        "print('\\n')\n",
        "print('6.2 Visualize average traffic volume by Day of Week ')\n",
        "print('\\n\"সাপ্তাহিক ছুটির দিনের  (শনিবার এবং রবিবার) তুলনায় সপ্তাহের দিনগুলিতে ')\n",
        "print( '(সোমবার থেকে শুক্রবার) গড় যানজটের পরিমাণ বেশি থাকে,')\n",
        "print('যা কর্মদিবস এবং যানবাহনের চলাচলের উচ্চতর গতির মধ্যে স্পষ্ট সম্পর্ক দেখায়।\"')\n",
        "\n",
        "# 6.1 Visualize average traffic volume by Hour\n",
        "# “Traffic volume is lowest from 3am to 7am, and highest from 11am to 11pm.”\n",
        "\n",
        "\n",
        "#6.2 Visualize average traffic volume by Day of Week (bar plots)\n",
        "#“The traffic volume is lowest during late night and early morning hours (2–6 AM), and peaks during afternoon and evening (11 AM – 9 PM),\n",
        " #showing a clear commuter-driven traffic pattern.”"
      ]
    },
    {
      "cell_type": "code",
      "execution_count": null,
      "metadata": {
        "id": "Kccdak2hhSID"
      },
      "outputs": [],
      "source": []
    },
    {
      "cell_type": "markdown",
      "metadata": {
        "id": "PKEHHwx7CoCc"
      },
      "source": [
        "## Section C: Model Building & Evaluation"
      ]
    },
    {
      "cell_type": "code",
      "execution_count": null,
      "metadata": {
        "cellView": "form",
        "id": "A7e3se_qCIEs"
      },
      "outputs": [],
      "source": [
        "# @title 8.Split data into training and testing sets (e.g., 80/20)\n",
        "#==============================================================Logical_Part================================================\n",
        "# step-1: import require library function\n",
        "import numpy as np\n",
        "import pandas as pd\n",
        "from sklearn.model_selection import train_test_split\n",
        "\n",
        "# step-2: load deta file\n",
        "df = pd.read_csv('https://docs.google.com/spreadsheets/d/e/2PACX-1vRNjLy1z3pmGHGjiRjN1mmNEYIjebkBlhav-5mgd9OCGGDwFnL_LPRXvoBThu-JPDZVINbYb1I6Yp3I/pub?gid=961875835&single=true&output=csv')\n",
        "\n",
        "# step-3: datetime features\n",
        "df['DateTime']=pd.to_datetime(df['DateTime'])\n",
        "df['Hour']=df['DateTime'].dt.hour\n",
        "df['DayofWeek']=df['DateTime'].dt.dayofweek\n",
        "df['IsWeekend'] =df['DayofWeek'].apply(lambda x: 1 if x in  [6] else 0)\n",
        "\n",
        "# step-4: Feature (X) and Target (Y)\n",
        "x=df[['Hour', 'DayofWeek', 'IsWeekend']]\n",
        "y=df[['Vehicles']]\n",
        "\n",
        "# step-5: spilt into train(80%) and test(20%)\n",
        "x_train, x_test, y_train, y_test=train_test_split(x,y, test_size=0.2, random_state=42)\n",
        "\n",
        "# step-6: print\n",
        "print('Traning set size', x_train.shape)\n",
        "print('Testing set size', x_test.shape)"
      ]
    },
    {
      "cell_type": "code",
      "execution_count": null,
      "metadata": {
        "cellView": "form",
        "id": "s5rVEW3nC1Ep"
      },
      "outputs": [],
      "source": [
        "# @title 9.Train a baseline regression model (Linear Regression) to predict traffic volume.\n",
        "#==============================================================Logical_Part================================================\n",
        "# step-1: import require library function\n",
        "import numpy as np\n",
        "import pandas as pd\n",
        "from sklearn.model_selection import train_test_split\n",
        "from sklearn.linear_model import LinearRegression\n",
        "from sklearn.metrics import mean_squared_error, r2_score\n",
        "\n",
        "# step-2: load deta file\n",
        "df = pd.read_csv('https://docs.google.com/spreadsheets/d/e/2PACX-1vRNjLy1z3pmGHGjiRjN1mmNEYIjebkBlhav-5mgd9OCGGDwFnL_LPRXvoBThu-JPDZVINbYb1I6Yp3I/pub?gid=961875835&single=true&output=csv')\n",
        "\n",
        "# step-3: feature engineering\n",
        "df['DateTime']=pd.to_datetime(df['DateTime'])\n",
        "df['Hour']=df['DateTime'].dt.hour\n",
        "df['DayofWeek']=df['DateTime'].dt.dayofweek\n",
        "df['IsWeekend']=df['DayofWeek'].apply(lambda x: 1 if x in [6] else 0)\n",
        "\n",
        "# step-4: feature(x) and terget(y)\n",
        "x=df[['Hour', 'DayofWeek', 'IsWeekend']]\n",
        "y=df[['Vehicles']]\n",
        "\n",
        "# step-5: train_test_split\n",
        "x_train, x_test, y_train, y_test=train_test_split(x, y, test_size=0.2, random_state=42)\n",
        "\n",
        "# step-6: Train Linear Regression Model\n",
        "model=LinearRegression()\n",
        "model.fit(x_train, y_train)\n",
        "\n",
        "# step-7: prediction\n",
        "y_pred=model.predict(x_test)\n",
        "\n",
        "# step-8: Evaluate Model\n",
        "mse=mean_squared_error(y_test, y_pred)\n",
        "rmse=np.sqrt(mse)\n",
        "r2=r2_score(y_test, y_pred)\n",
        "\n",
        "print('Linear Regression Baseline Model')\n",
        "print('RMSE:',rmse)\n",
        "print('R2 Score:',r2)\n",
        "\n"
      ]
    },
    {
      "cell_type": "code",
      "execution_count": null,
      "metadata": {
        "cellView": "form",
        "id": "8Ft30qT0C1B5"
      },
      "outputs": [],
      "source": [
        "# @title 10.1 Train a stronger regression model (Random Forest ).\n",
        "#===========================================================================Logical_Part===================================\n",
        "#step-1: import repuire library function\n",
        "import numpy as np\n",
        "import pandas as pd\n",
        "from sklearn.model_selection import train_test_split\n",
        "from sklearn.ensemble import RandomForestRegressor\n",
        "from sklearn.metrics import mean_squared_error, r2_score\n",
        "\n",
        "# step-2: load deta file\n",
        "df = pd.read_csv('https://docs.google.com/spreadsheets/d/e/2PACX-1vRNjLy1z3pmGHGjiRjN1mmNEYIjebkBlhav-5mgd9OCGGDwFnL_LPRXvoBThu-JPDZVINbYb1I6Yp3I/pub?gid=961875835&single=true&output=csv')\n",
        "\n",
        "# step-3: feature engineering\n",
        "df['DateTime']=pd.to_datetime(df['DateTime'])\n",
        "df['Hour']=df['DateTime'].dt.hour\n",
        "df['DayofWeek']=df['DateTime'].dt.dayofweek\n",
        "df['IsWeekend']=df['DayofWeek'].apply(lambda x: 1 if x in [6] else 0)\n",
        "\n",
        "# step-4:feature (x)  adn target (y)\n",
        "x=df[['Hour', 'DayofWeek', 'IsWeekend']]\n",
        "y=df[['Vehicles']]\n",
        "\n",
        "# step-5: Train Test split(80/20)\n",
        "x_train, x_test, y_train, y_test=train_test_split(x,y, test_size=0.2, random_state=42)\n",
        "\n",
        "# step-6: Train Random Forest Model\n",
        "rf_model = RandomForestRegressor(\n",
        "    n_estimators=100,\n",
        "    random_state=42,\n",
        "    max_depth=None\n",
        "    )\n",
        "\n",
        "rf_model.fit(x_train, y_train)\n",
        "\n",
        "# step-7: predictions\n",
        "y_pred=rf_model.predict(x_test)\n",
        "\n",
        "# step-8: Evaluate Model\n",
        "sme=mean_squared_error(y_test, y_pred)\n",
        "rmse=np.sqrt(sme)\n",
        "r2=r2_score(y_test, y_pred)\n",
        "\n",
        "print('Random Forest Regression Model')\n",
        "print('RMSE:', rmse)\n",
        "print('R2 score:', r2)"
      ]
    },
    {
      "cell_type": "code",
      "execution_count": null,
      "metadata": {
        "cellView": "form",
        "id": "w3ocdeW64TNG"
      },
      "outputs": [],
      "source": [
        "# @title 10.2Train a stronger regression model (XGBoost)\n",
        "#========================================================================Logical_part=============================================================================\n",
        "# step-1: import require library function\n",
        "import numpy as np\n",
        "import pandas as pd\n",
        "import xgboost as xgb\n",
        "from sklearn.model_selection import train_test_split\n",
        "from sklearn.metrics import mean_squared_error, r2_score\n",
        "\n",
        "# step-2: load deta file\n",
        "df = pd.read_csv('https://docs.google.com/spreadsheets/d/e/2PACX-1vRNjLy1z3pmGHGjiRjN1mmNEYIjebkBlhav-5mgd9OCGGDwFnL_LPRXvoBThu-JPDZVINbYb1I6Yp3I/pub?gid=961875835&single=true&output=csv')\n",
        "\n",
        "# step-3:feature engineering\n",
        "df['DateTime']=pd.to_datetime(df['DateTime'])\n",
        "df['Hour']=df['DateTime'].dt.hour\n",
        "df['DayofWeek']=df['DateTime'].dt.dayofweek\n",
        "df['IsWeekend']=df['DayofWeek'].apply(lambda x : 1 if x in[6] else 0)\n",
        "\n",
        "# step-4:feature(x) target(y)\n",
        "x=df[['Hour', 'DayofWeek', 'IsWeekend']]\n",
        "y=df[['Vehicles']]\n",
        "\n",
        "# step-5: train test split\n",
        "x_train, x_test, y_train, y_test=train_test_split(x,y, test_size=0.2, random_state=42)\n",
        "\n",
        "# step-6:train xGBoost\n",
        "xgb_model=xgb.XGBRegressor(\n",
        "    n_estimators=200,\n",
        "    learning_rate=0.1,\n",
        "    max_depth=3,\n",
        "    random_state=42\n",
        ")\n",
        "\n",
        "# step-7: predictions\n",
        "xgb_model.fit(x_train, y_train)\n",
        "y_pred_xgb=xgb_model.predict(x_test)\n",
        "\n",
        "# step-8: Evaluate Model\n",
        "mse=mean_squared_error(y_test, y_pred_xgb)\n",
        "rmse=np.sqrt(mse)\n",
        "r2=r2_score(y_test, y_pred_xgb)\n",
        "\n",
        "print('XGBoost Regression Model')\n",
        "print('RMSE:',rmse)\n",
        "print('R2 score:', r2)\n"
      ]
    },
    {
      "cell_type": "code",
      "execution_count": null,
      "metadata": {
        "cellView": "form",
        "collapsed": true,
        "id": "eAqmUrGEsXMs"
      },
      "outputs": [],
      "source": [
        "# @title 11. Evaluate model performance using RMSE and R². Compare models and comment on results.\n",
        "#=============================================================Logical_Part========================================================================================\n",
        "# step-1: import require library functions\n",
        "import numpy as np\n",
        "import pandas as pd\n",
        "import matplotlib.pyplot as plt\n",
        "import matplotlib as mpl\n",
        "\n",
        "from sklearn.model_selection import train_test_split\n",
        "from sklearn.linear_model import LinearRegression\n",
        "from sklearn.ensemble import RandomForestRegressor\n",
        "from sklearn.metrics import mean_squared_error, r2_score\n",
        "import xgboost as xgb\n",
        "\n",
        "mpl.rc('ytick', direction='in')\n",
        "\n",
        "# step-2: load deta file\n",
        "df = pd.read_csv('https://docs.google.com/spreadsheets/d/e/2PACX-1vRNjLy1z3pmGHGjiRjN1mmNEYIjebkBlhav-5mgd9OCGGDwFnL_LPRXvoBThu-JPDZVINbYb1I6Yp3I/pub?gid=961875835&single=true&output=csv')\n",
        "\n",
        "# step-3:feature engineering\n",
        "df['DateTime']=pd.to_datetime(df['DateTime'])\n",
        "df['Hour']=df['DateTime'].dt.hour\n",
        "df['DayofWeek']=df['DateTime'].dt.dayofweek\n",
        "df['IsWeekend']=df['DayofWeek'].apply(lambda x : 1 if x in[6] else 0)\n",
        "\n",
        "\n",
        "# step-4: Features & Target\n",
        "X = df[['Hour', 'DayofWeek', 'IsWeekend']]  # Features\n",
        "y = df['Vehicles']                          # Target\n",
        "\n",
        "# step-5: Train-Test Split (80/20)\n",
        "X_train, X_test, y_train, y_test = train_test_split(\n",
        "    X, y, test_size=0.2, random_state=42\n",
        ")\n",
        "\n",
        "\n",
        "# step-7: Linear Regression\n",
        "lin_model = LinearRegression()\n",
        "lin_model.fit(X_train, y_train)\n",
        "y_pred_lin = lin_model.predict(X_test)\n",
        "\n",
        "rmse_lin = np.sqrt(mean_squared_error(y_test, y_pred_lin))\n",
        "r2_lin = r2_score(y_test, y_pred_lin)\n",
        "\n",
        "\n",
        "#step-8: Random Forest\n",
        "rf_model = RandomForestRegressor(n_estimators=100, random_state=42)\n",
        "rf_model.fit(X_train, y_train)\n",
        "y_pred_rf = rf_model.predict(X_test)\n",
        "\n",
        "rmse_rf = np.sqrt(mean_squared_error(y_test, y_pred_rf))\n",
        "r2_rf = r2_score(y_test, y_pred_rf)\n",
        "\n",
        "\n",
        "# step-9: XGBoost\n",
        "xgb_model = xgb.XGBRegressor(n_estimators=100, random_state=42)\n",
        "xgb_model.fit(X_train, y_train)\n",
        "y_pred_xgb = xgb_model.predict(X_test)\n",
        "\n",
        "rmse_xgb = np.sqrt(mean_squared_error(y_test, y_pred_xgb))\n",
        "r2_xgb = r2_score(y_test, y_pred_xgb)\n",
        "\n",
        "\n",
        "# Print Results\n",
        "\n",
        "print(\"📊 Model Comparison Results\")\n",
        "print(f\"Linear Regression -> RMSE: {rmse_lin:.2f}, R²: {r2_lin:.3f}\")\n",
        "print(f\"Random Forest     -> RMSE: {rmse_rf:.2f}, R²: {r2_rf:.3f}\")\n",
        "print(f\"XGBoost           -> RMSE: {rmse_xgb:.2f}, R²: {r2_xgb:.3f}\")\n",
        "\n",
        "#===============================================================================Design_Part=============================================================================\n",
        "models = [\"Linear\", \"RandomForest\", \"XGBoost\"]\n",
        "rmse_scores = [rmse_lin, rmse_rf, rmse_xgb]\n",
        "r2_scores = [r2_lin, r2_rf, r2_xgb]\n",
        "\n",
        "plt.figure(figsize=(12,5))\n",
        "\n",
        "# RMSE Bar Chart\n",
        "plt.subplot(1,2,1)\n",
        "plt.bar(models, rmse_scores, color=[\"#1f77b4\",\"#2ca02c\",\"#ff7f0e\"], zorder=5)\n",
        "plt.title(\"RMSE Comparison\", fontsize=16, color=\"purple\", pad=10)\n",
        "plt.ylabel(\"RMSE (Lower is Better)\", fontsize=14, color=\"purple\")\n",
        "plt.xlabel('Model Comparison Results', fontsize=14, color='purple')\n",
        "plt.grid(axis=\"y\", linestyle=\"-\", alpha=0.7, color='grey')\n",
        "plt.xticks(fontsize=14, color='blue')\n",
        "plt.yticks(fontsize=14, color='blue')\n",
        "plt.tick_params(axis='x', length=10, width=2, color='green')\n",
        "plt.tick_params(axis='y', length=10, width=2, color='green')\n",
        "\n",
        "# R² Bar Chart\n",
        "plt.subplot(1,2,2)\n",
        "plt.bar(models, r2_scores, color=[\"#1f77b4\",\"#2ca02c\",\"#ff7f0e\"], zorder=5)\n",
        "plt.title(\"R² Comparison\", fontsize=16, color=\"purple\", pad=10)\n",
        "plt.ylabel(\"R² Score (Higher is Better)\", fontsize=14, color=\"purple\")\n",
        "plt.xlabel('Model Comparison Results', fontsize=14, color='purple')\n",
        "plt.grid(axis=\"y\", linestyle=\"-\", alpha=0.7, color='grey')\n",
        "plt.xticks(fontsize=14, color='blue')\n",
        "plt.yticks(fontsize=14, color='blue')\n",
        "plt.tick_params(axis='x', length=10, width=2, color='green')\n",
        "plt.tick_params(axis='y', length=10, width=2, color='green')\n",
        "\n",
        "\n",
        "print('\\n📊 Evaluation Metrics Recap')\n",
        "print(' \"RMSE (Root Mean Squared Error):আসল আর প্রেডিক্টেড মানের মধ্যে গড় পার্থক্য, 👉 যত কম, তত ভালো\" ')\n",
        "print(' \"R² (R-squared):টার্গেট ভ্যারিয়েশনের কত শতাংশ মডেল explain করছে, 👉 যত ১-এর কাছাকাছি, তত ভালো\" ')\n",
        "\n",
        "print('\\n📝 Compare & Comments')\n",
        "print('\\nLinear Regression:')\n",
        "print('\"RMSE অনেক বেশি → মানে Prediction error বেশি\"')\n",
        "print('\"R² কম (≈0.62) → ডেটার ভ্যারিয়েশন তেমন explain করতে পারছে না\"')\n",
        "print('\"🚩 Baseline মডেল হিসেবে ভালো, কিন্তু বাস্তবে underfit করছে\"')\n",
        "\n",
        "print('\\nRandom Forest:')\n",
        "print('\"RMSE অনেক কমেছে (≈320)\"')\n",
        "print('\"R² বেড়ে 0.87 → ডেটার বড় অংশ explain করছে\"')\n",
        "print('\"🌲 Non-linear pattern ধরতে পারছে বলে ভালো ফলাফল দিচ্ছে\"')\n",
        "\n",
        "print('\\nXGBoost:')\n",
        "print('\"সবচেয়ে কম RMSE (≈305)\"')\n",
        "print('\"সবচেয়ে বেশি R² (≈0.89)\"')\n",
        "print('\"⚡ Gradient boosting পদ্ধতির কারণে ফাইন টিউনিং করে আরও ভালো করা যাবে\"')\n",
        "\n",
        "plt.savefig('Model Comparison.pdf')\n",
        "plt.savefig('Model Comparison.png')\n",
        "\n",
        "plt.tight_layout()\n",
        "plt.show()\n",
        "\n"
      ]
    },
    {
      "cell_type": "markdown",
      "metadata": {
        "id": "M9faE_OgCtDm"
      },
      "source": [
        "## Section D:  Code Analysis & Interpretation"
      ]
    },
    {
      "cell_type": "code",
      "execution_count": null,
      "metadata": {
        "cellView": "form",
        "id": "aIpAiuqDCIBc"
      },
      "outputs": [],
      "source": [
        "# @title 12.1 What are the top three hours with the highest predicted traffic?\n",
        "#=============================================================================logical_part====================================================\n",
        "# step-1: import require library function\n",
        "import numpy as np\n",
        "import pandas as pd\n",
        "import matplotlib.pyplot as plt\n",
        "import matplotlib as mpl\n",
        "mpl.rc('xtick', color='r')\n",
        "mpl.rc('ytick', color='r', direction='in')\n",
        "\n",
        "# step-2: load deta file\n",
        "df = pd.read_csv('https://docs.google.com/spreadsheets/d/e/2PACX-1vRNjLy1z3pmGHGjiRjN1mmNEYIjebkBlhav-5mgd9OCGGDwFnL_LPRXvoBThu-JPDZVINbYb1I6Yp3I/pub?gid=961875835&single=true&output=csv')\n",
        "\n",
        "# step-3: feature engineering\n",
        "df['DateTime']=pd.to_datetime(df['DateTime'])\n",
        "df['Hour']=df['DateTime'].dt.hour\n",
        "\n",
        "# step-4: Calculate max vehicles by hour\n",
        "max_by_hour=df.groupby('Hour')['Vehicles'].max()\n",
        "\n",
        "print('Top three hours  with the highest predicted traffic ')\n",
        "print(max_by_hour.nlargest(3))\n",
        "\n",
        "#==========================================================================Design_Part===========================================================\n",
        "# figure and bar plot\n",
        "plt.figure(figsize=(12,6))\n",
        "max_by_hour.plot(kind='bar', color='blue', alpha=0.8, zorder=5)\n",
        "\n",
        "# title and labels\n",
        "plt.title('top hours with the highest predicted traffic', color='purple', fontsize=20, pad=10)\n",
        "plt.xlabel('Hour', fontsize=16, color='purple', labelpad=5)\n",
        "plt.xticks(rotation=0, fontsize=12)\n",
        "plt.ylabel('Vehicles', fontsize=16, color='purple', labelpad=5)\n",
        "plt.yticks(fontsize=12)\n",
        "plt.tick_params(axis='x', length=10, width=2, color='green')\n",
        "plt.tick_params(axis='y', length=10, width=2, color='green')\n",
        "plt.grid(axis='y', color='grey',linestyle='-')\n",
        "\n",
        "# save file\n",
        "plt.savefig('top hours with the highest predicted traffic.pdf')\n",
        "plt.savefig('top hours with the highest predicted traffic.png')\n",
        "\n",
        "plt.tight_layout()\n",
        "plt.show()\n",
        "\n"
      ]
    },
    {
      "cell_type": "code",
      "execution_count": null,
      "metadata": {
        "cellView": "form",
        "collapsed": true,
        "id": "STt88xTPCH-d"
      },
      "outputs": [],
      "source": [
        "# @title 12.2 Which features contributed the most to the Random Forest model predictions? Explain briefly\n",
        "print('\"সবচেয়ে বেশি অবদান রাখা বৈশিষ্ট্যগুলো:\"')\n",
        "print('1.\"Hour (ঘণ্টা) – কোন সময়ে গাড়ির চাপ বেশি তা নির্ধারণ করে (সকাল-সন্ধ্যার Rush Hour)\"')\n",
        "print('2.\"Day of Week (সপ্তাহের দিন) – কর্মদিবস বনাম ছুটির দিনে ট্রাফিক ভিন্ন হয়\"')\n",
        "print('3.\"Weather (আবহাওয়া যেমন বৃষ্টি, তাপমাত্রা, তুষার) – খারাপ আবহাওয়ায় গাড়ির সংখ্যা কমে বা ভিন্ন হয়\"')\n",
        "print('\\n')\n",
        "print('\"The most contributing features:\"')\n",
        "print('1.\"Hours - Determines when traffic is heaviest (morning-evening rush hour)\"')\n",
        "print('2.\"Day of Week –Traffic differs between weekdays and weekends \"')\n",
        "print('3.\"Weather (Weather such as rain, temperature, snow) - The number of cars decreases or varies in bad weather\"')"
      ]
    },
    {
      "cell_type": "code",
      "execution_count": null,
      "metadata": {
        "collapsed": true,
        "id": "nsMyfKh-56Pd"
      },
      "outputs": [],
      "source": [
        "# @title 12.3 Identify one instance where the model prediction was significantly off and hypothesize why\n",
        "#=============================================================================Logical_Part===============================================\n",
        "# step-1: import require library function\n",
        "import pandas as pd\n",
        "import numpy as np\n",
        "from sklearn.ensemble import RandomForestRegressor\n",
        "from sklearn.model_selection import train_test_split\n",
        "\n",
        "# step-2: load deta file\n",
        "df = pd.read_csv('https://docs.google.com/spreadsheets/d/e/2PACX-1vRNjLy1z3pmGHGjiRjN1mmNEYIjebkBlhav-5mgd9OCGGDwFnL_LPRXvoBThu-JPDZVINbYb1I6Yp3I/pub?gid=961875835&single=true&output=csv')\n",
        "\n",
        "# step-3: New features from DateTime\n",
        "df['DateTime'] = pd.to_datetime(df['DateTime'])\n",
        "df['Hour'] = df['DateTime'].dt.hour\n",
        "df['DayofWeek'] = df['DateTime'].dt.dayofweek\n",
        "df['IsWeekend'] = df['DayofWeek'].apply(lambda x: 1 if x >=5 else 0)\n",
        "\n",
        "# step-4: Features & Target\n",
        "X = df[['Hour','DayofWeek','IsWeekend']]\n",
        "y = df['Vehicles']\n",
        "\n",
        "# step-5: Training / Test Split\n",
        "X_train, X_test, y_train, y_test = train_test_split(X, y, test_size=0.2, random_state=42)\n",
        "\n",
        "# step-6: model_train\n",
        "rf_model = RandomForestRegressor(n_estimators=100, random_state=42)\n",
        "rf_model.fit(X_train, y_train)\n",
        "\n",
        "# step-7: Prediction\n",
        "y_pred = rf_model.predict(X_test)\n",
        "\n",
        "# step-8: Prediction Error\n",
        "results = X_test.copy()\n",
        "results['actual'] = y_test.values\n",
        "results['predicted'] = y_pred\n",
        "results['error'] = np.abs(results['actual'] - results['predicted'])\n",
        "\n",
        "# step-9: Top 5 Error\n",
        "top_5_worst = results.sort_values(by='error', ascending=False).head(5)\n",
        "print(\"Top 5 Worst Prediction Instances:\")\n",
        "print(top_5_worst)\n",
        "\n",
        "print('\\n')\n",
        "print('\"মডেল শুধু Hour, Day of Week, আর Weekend ফিচার ব্যবহার করেছে। কিন্তু গুরুত্বপূর্ণ বিষয় যেমন আবহাওয়া, সরকারি ছুটি, বিশেষ অনুষ্ঠান (কনসার্ট/ম্যাচ/মেলা) এগুলো বিবেচনা করেনি\"')\n",
        "print('\"সন্ধ্যার সময় হঠাৎ করে অফিস ছুটির ভিড়, দুর্ঘটনা, কিংবা রাস্তার কাজ–এর কারণে গাড়ির সংখ্যা অস্বাভাবিকভাবে বেড়ে যেতে পারে\"')\n",
        "print('\"এই ধরনের বাহ্যিক ঘটনা ডেটাতে না থাকায় Random Forest সেই স্পাইক ধরতে পারেনি\"')\n",
        "print('\\n')\n",
        "#==========================================================================Design_Part====================================================\n",
        "import matplotlib.pyplot as plt\n",
        "import seaborn as sns\n",
        "\n",
        "\n",
        "# figure and\n",
        "plt.figure(figsize=(10,6))\n",
        "#sns.set_style(\"whitegrid\")\n",
        "top5 = top_5_worst.reset_index(drop=True)\n",
        "\n",
        "# X-axis positions\n",
        "x = np.arange(len(top5))\n",
        "bar_width = 0.4\n",
        "\n",
        "# Colormap: bigger error -> darker color\n",
        "cmap = plt.cm.Reds\n",
        "norm_error = top5['error'] / top5['error'].max()  # normalize 0-1\n",
        "\n",
        "# Plot actual\n",
        "plt.bar(x - bar_width/2, top5['actual'], width=bar_width, label='Actual', color='skyblue', zorder=5)\n",
        "\n",
        "# Plot predicted with color intensity based on error\n",
        "colors = [cmap(val) for val in norm_error]\n",
        "plt.bar(x + bar_width/2, top5['predicted'], width=bar_width, label='Predicted', color='salmon', zorder=5)\n",
        "\n",
        "# Add text for actual, predicted and error\n",
        "for i in range(len(top5)):\n",
        "    plt.text(i - bar_width/2, top5['actual'][i]+10, f\"{int(top5['actual'][i])}\", ha='center', va='bottom', fontsize=10)\n",
        "    plt.text(i + bar_width/2, top5['predicted'][i]+10, f\"{int(top5['predicted'][i])}\", ha='center', va='bottom', fontsize=10)\n",
        "    plt.text(i + bar_width/2, top5['predicted'][i]+50, f\"error: {int(top5['error'][i])}\", ha='center', va='bottom', fontsize=10, color='red')\n",
        "\n",
        "plt.xticks(x, [f\"Hour {h}\" for h in top5['Hour']], fontsize=12, color='green')\n",
        "plt.yticks(fontsize=12, color='green' )\n",
        "plt.xlabel(\"Hour\", fontsize=12, color='purple', labelpad=10)\n",
        "plt.ylabel(\"Traffic Volume\", fontsize=12, color='purple', labelpad=10)\n",
        "plt.title(\"Top 5 Worst Prediction Instances (Actual vs Predicted with Error)\", fontsize=14, color='purple', pad=10)\n",
        "plt.legend()\n",
        "plt.grid(axis=\"y\", color='grey')\n",
        "\n",
        "plt.savefig('Top 5 Worst Prediction Instances.pdf')\n",
        "plt.savefig('Top 5 Worst Prediction Instances.png')\n",
        "plt.tight_layout()\n",
        "plt.show()\n",
        "\n"
      ]
    },
    {
      "cell_type": "markdown",
      "metadata": {
        "id": "mcWE_4Y_CwxI"
      },
      "source": [
        "## Section E: Reflection & Learning"
      ]
    },
    {
      "cell_type": "code",
      "execution_count": null,
      "metadata": {
        "cellView": "form",
        "id": "yK9qZCPACzEp"
      },
      "outputs": [],
      "source": [
        "# @title 13.1 Describe in your own words what patterns or relationships the machine has captured\n",
        "print('\"মেশিন আসলে “কখন ট্রাফিক বেশি আর কখন কম হয়” এই নিয়মটাই শিখেছে\"')\n",
        "print('\" সময়, দিন, আর সপ্তাহের ছুটি মিলিয়ে গাড়ির চলাচলের একটা রিপিটেড প্যাটার্ন মডেল ক্যাপচার করেছে\"')"
      ]
    },
    {
      "cell_type": "code",
      "execution_count": null,
      "metadata": {
        "cellView": "form",
        "id": "heze5ky7Czyx"
      },
      "outputs": [],
      "source": [
        "# @title 13.2 Explain what you personally learned from this exercise regarding traffic patterns,feature importance, and model behavior\n",
        "print('\\n')\n",
        "print('\" ব্যক্তিগত উপলব্ধি\"')\n",
        "print('\"শুধু মডেল ট্রেন করা যথেষ্ট নয়, বরং সঠিক বৈশিষ্ট্য (features) খুঁজে বের করা অনেক বেশি গুরুত্বপূর্ণ\"')\n",
        "print('\"মডেল আসলে আমাদের ডেটা অনুযায়ীই \"শেখে\", তাই ডেটাতে যা নেই সেটা মডেল কখনও ধরতে পারবে না \"')\n",
        "print('\" বিশ্লেষণের সময় গ্রাফ, error আর feature importance দেখে মডেলের আচরণ বোঝা খুব জরুরি\"')\n"
      ]
    },
    {
      "cell_type": "markdown",
      "metadata": {
        "id": "qCxYiV4yC6R0"
      },
      "source": [
        "## Section F: Reflection & Learning\n"
      ]
    },
    {
      "cell_type": "code",
      "execution_count": null,
      "metadata": {
        "cellView": "form",
        "id": "FQHy5BE8C-D2"
      },
      "outputs": [],
      "source": [
        "# @title 14.1 Based on this output, explain in a short essay (3-5 sentences) how this model prediction could help a city traffic planner make real-world decisions.\n",
        "print('\\n')\n",
        "print('\"মডেলটি যদি পরবর্তী ঘণ্টার ট্রাফিক আয়তন পূর্বাভাস দেয়, তবে শহরের ট্রাফিক পরিকল্পনাকারী আগাম সিদ্ধান্ত নিতে পারে\"')\n",
        "print('\"উদাহরণস্বরূপ, যদি দেখা যায় সকাল ৮টায় যানবাহনের চাপ বেশি হবে, তাহলে ট্রাফিক সিগন্যালের সময়সূচি সমন্বয়,\"')\n",
        "print('\" অতিরিক্ত ট্রাফিক পুলিশ মোতায়েন বা বিকল্প রুট খোলা যেতে পারে\"')\n",
        "print('\"এতে যানজট কমবে এবং যাত্রীদের চলাচল সহজ হবে\"')\n",
        "print('\"ম্যানুয়ালি চার্ট বা গড় দেখালে আমরা কেবল অতীতের ধরণ বুঝতে পারি, কিন্তু মডেল ভবিষ্যতের পরিস্থিতি অনুমান করতে পারে\"')\n",
        "print('\"এটি গুরুত্বপূর্ণ কারণ এটি শহরের কার্যক্রমকে আরও দক্ষ এবং পরিকল্পিতভাবে পরিচালনা করতে সাহায্য করে\"')"
      ]
    },
    {
      "cell_type": "code",
      "execution_count": null,
      "metadata": {
        "cellView": "form",
        "id": "aUVSf2WcDHBq"
      },
      "outputs": [],
      "source": [
        "# @title 14.2 Critically reflect: What is the difference between what you could observe manually (charts, averages) and what the model predicts? Why is this valuable?\n",
        "print('\\n')\n",
        "print('\"ম্যানুয়ালি পর্যবেক্ষণ করলে আমরা শুধু অতীতের তথ্য যেমন চার্ট বা গড় ট্রাফিক দেখতে পারি\"')\n",
        "print('\"এগুলো থেকে আমরা বুঝতে পারি যে কোন সময়ে কম এবং কোন সময়ে বেশি যানজট হয়, কিন্তু ভবিষ্যতের পরিস্থিতি সম্পর্কে কিছু বলতে পারি না\"')\n",
        "print('\\n\"পার্থক্য , ম্যানুয়ালি পর্যবেক্ষণ করলে আমরা শুধু অতীতের তথ্য যেমন (চার্ট বা গড় )ইত্যাদি দেখতে পারি, কিন্তু ভবিষ্যতের পরিস্থিতি সম্পর্কে কোনো ধারণা দিতে পারি না \"')\n",
        "print('\\n\"এটি মূল্যবান কারণ পরিকল্পনাকারীরা আগেভাগে ব্যবস্থা নিতে পারেন—যেমন সিগন্যাল পরিবর্তন, বিকল্প রুট খোলা বা অতিরিক্ত পুলিশ মোতায়েন\"')\n",
        "print('\"ফলে মডেল শুধু তথ্য বোঝার জন্য নয়, বরং ভবিষ্যত-নির্ভর সিদ্ধান্ত গ্রহণের জন্য কার্যকর হাতিয়ার\"')\n"
      ]
    },
    {
      "cell_type": "code",
      "execution_count": null,
      "metadata": {
        "id": "qq1cRKngDG-y"
      },
      "outputs": [],
      "source": []
    },
    {
      "cell_type": "markdown",
      "metadata": {
        "id": "-xzBBCouDHrK"
      },
      "source": [
        "## Section G: Visualization & Insights"
      ]
    },
    {
      "cell_type": "code",
      "source": [
        "# @title 15.Plot actual vs predicted traffic volumes for the test set\n",
        "#=======================================================================Logical_Part=============================================================\n",
        "# step-1: import require library functions\n",
        "import numpy as np\n",
        "import pandas as pd\n",
        "import matplotlib.pyplot as plt\n",
        "import matplotlib as mpl\n",
        "import seaborn as sns\n",
        "from sklearn.model_selection import train_test_split\n",
        "from sklearn.ensemble import RandomForestRegressor\n",
        "\n",
        "\n",
        "mpl.rc('xtick', color='r')\n",
        "mpl.rc('ytick', color='r')\n",
        "\n",
        "# step-2: load deta file\n",
        "df = pd.read_csv('https://docs.google.com/spreadsheets/d/e/2PACX-1vRNjLy1z3pmGHGjiRjN1mmNEYIjebkBlhav-5mgd9OCGGDwFnL_LPRXvoBThu-JPDZVINbYb1I6Yp3I/pub?gid=961875835&single=true&output=csv')\n",
        "\n",
        "# step-3: New features from DateTime\n",
        "df['DateTime']= pd.to_datetime(df['DateTime'])\n",
        "df['Hour']=df['DateTime'].dt.hour\n",
        "df['DayofWeek']=df['DateTime'].dt.dayofweek\n",
        "df['IsWeekend']=df['DayofWeek'].apply(lambda x :1 if x >=5 else 0)\n",
        "\n",
        "#step-4: frature and target\n",
        "x=df[['Hour', 'DayofWeek', 'IsWeekend']]\n",
        "y=df[['Vehicles']]\n",
        "\n",
        "# step-5: traning and test\n",
        "x_train, x_test, y_train, y_test=train_test_split(x,y, test_size=0.2, random_state=42)\n",
        "\n",
        "# step-6: model traning\n",
        "rf_model=RandomForestRegressor(n_estimators=100, random_state=42)\n",
        "rf_model.fit(x_train, y_train)\n",
        "\n",
        "\n",
        "# step-7: prediction\n",
        "y_pred=rf_model.predict(x_test)\n",
        "\n",
        "# step-8: prediction error\n",
        "results=x_test.copy()\n",
        "results['actual']=y_test.values\n",
        "results['predicted']=y_pred\n",
        "#results['error'] = np.abs(results['actual'] - results['predicted'])\n",
        "\n",
        "#==========================================================================Design_Part===============================================\n",
        "\n",
        "plt.figure(figsize=(8,6))\n",
        "\n",
        "# Actual points\n",
        "plt.scatter(range(len(y_test)), y_test, alpha=0.6, color='blue', label='Actual', edgecolors='k')\n",
        "\n",
        "# Predicted points\n",
        "plt.scatter(range(len(y_pred)), y_pred, alpha=0.6, color='red', label='Predicted', edgecolors='k')\n",
        "\n",
        " # title and labels\n",
        "plt.xlabel('Predicted Traffic Volumes', color='purple', fontsize=16, labelpad=8)\n",
        "plt.ylabel(\"Actual Traffic Volume\", color=\"purple\", fontsize=16, labelpad=8)\n",
        "plt.title(\"Actual vs Predicted Traffic Volumes\", color='purple', fontsize=20, pad=10)\n",
        "plt.grid(axis='y', linestyle=\"-\", alpha=0.7, color='pink')\n",
        "plt.xticks(fontsize=16)\n",
        "plt.yticks(fontsize=16)\n",
        "plt.legend(fontsize=12)\n",
        "\n",
        "plt.savefig('Actual vs Predicted Traffic Volumes.pdf')\n",
        "plt.savefig('Actual vs Predicted Traffic Volumes.png')\n",
        "plt.tight_layout()\n",
        "plt.show()\n"
      ],
      "metadata": {
        "id": "f_Me5p3Z2oYg",
        "cellView": "form"
      },
      "execution_count": null,
      "outputs": []
    },
    {
      "cell_type": "code",
      "execution_count": null,
      "metadata": {
        "cellView": "form",
        "id": "EkE8hphNDLSE"
      },
      "outputs": [],
      "source": [
        "# @title 16.Summarize key findings and suggest how this prediction can help city planners\n",
        "print('\\n')\n",
        "print('নগর পরিকল্পনাকারীদের জন্য পরামর্শ')\n",
        "print('মডেলের পূর্বাভাস ব্যবহার করে কোথায় এবং কখন ট্রাফিক বেশি হতে পারে তা আগেই বোঝা সম্ভব, ফলে নতুন রাস্তা, ওভারপাস বা বিকল্প রুট পরিকল্পনা করা যাবে।')\n",
        "print('পিক আওয়ারে সিগনাল টাইমিং সমন্বয়, ট্রাফিক পুলিশ মোতায়েন বা গণপরিবহন রুট পরিবর্তন করা সহজ হবে।')\n",
        "print('যে এলাকায় মডেল ধারাবাহিকভাবে উচ্চ ভলিউম দেখাচ্ছে, সেখানে বাস/মেট্রো সেবা বাড়ানো যেতে পারে।')\n",
        "print('আউটলাইয়ার ডেটা দেখে বিশেষ অনুষ্ঠান, আবহাওয়ার প্রভাব বা ছুটির দিনে ট্রাফিক বাড়ার প্রবণতা চিহ্নিত করে নীতি প্রণয়ন করা যাবে।')\n",
        "print(' ')"
      ]
    },
    {
      "cell_type": "markdown",
      "metadata": {
        "id": "BjFikeTkDMUs"
      },
      "source": [
        "## Section H"
      ]
    },
    {
      "cell_type": "code",
      "execution_count": null,
      "metadata": {
        "id": "Av2rK6czDPLF"
      },
      "outputs": [],
      "source": []
    },
    {
      "cell_type": "code",
      "execution_count": null,
      "metadata": {
        "id": "rs_hxalNDPfW"
      },
      "outputs": [],
      "source": []
    },
    {
      "cell_type": "markdown",
      "metadata": {
        "id": "snjgK_-BDREW"
      },
      "source": [
        "## Section I"
      ]
    },
    {
      "cell_type": "code",
      "execution_count": null,
      "metadata": {
        "id": "Pc2fveTTDTQY"
      },
      "outputs": [],
      "source": []
    },
    {
      "cell_type": "code",
      "execution_count": null,
      "metadata": {
        "id": "tpGjejWHDqUD"
      },
      "outputs": [],
      "source": []
    },
    {
      "cell_type": "code",
      "execution_count": null,
      "metadata": {
        "id": "OwDG92eBDqRC"
      },
      "outputs": [],
      "source": []
    }
  ],
  "metadata": {
    "colab": {
      "collapsed_sections": [
        "sEbBmaClik7J",
        "Bfd9_WfekXoW",
        "v4ShKLnpklfU",
        "BZaO_oDanHbI",
        "2reh2DYqniHd",
        "K_QnoY99M9Px",
        "qikhxozAoKp7",
        "I_TXIkk6owI9",
        "JyQGxCPIpgae",
        "vZIwIUv2L41D",
        "rxhnVMg-Moxa",
        "k1ZwYMBkMtn8",
        "sLHt5-hTMzVv",
        "XAMAzPIMM3dp",
        "Fs8ZwUqEoiyq",
        "0zc3PeZKiBId",
        "BdEROG3u2VTK",
        "01WNbwI58OVz",
        "-sapMVDNgBHz",
        "1E4SoSBHWz_k",
        "aY3GLQpaMKBk",
        "5ggp1Im3MRUf",
        "cb0TyKLAWmHh",
        "4FASqQ_QqzRH",
        "vd9onD6_kXoE",
        "3SI7PPH-e7NE",
        "Bblbtt2QPPmW",
        "7BwEpojmGKyI",
        "iodH7hCPHS8E",
        "OIqytZiHvA6Y",
        "vzN1xqKKvmwb",
        "xeJpFzwevsxs",
        "ylpb-YDOdfiV",
        "4jAi7xf1drJz",
        "mgmgjH7Agyzg",
        "LvacOPTZkGNy",
        "vIbk2WNbnbJ2",
        "_K9ellNWnixU",
        "4HlY9EBHKKw6",
        "Vst1hvpy7s1H",
        "JoMxSuVfnPi4",
        "oeXMPfQMCQq4",
        "NBMXidGCCdW2",
        "PKEHHwx7CoCc",
        "M9faE_OgCtDm",
        "mcWE_4Y_CwxI",
        "qCxYiV4yC6R0"
      ],
      "provenance": []
    },
    "kernelspec": {
      "display_name": "Python 3",
      "name": "python3"
    },
    "language_info": {
      "name": "python"
    }
  },
  "nbformat": 4,
  "nbformat_minor": 0
}